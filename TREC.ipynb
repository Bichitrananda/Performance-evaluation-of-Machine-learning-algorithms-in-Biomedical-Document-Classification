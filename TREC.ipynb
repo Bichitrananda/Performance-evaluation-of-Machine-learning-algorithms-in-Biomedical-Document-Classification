{
  "nbformat": 4,
  "nbformat_minor": 0,
  "metadata": {
    "colab": {
      "name": "TREC.ipynb",
      "provenance": [],
      "authorship_tag": "ABX9TyNF9XAQPTuGPk7Ld+WLB6U2",
      "include_colab_link": true
    },
    "kernelspec": {
      "name": "python3",
      "display_name": "Python 3"
    }
  },
  "cells": [
    {
      "cell_type": "markdown",
      "metadata": {
        "id": "view-in-github",
        "colab_type": "text"
      },
      "source": [
        "<a href=\"https://colab.research.google.com/github/Bichitrananda/Performance-evaluation-of-Machine-learning-algorithms-in-Biomedical-Document-Classification/blob/master/TREC.ipynb\" target=\"_parent\"><img src=\"https://colab.research.google.com/assets/colab-badge.svg\" alt=\"Open In Colab\"/></a>"
      ]
    },
    {
      "cell_type": "code",
      "metadata": {
        "id": "omIq_KVRZRNJ",
        "colab_type": "code",
        "outputId": "ab394e7c-4d85-4114-8ac8-0c3a5460a2ae",
        "colab": {
          "base_uri": "https://localhost:8080/",
          "height": 122
        }
      },
      "source": [
        "from google.colab import drive\n",
        "drive.mount(\"/content/gdrive\")"
      ],
      "execution_count": 0,
      "outputs": [
        {
          "output_type": "stream",
          "text": [
            "Go to this URL in a browser: https://accounts.google.com/o/oauth2/auth?client_id=947318989803-6bn6qk8qdgf4n4g3pfee6491hc0brc4i.apps.googleusercontent.com&redirect_uri=urn%3aietf%3awg%3aoauth%3a2.0%3aoob&response_type=code&scope=email%20https%3a%2f%2fwww.googleapis.com%2fauth%2fdocs.test%20https%3a%2f%2fwww.googleapis.com%2fauth%2fdrive%20https%3a%2f%2fwww.googleapis.com%2fauth%2fdrive.photos.readonly%20https%3a%2f%2fwww.googleapis.com%2fauth%2fpeopleapi.readonly\n",
            "\n",
            "Enter your authorization code:\n",
            "··········\n",
            "Mounted at /content/gdrive\n"
          ],
          "name": "stdout"
        }
      ]
    },
    {
      "cell_type": "code",
      "metadata": {
        "id": "tyid7C5bZVCN",
        "colab_type": "code",
        "outputId": "42e6435a-cee4-40c6-e5ab-d3b8305bd64b",
        "colab": {
          "base_uri": "https://localhost:8080/",
          "height": 34
        }
      },
      "source": [
        "cd gdrive/My Drive"
      ],
      "execution_count": 0,
      "outputs": [
        {
          "output_type": "stream",
          "text": [
            "/content/gdrive/My Drive\n"
          ],
          "name": "stdout"
        }
      ]
    },
    {
      "cell_type": "code",
      "metadata": {
        "id": "MBAMhn7FMZn8",
        "colab_type": "code",
        "outputId": "2ebe2574-64a3-4bf2-bc26-34cfc128b299",
        "colab": {
          "base_uri": "https://localhost:8080/",
          "height": 578
        }
      },
      "source": [
        "ls"
      ],
      "execution_count": 0,
      "outputs": [
        {
          "output_type": "stream",
          "text": [
            " 20_cnn_model.json             'Getting started.pdf'\n",
            " 20n_cnn_model1.json            glove.6B.50d.txt\n",
            " 20n_cnn_model.json             IMDB_weights.best.hdf5\n",
            " 20news_weights.best1.hdf5      \u001b[0m\u001b[01;34mMISSION\u001b[0m/\n",
            " 20news_weights.best.hdf5       model.json\n",
            " BC3_part1.csv                  model.yaml\n",
            " BC3_part2.csv                  \u001b[01;34modia-dataset\u001b[0m/\n",
            " \u001b[01;34mBENGALI\u001b[0m/                       project_1_reuter.ipynb\n",
            " bp_mll_keras.py                \u001b[01;34m__pycache__\u001b[0m/\n",
            " bp_mll.py                      RCNN_BC3-P2.ipynb\n",
            " cnn_frs_farm_model.json        Reuter_cnn_model.json\n",
            "\u001b[01;34m'Colab Notebooks'\u001b[0m/              Reuter_weights.best.hdf5\n",
            "'Copy of farm-ads_tr.csv'       \u001b[01;34mRMDL\u001b[0m/\n",
            "'Copy of FRS_TREC.ipynb'       \u001b[01;34m'ROUGH SET'\u001b[0m/\n",
            " data1.csv                      \u001b[01;34mSVM-CNN\u001b[0m/\n",
            " data3.csv                      test.csv\n",
            " data4.csv                      test_labels.csv\n",
            " data.csv                       \u001b[01;34mTEXT_CODE\u001b[0m/\n",
            " data_WOS5736.csv               text_feature_extraction.py\n",
            "\u001b[01;34m'DEEP LEARING'\u001b[0m/                 train.csv\n",
            " diabetes.csv                   trec.csv\n",
            " diabetes.ipynb                 Untitled0.ipynb\n",
            " DNN_TREC_embed.ipynb           Untitled1.ipynb\n",
            " Download_WOS.py                Untitled2.ipynb\n",
            " farm-ads_tr.csv                weights.best.hdf5\n",
            " \u001b[01;34mFRS\u001b[0m/                           WOS11967_cnn_model.json\n",
            " frs_BC3-p1_cnn_model.json      WOS11967_weights.best.hdf5\n",
            " frs_bc3-p2_cnn_model.json      WOS46985_weights.best.hdf5\n",
            " frs_bc3-p2_weights.best.hdf5   WOS5736_cnn_model_frs.json\n",
            " frs_farm_weights.best.hdf5     WOS5736_cnn_model.json\n",
            " frs.py                         WOS5736_weights.best_frs.hdf5\n",
            " frs_trec_cnn_model.json        WOS5736_weights.best.hdf5\n",
            " frs_trec_weights.best.hdf5     yeast.npz\n"
          ],
          "name": "stdout"
        }
      ]
    },
    {
      "cell_type": "code",
      "metadata": {
        "id": "yHCZJ2w4aD_A",
        "colab_type": "code",
        "colab": {}
      },
      "source": [
        "import numpy as np\n",
        "import sklearn\n",
        "from sklearn.datasets import load_files\n",
        "import sys\n",
        "from time import time\n",
        "import matplotlib.pyplot as plt\n",
        "from sklearn.feature_extraction.text import CountVectorizer\n",
        "from sklearn.feature_extraction.text import TfidfTransformer\n",
        "from sklearn.feature_extraction.text import HashingVectorizer\n",
        "from sklearn.feature_selection import SelectFromModel\n",
        "from sklearn.feature_selection import SelectKBest, chi2\n",
        "from sklearn.linear_model import RidgeClassifier\n",
        "from sklearn import tree\n",
        "from sklearn.pipeline import Pipeline\n",
        "from sklearn.svm import LinearSVC\n",
        "from sklearn.linear_model import SGDClassifier\n",
        "from sklearn.linear_model import Perceptron\n",
        "from sklearn.linear_model import PassiveAggressiveClassifier\n",
        "from sklearn.naive_bayes import BernoulliNB, MultinomialNB\n",
        "from sklearn.neural_network import MLPClassifier\n",
        "from sklearn.neighbors import KNeighborsClassifier\n",
        "from sklearn.neighbors import NearestCentroid\n",
        "from sklearn.ensemble import RandomForestClassifier\n",
        "from sklearn.utils.extmath import density\n",
        "from sklearn import metrics\n",
        "from sklearn.model_selection import train_test_split\n",
        "import pandas as pd"
      ],
      "execution_count": 0,
      "outputs": []
    },
    {
      "cell_type": "code",
      "metadata": {
        "id": "etxIh0fVcaqj",
        "colab_type": "code",
        "outputId": "f77ff6d3-310f-41db-f448-b9d7f0d0389d",
        "colab": {
          "base_uri": "https://localhost:8080/",
          "height": 68
        }
      },
      "source": [
        "import nltk\n",
        "nltk.download('punkt')"
      ],
      "execution_count": 0,
      "outputs": [
        {
          "output_type": "stream",
          "text": [
            "[nltk_data] Downloading package punkt to /root/nltk_data...\n",
            "[nltk_data]   Unzipping tokenizers/punkt.zip.\n"
          ],
          "name": "stdout"
        },
        {
          "output_type": "execute_result",
          "data": {
            "text/plain": [
              "True"
            ]
          },
          "metadata": {
            "tags": []
          },
          "execution_count": 6
        }
      ]
    },
    {
      "cell_type": "code",
      "metadata": {
        "id": "uf7VqlWcauxt",
        "colab_type": "code",
        "outputId": "97af3e49-4300-49af-9d65-6b082c711813",
        "colab": {
          "base_uri": "https://localhost:8080/",
          "height": 204
        }
      },
      "source": [
        "import pandas as pd\n",
        "#Data description\n",
        "df2=pd.read_csv('trec.csv')\n",
        "df2.head()\n",
        "#sentences=df2['Abstract']\n",
        "#labels=df2['Label']\n",
        "#split the data into train and test dataset\n",
        "#print(len(sentences))\n"
      ],
      "execution_count": 0,
      "outputs": [
        {
          "output_type": "execute_result",
          "data": {
            "text/html": [
              "<div>\n",
              "<style scoped>\n",
              "    .dataframe tbody tr th:only-of-type {\n",
              "        vertical-align: middle;\n",
              "    }\n",
              "\n",
              "    .dataframe tbody tr th {\n",
              "        vertical-align: top;\n",
              "    }\n",
              "\n",
              "    .dataframe thead th {\n",
              "        text-align: right;\n",
              "    }\n",
              "</style>\n",
              "<table border=\"1\" class=\"dataframe\">\n",
              "  <thead>\n",
              "    <tr style=\"text-align: right;\">\n",
              "      <th></th>\n",
              "      <th>Data</th>\n",
              "      <th>Label</th>\n",
              "    </tr>\n",
              "  </thead>\n",
              "  <tbody>\n",
              "    <tr>\n",
              "      <th>0</th>\n",
              "      <td>b'A visual scene is rapidly segmented into the...</td>\n",
              "      <td>1</td>\n",
              "    </tr>\n",
              "    <tr>\n",
              "      <th>1</th>\n",
              "      <td>b'IL-4 plays a major role in IgE production. I...</td>\n",
              "      <td>4</td>\n",
              "    </tr>\n",
              "    <tr>\n",
              "      <th>2</th>\n",
              "      <td>b'BackgroundAlthough vital statistics have ind...</td>\n",
              "      <td>3</td>\n",
              "    </tr>\n",
              "    <tr>\n",
              "      <th>3</th>\n",
              "      <td>b'Galectins are a continuously expanding famil...</td>\n",
              "      <td>2</td>\n",
              "    </tr>\n",
              "    <tr>\n",
              "      <th>4</th>\n",
              "      <td>b'We show by nanoelectrospray ionization (nano...</td>\n",
              "      <td>2</td>\n",
              "    </tr>\n",
              "  </tbody>\n",
              "</table>\n",
              "</div>"
            ],
            "text/plain": [
              "                                                Data  Label\n",
              "0  b'A visual scene is rapidly segmented into the...      1\n",
              "1  b'IL-4 plays a major role in IgE production. I...      4\n",
              "2  b'BackgroundAlthough vital statistics have ind...      3\n",
              "3  b'Galectins are a continuously expanding famil...      2\n",
              "4  b'We show by nanoelectrospray ionization (nano...      2"
            ]
          },
          "metadata": {
            "tags": []
          },
          "execution_count": 7
        }
      ]
    },
    {
      "cell_type": "code",
      "metadata": {
        "id": "R3SNVfCD6M_Q",
        "colab_type": "code",
        "outputId": "d4ef0900-00db-422d-9077-019433dc7fc8",
        "colab": {
          "base_uri": "https://localhost:8080/",
          "height": 136
        }
      },
      "source": [
        "df2.groupby('Label').size()"
      ],
      "execution_count": 0,
      "outputs": [
        {
          "output_type": "execute_result",
          "data": {
            "text/plain": [
              "Label\n",
              "0    202\n",
              "1    201\n",
              "2    198\n",
              "3    205\n",
              "4    261\n",
              "dtype: int64"
            ]
          },
          "metadata": {
            "tags": []
          },
          "execution_count": 8
        }
      ]
    },
    {
      "cell_type": "code",
      "metadata": {
        "id": "j4_geTvl5y-Z",
        "colab_type": "code",
        "outputId": "513c5a46-e4f7-4eba-cf2a-b0c5c17b6d75",
        "colab": {
          "base_uri": "https://localhost:8080/",
          "height": 51
        }
      },
      "source": [
        "train_data=df2['Data']\n",
        "Y=df2['Label']\n",
        "print(len(train_data))\n",
        "bbc_vec = CountVectorizer(min_df=2, tokenizer=nltk.word_tokenize, encoding='latin-1')\n",
        "bbc_counts = bbc_vec.fit_transform(train_data.values.astype('U'))\n",
        "tfidf_transformer = TfidfTransformer()\n",
        "X = tfidf_transformer.fit_transform(bbc_counts)\n",
        "print(X.shape)"
      ],
      "execution_count": 0,
      "outputs": [
        {
          "output_type": "stream",
          "text": [
            "1067\n",
            "(1067, 9676)\n"
          ],
          "name": "stdout"
        }
      ]
    },
    {
      "cell_type": "code",
      "metadata": {
        "id": "zYPNqwGeaPZw",
        "colab_type": "code",
        "outputId": "71a476e6-23bb-4737-f224-81336317b1f8",
        "colab": {
          "base_uri": "https://localhost:8080/",
          "height": 71
        }
      },
      "source": [
        "#from sklearn.model_selection import StratifiedKFold\n",
        "#kfold = StratifiedKFold(n_splits=10, random_state=7)"
      ],
      "execution_count": 0,
      "outputs": [
        {
          "output_type": "stream",
          "text": [
            "/usr/local/lib/python3.6/dist-packages/sklearn/model_selection/_split.py:296: FutureWarning: Setting a random_state has no effect since shuffle is False. This will raise an error in 0.24. You should leave random_state to its default (None), or set shuffle=True.\n",
            "  FutureWarning\n"
          ],
          "name": "stderr"
        }
      ]
    },
    {
      "cell_type": "code",
      "metadata": {
        "id": "CxsrkRjodafW",
        "colab_type": "code",
        "colab": {}
      },
      "source": [
        ""
      ],
      "execution_count": 0,
      "outputs": []
    },
    {
      "cell_type": "code",
      "metadata": {
        "id": "EStX29dLdauc",
        "colab_type": "code",
        "outputId": "b88cb8d4-c436-4a15-cea9-f7ace50bd489",
        "colab": {
          "base_uri": "https://localhost:8080/",
          "height": 858
        }
      },
      "source": [
        "#Comparision of Algorithms\n",
        "from sklearn.model_selection import StratifiedKFold\n",
        "from sklearn.model_selection import cross_val_score\n",
        "from matplotlib import pyplot\n",
        "from sklearn import svm\n",
        "# prepare models\n",
        "models = []\n",
        "models.append(('KNN', KNeighborsClassifier(n_neighbors=10)))\n",
        "models.append(('DT', tree.DecisionTreeClassifier()))\n",
        "#models.append(('KNN', KNeighborsClassifier()))\n",
        "models.append(('MNB', MultinomialNB(alpha=.01)))\n",
        "models.append(('BNB', BernoulliNB(alpha=.01)))\n",
        "models.append(('RF', RandomForestClassifier(n_estimators=100)))\n",
        "models.append(('SVM', svm.SVC()))\n",
        "models.append(('PPN', Perceptron(max_iter=50, tol=1e-3)))\n",
        "models.append(('SGD', SGDClassifier(alpha=.0001, max_iter=50,penalty=\"l1\")))\n",
        "models.append(('Ridge', RidgeClassifier(tol=1e-2, solver=\"sag\")))\n",
        "models.append(('RC', NearestCentroid()))\n",
        "models.append(('PA', PassiveAggressiveClassifier(max_iter=50, tol=1e-3)))\n",
        "models.append(('BPN', MLPClassifier()))\n",
        "\n",
        "\n",
        "# evaluate each model in turn\n",
        "results = []\n",
        "names = []\n",
        "scoring = 'accuracy'\n",
        "for name, model in models:\n",
        "  kfold = StratifiedKFold(n_splits=10)\n",
        "  cv_results = cross_val_score(model, X, Y, cv=kfold, scoring=scoring)\n",
        "  results.append(cv_results)\n",
        "  names.append(name)\n",
        "  msg = \"%s: %f (%f)\" % (name, cv_results.mean(), cv_results.std())\n",
        "  print(msg)\n",
        "# boxplot algorithm comparison\n",
        "fig = pyplot.figure()\n",
        "fig.suptitle('Algorithm Comparison')\n",
        "ax = fig.add_subplot(111)\n",
        "pyplot.boxplot(results)\n",
        "ax.set_xticklabels(names)\n",
        "pyplot.show()"
      ],
      "execution_count": 0,
      "outputs": [
        {
          "output_type": "stream",
          "text": [
            "KNN: 0.895080 (0.031924)\n",
            "DT: 0.854752 (0.020885)\n",
            "MNB: 0.963481 (0.019782)\n",
            "BNB: 0.958826 (0.017764)\n",
            "RF: 0.952222 (0.014741)\n",
            "SVM: 0.970041 (0.015499)\n",
            "PPN: 0.955960 (0.018306)\n",
            "SGD: 0.962564 (0.015586)\n"
          ],
          "name": "stdout"
        },
        {
          "output_type": "stream",
          "text": [
            "/usr/local/lib/python3.6/dist-packages/sklearn/linear_model/_ridge.py:558: UserWarning: \"sag\" solver requires many iterations to fit an intercept with sparse inputs. Either set the solver to \"auto\" or \"sparse_cg\", or set a low \"tol\" and a high \"max_iter\" (especially if inputs are not standardized).\n",
            "  '\"sag\" solver requires many iterations to fit '\n",
            "/usr/local/lib/python3.6/dist-packages/sklearn/linear_model/_ridge.py:558: UserWarning: \"sag\" solver requires many iterations to fit an intercept with sparse inputs. Either set the solver to \"auto\" or \"sparse_cg\", or set a low \"tol\" and a high \"max_iter\" (especially if inputs are not standardized).\n",
            "  '\"sag\" solver requires many iterations to fit '\n",
            "/usr/local/lib/python3.6/dist-packages/sklearn/linear_model/_ridge.py:558: UserWarning: \"sag\" solver requires many iterations to fit an intercept with sparse inputs. Either set the solver to \"auto\" or \"sparse_cg\", or set a low \"tol\" and a high \"max_iter\" (especially if inputs are not standardized).\n",
            "  '\"sag\" solver requires many iterations to fit '\n",
            "/usr/local/lib/python3.6/dist-packages/sklearn/linear_model/_ridge.py:558: UserWarning: \"sag\" solver requires many iterations to fit an intercept with sparse inputs. Either set the solver to \"auto\" or \"sparse_cg\", or set a low \"tol\" and a high \"max_iter\" (especially if inputs are not standardized).\n",
            "  '\"sag\" solver requires many iterations to fit '\n",
            "/usr/local/lib/python3.6/dist-packages/sklearn/linear_model/_ridge.py:558: UserWarning: \"sag\" solver requires many iterations to fit an intercept with sparse inputs. Either set the solver to \"auto\" or \"sparse_cg\", or set a low \"tol\" and a high \"max_iter\" (especially if inputs are not standardized).\n",
            "  '\"sag\" solver requires many iterations to fit '\n",
            "/usr/local/lib/python3.6/dist-packages/sklearn/linear_model/_ridge.py:558: UserWarning: \"sag\" solver requires many iterations to fit an intercept with sparse inputs. Either set the solver to \"auto\" or \"sparse_cg\", or set a low \"tol\" and a high \"max_iter\" (especially if inputs are not standardized).\n",
            "  '\"sag\" solver requires many iterations to fit '\n",
            "/usr/local/lib/python3.6/dist-packages/sklearn/linear_model/_ridge.py:558: UserWarning: \"sag\" solver requires many iterations to fit an intercept with sparse inputs. Either set the solver to \"auto\" or \"sparse_cg\", or set a low \"tol\" and a high \"max_iter\" (especially if inputs are not standardized).\n",
            "  '\"sag\" solver requires many iterations to fit '\n",
            "/usr/local/lib/python3.6/dist-packages/sklearn/linear_model/_ridge.py:558: UserWarning: \"sag\" solver requires many iterations to fit an intercept with sparse inputs. Either set the solver to \"auto\" or \"sparse_cg\", or set a low \"tol\" and a high \"max_iter\" (especially if inputs are not standardized).\n",
            "  '\"sag\" solver requires many iterations to fit '\n",
            "/usr/local/lib/python3.6/dist-packages/sklearn/linear_model/_ridge.py:558: UserWarning: \"sag\" solver requires many iterations to fit an intercept with sparse inputs. Either set the solver to \"auto\" or \"sparse_cg\", or set a low \"tol\" and a high \"max_iter\" (especially if inputs are not standardized).\n",
            "  '\"sag\" solver requires many iterations to fit '\n",
            "/usr/local/lib/python3.6/dist-packages/sklearn/linear_model/_ridge.py:558: UserWarning: \"sag\" solver requires many iterations to fit an intercept with sparse inputs. Either set the solver to \"auto\" or \"sparse_cg\", or set a low \"tol\" and a high \"max_iter\" (especially if inputs are not standardized).\n",
            "  '\"sag\" solver requires many iterations to fit '\n"
          ],
          "name": "stderr"
        },
        {
          "output_type": "stream",
          "text": [
            "Ridge: 0.976591 (0.015217)\n",
            "RC: 0.950370 (0.021312)\n",
            "PA: 0.972844 (0.012127)\n",
            "BPN: 0.971910 (0.011059)\n"
          ],
          "name": "stdout"
        },
        {
          "output_type": "display_data",
          "data": {
            "image/png": "[encoded data removed]",
            "text/plain": [
              "<Figure size 432x288 with 1 Axes>"
            ]
          },
          "metadata": {
            "tags": [],
            "needs_background": "light"
          }
        }
      ]
    },
    {
      "cell_type": "code",
      "metadata": {
        "id": "6t21N0Fmda7c",
        "colab_type": "code",
        "colab": {}
      },
      "source": [
        "#.......Evaluationg Accuracy, precision, recall, f1-score for all algo....#"
      ],
      "execution_count": 0,
      "outputs": []
    },
    {
      "cell_type": "code",
      "metadata": {
        "id": "d-7y2OKnzvN8",
        "colab_type": "code",
        "outputId": "f7ead9e6-ba84-48cd-a034-6c1724e3af40",
        "colab": {
          "base_uri": "https://localhost:8080/",
          "height": 34
        }
      },
      "source": [
        "import numpy as np\n",
        "from sklearn.model_selection import StratifiedKFold\n",
        "skf = StratifiedKFold(n_splits=10) # Define the split - into 2 folds \n",
        "skf.get_n_splits(X,Y)\n",
        "print(skf)"
      ],
      "execution_count": 0,
      "outputs": [
        {
          "output_type": "stream",
          "text": [
            "StratifiedKFold(n_splits=10, random_state=None, shuffle=False)\n"
          ],
          "name": "stdout"
        }
      ]
    },
    {
      "cell_type": "code",
      "metadata": {
        "id": "5_jJpp6orVKA",
        "colab_type": "code",
        "outputId": "ffd0f618-28e6-4944-fcbb-29442ad6453c",
        "colab": {
          "base_uri": "https://localhost:8080/",
          "height": 85
        }
      },
      "source": [
        "#.................SVM................\n",
        "from sklearn.metrics import accuracy_score\n",
        "from sklearn.metrics import precision_score\n",
        "from sklearn.metrics import recall_score\n",
        "from sklearn.metrics import f1_score\n",
        "acc=list();\n",
        "prec=list();\n",
        "recall=list();\n",
        "f1=list();\n",
        "from sklearn import svm\n",
        "model = svm.SVC()\n",
        "for train_index, test_index in skf.split(X,Y):\n",
        "  #print('TRAIN', train_index, “TEST:”, test_index);\n",
        "  X_train, X_test = X[train_index], X[test_index]\n",
        "  y_train, y_test = Y[train_index], Y[test_index]\n",
        "  model.fit(X_train, y_train)\n",
        "  y_pred=model.predict(X_test)\n",
        "  #y_pred=FRS(X_train,y_train,X_test,0.15)\n",
        "  score=accuracy_score(y_test, y_pred)\n",
        "  acc.append(score)\n",
        "  #score1=precision_score(y_test, y_pred, average='weighted')\n",
        "  score1=precision_score(y_test, y_pred, average='weighted')\n",
        "  prec.append(score1)\n",
        "  #score2=recall_score(y_test, y_pred, average='weighted')\n",
        "  score2=recall_score(y_test, y_pred, average='weighted')\n",
        "  recall.append(score2)\n",
        "  #score3=f1_score(y_test, y_pred, average='weighted')  \n",
        "  score3=f1_score(y_test, y_pred, average='weighted')  \n",
        "  f1.append(score3)\n",
        "  a = np.array(acc)\n",
        "\n",
        "print(\"Accuracy:\",a.mean(), a.std())\n",
        "b = np.array(prec)\n",
        "print(\"Precision:\",b.mean(), b.std())\n",
        "c = np.array(recall)\n",
        "print(\"Recall:\",c.mean(), c.std())\n",
        "d = np.array(f1)\n",
        "print(\"F1-score:\",d.mean(), d.std())"
      ],
      "execution_count": 0,
      "outputs": [
        {
          "output_type": "stream",
          "text": [
            "Accuracy: 0.9700405572209487 0.015499039156272536\n",
            "Precision: 0.9713934011699308 0.014875957580320056\n",
            "Recall: 0.9700405572209487 0.015499039156272536\n",
            "F1-score: 0.9698930020659281 0.01563484395453125\n"
          ],
          "name": "stdout"
        }
      ]
    },
    {
      "cell_type": "code",
      "metadata": {
        "id": "Vm357I3xs6X4",
        "colab_type": "code",
        "colab": {}
      },
      "source": [
        ""
      ],
      "execution_count": 0,
      "outputs": []
    },
    {
      "cell_type": "code",
      "metadata": {
        "id": "EMcGG0H4s61w",
        "colab_type": "code",
        "outputId": "5ed910c9-bd70-4f1e-87e5-4132011126d8",
        "colab": {
          "base_uri": "https://localhost:8080/",
          "height": 85
        }
      },
      "source": [
        "#.................KNN................\n",
        "from sklearn.metrics import accuracy_score\n",
        "from sklearn.metrics import precision_score\n",
        "from sklearn.metrics import recall_score\n",
        "from sklearn.metrics import f1_score\n",
        "acc=list();\n",
        "prec=list();\n",
        "recall=list();\n",
        "f1=list();\n",
        "from sklearn import svm\n",
        "model = KNeighborsClassifier(n_neighbors=10)\n",
        "for train_index, test_index in skf.split(X,Y):\n",
        "  #print('TRAIN', train_index, “TEST:”, test_index);\n",
        "  X_train, X_test = X[train_index], X[test_index]\n",
        "  y_train, y_test = Y[train_index], Y[test_index]\n",
        "  model.fit(X_train, y_train)\n",
        "  y_pred=model.predict(X_test)\n",
        "  #y_pred=FRS(X_train,y_train,X_test,0.15)\n",
        "  score=accuracy_score(y_test, y_pred)\n",
        "  acc.append(score)\n",
        "  score1=precision_score(y_test, y_pred, average='weighted')\n",
        "  prec.append(score1)\n",
        "  score2=recall_score(y_test, y_pred, average='weighted')\n",
        "  recall.append(score2)\n",
        "  score3=f1_score(y_test, y_pred, average='weighted')  \n",
        "  f1.append(score3)\n",
        "\n",
        "a = np.array(acc)\n",
        "print(\"Accuracy:\",a.mean(), a.std())\n",
        "b = np.array(prec)\n",
        "print(\"Precision:\",b.mean(), b.std())\n",
        "c = np.array(recall)\n",
        "print(\"Recall:\",c.mean(), c.std())\n",
        "d = np.array(f1)\n",
        "print(\"F1-score:\",d.mean(), d.std())"
      ],
      "execution_count": 0,
      "outputs": [
        {
          "output_type": "stream",
          "text": [
            "Accuracy: 0.895080232763181 0.03192388062057183\n",
            "Precision: 0.9097680815401196 0.027039886282562993\n",
            "Recall: 0.895080232763181 0.03192388062057183\n",
            "F1-score: 0.8951896462910648 0.03167195715423645\n"
          ],
          "name": "stdout"
        }
      ]
    },
    {
      "cell_type": "code",
      "metadata": {
        "id": "uhQWwjjwtgPp",
        "colab_type": "code",
        "colab": {}
      },
      "source": [
        ""
      ],
      "execution_count": 0,
      "outputs": []
    },
    {
      "cell_type": "code",
      "metadata": {
        "id": "7iHgs5BAtger",
        "colab_type": "code",
        "outputId": "7726f012-a1a9-4cfa-910a-edde6bc74bab",
        "colab": {
          "base_uri": "https://localhost:8080/",
          "height": 85
        }
      },
      "source": [
        "#.................DT................\n",
        "from sklearn.metrics import accuracy_score\n",
        "from sklearn.metrics import precision_score\n",
        "from sklearn.metrics import recall_score\n",
        "from sklearn.metrics import f1_score\n",
        "acc=list();\n",
        "prec=list();\n",
        "recall=list();\n",
        "f1=list();\n",
        "from sklearn import tree\n",
        "model = tree.DecisionTreeClassifier()\n",
        "for train_index, test_index in skf.split(X,Y):\n",
        "  #print('TRAIN', train_index, “TEST:”, test_index);\n",
        "  X_train, X_test = X[train_index], X[test_index]\n",
        "  y_train, y_test = Y[train_index], Y[test_index]\n",
        "  model.fit(X_train, y_train)\n",
        "  y_pred=model.predict(X_test)\n",
        "  #y_pred=FRS(X_train,y_train,X_test,0.15)\n",
        "  score=accuracy_score(y_test, y_pred)\n",
        "  acc.append(score)\n",
        "  score1=precision_score(y_test, y_pred, average='weighted')\n",
        "  prec.append(score1)\n",
        "  score2=recall_score(y_test, y_pred, average='weighted')\n",
        "  recall.append(score2)\n",
        "  score3=f1_score(y_test, y_pred, average='weighted')  \n",
        "  f1.append(score3)\n",
        "\n",
        "a = np.array(acc)\n",
        "print(\"Accuracy:\",a.mean(), a.std())\n",
        "b = np.array(prec)\n",
        "print(\"Precision:\",b.mean(), b.std())\n",
        "c = np.array(recall)\n",
        "print(\"Recall:\",c.mean(), c.std())\n",
        "d = np.array(f1)\n",
        "print(\"F1-score:\",d.mean(), d.std())"
      ],
      "execution_count": 0,
      "outputs": [
        {
          "output_type": "stream",
          "text": [
            "Accuracy: 0.8510315640980426 0.02674985327488548\n",
            "Precision: 0.8574319445766392 0.025861949239985926\n",
            "Recall: 0.8510315640980426 0.02674985327488548\n",
            "F1-score: 0.8512055545370414 0.026790815334843194\n"
          ],
          "name": "stdout"
        }
      ]
    },
    {
      "cell_type": "code",
      "metadata": {
        "id": "QtCzG_WAt7hw",
        "colab_type": "code",
        "colab": {}
      },
      "source": [
        ""
      ],
      "execution_count": 0,
      "outputs": []
    },
    {
      "cell_type": "code",
      "metadata": {
        "id": "9Pr3xQw5t7yL",
        "colab_type": "code",
        "outputId": "94ad44ef-904c-4096-ca19-1baab2e9a5d5",
        "colab": {
          "base_uri": "https://localhost:8080/",
          "height": 85
        }
      },
      "source": [
        "#.................RF................\n",
        "from sklearn.metrics import accuracy_score\n",
        "from sklearn.metrics import precision_score\n",
        "from sklearn.metrics import recall_score\n",
        "from sklearn.metrics import f1_score\n",
        "acc=list();\n",
        "prec=list();\n",
        "recall=list();\n",
        "f1=list();\n",
        "from sklearn.ensemble import RandomForestClassifier\n",
        "model = RandomForestClassifier(n_estimators=100)\n",
        "for train_index, test_index in skf.split(X,Y):\n",
        "  #print('TRAIN', train_index, “TEST:”, test_index);\n",
        "  X_train, X_test = X[train_index], X[test_index]\n",
        "  y_train, y_test = Y[train_index], Y[test_index]\n",
        "  model.fit(X_train, y_train)\n",
        "  y_pred=model.predict(X_test)\n",
        "  #y_pred=FRS(X_train,y_train,X_test,0.15)\n",
        "  score=accuracy_score(y_test, y_pred)\n",
        "  acc.append(score)\n",
        "  score1=precision_score(y_test, y_pred, average='weighted')\n",
        "  prec.append(score1)\n",
        "  score2=recall_score(y_test, y_pred, average='weighted')\n",
        "  recall.append(score2)\n",
        "  score3=f1_score(y_test, y_pred, average='weighted')  \n",
        "  f1.append(score3)\n",
        "\n",
        "a = np.array(acc)\n",
        "print(\"Accuracy:\",a.mean(), a.std())\n",
        "b = np.array(prec)\n",
        "print(\"Precision:\",b.mean(), b.std())\n",
        "c = np.array(recall)\n",
        "print(\"Recall:\",c.mean(), c.std())\n",
        "d = np.array(f1)\n",
        "print(\"F1-score:\",d.mean(), d.std())"
      ],
      "execution_count": 0,
      "outputs": [
        {
          "output_type": "stream",
          "text": [
            "Accuracy: 0.9465702697936871 0.018819617559120098\n",
            "Precision: 0.950861477201595 0.017626813220316104\n",
            "Recall: 0.9465702697936871 0.018819617559120098\n",
            "F1-score: 0.9461307030317497 0.01924743267552916\n"
          ],
          "name": "stdout"
        }
      ]
    },
    {
      "cell_type": "code",
      "metadata": {
        "id": "giKjo76uuSNl",
        "colab_type": "code",
        "colab": {}
      },
      "source": [
        ""
      ],
      "execution_count": 0,
      "outputs": []
    },
    {
      "cell_type": "code",
      "metadata": {
        "id": "jdIUnBPcuSbt",
        "colab_type": "code",
        "outputId": "b741e0e1-9019-42bd-8d2b-9619db4b202c",
        "colab": {
          "base_uri": "https://localhost:8080/",
          "height": 85
        }
      },
      "source": [
        "#.................MNB................\n",
        "from sklearn.metrics import accuracy_score\n",
        "from sklearn.metrics import precision_score\n",
        "from sklearn.metrics import recall_score\n",
        "from sklearn.metrics import f1_score\n",
        "acc=list();\n",
        "prec=list();\n",
        "recall=list();\n",
        "f1=list();\n",
        "from sklearn.naive_bayes import BernoulliNB, MultinomialNB\n",
        "model = MultinomialNB(alpha=.01)\n",
        "for train_index, test_index in skf.split(X,Y):\n",
        "  #print('TRAIN', train_index, “TEST:”, test_index);\n",
        "  X_train, X_test = X[train_index], X[test_index]\n",
        "  y_train, y_test = Y[train_index], Y[test_index]\n",
        "  model.fit(X_train, y_train)\n",
        "  y_pred=model.predict(X_test)\n",
        "  #y_pred=FRS(X_train,y_train,X_test,0.15)\n",
        "  score=accuracy_score(y_test, y_pred)\n",
        "  acc.append(score)\n",
        "  score1=precision_score(y_test, y_pred, average='weighted')\n",
        "  prec.append(score1)\n",
        "  score2=recall_score(y_test, y_pred, average='weighted')\n",
        "  recall.append(score2)\n",
        "  score3=f1_score(y_test, y_pred, average='weighted')  \n",
        "  f1.append(score3)\n",
        "\n",
        "a = np.array(acc)\n",
        "print(\"Accuracy:\",a.mean(), a.std())\n",
        "b = np.array(prec)\n",
        "print(\"Precision:\",b.mean(), b.std())\n",
        "c = np.array(recall)\n",
        "print(\"Recall:\",c.mean(), c.std())\n",
        "d = np.array(f1)\n",
        "print(\"F1-score:\",d.mean(), d.std())"
      ],
      "execution_count": 0,
      "outputs": [
        {
          "output_type": "stream",
          "text": [
            "Accuracy: 0.9634808675718567 0.019782119867360913\n",
            "Precision: 0.9647745592489585 0.019310239357929714\n",
            "Recall: 0.9634808675718567 0.019782119867360913\n",
            "F1-score: 0.9630278051894432 0.02047119356694145\n"
          ],
          "name": "stdout"
        }
      ]
    },
    {
      "cell_type": "code",
      "metadata": {
        "id": "3d1qo9qSusd3",
        "colab_type": "code",
        "colab": {}
      },
      "source": [
        ""
      ],
      "execution_count": 0,
      "outputs": []
    },
    {
      "cell_type": "code",
      "metadata": {
        "id": "kTCTqm0YusrE",
        "colab_type": "code",
        "outputId": "1dabea78-eed7-4281-ddbc-c288214b93dd",
        "colab": {
          "base_uri": "https://localhost:8080/",
          "height": 85
        }
      },
      "source": [
        "#.................BNB................\n",
        "from sklearn.metrics import accuracy_score\n",
        "from sklearn.metrics import precision_score\n",
        "from sklearn.metrics import recall_score\n",
        "from sklearn.metrics import f1_score\n",
        "acc=list();\n",
        "prec=list();\n",
        "recall=list();\n",
        "f1=list();\n",
        "from sklearn.naive_bayes import BernoulliNB, MultinomialNB\n",
        "model = BernoulliNB(alpha=.01)\n",
        "for train_index, test_index in skf.split(X,Y):\n",
        "  #print('TRAIN', train_index, “TEST:”, test_index);\n",
        "  X_train, X_test = X[train_index], X[test_index]\n",
        "  y_train, y_test = Y[train_index], Y[test_index]\n",
        "  model.fit(X_train, y_train)\n",
        "  y_pred=model.predict(X_test)\n",
        "  #y_pred=FRS(X_train,y_train,X_test,0.15)\n",
        "  score=accuracy_score(y_test, y_pred)\n",
        "  acc.append(score)\n",
        "  score1=precision_score(y_test, y_pred, average='weighted')\n",
        "  prec.append(score1)\n",
        "  score2=recall_score(y_test, y_pred, average='weighted')\n",
        "  recall.append(score2)\n",
        "  score3=f1_score(y_test, y_pred, average='weighted')  \n",
        "  f1.append(score3)\n",
        "\n",
        "a = np.array(acc)\n",
        "print(\"Accuracy:\",a.mean(), a.std())\n",
        "b = np.array(prec)\n",
        "print(\"Precision:\",b.mean(), b.std())\n",
        "c = np.array(recall)\n",
        "print(\"Recall:\",c.mean(), c.std())\n",
        "d = np.array(f1)\n",
        "print(\"F1-score:\",d.mean(), d.std())"
      ],
      "execution_count": 0,
      "outputs": [
        {
          "output_type": "stream",
          "text": [
            "Accuracy: 0.9588256039499207 0.017764152396005848\n",
            "Precision: 0.9613290974027613 0.015767565241759072\n",
            "Recall: 0.9588256039499207 0.017764152396005848\n",
            "F1-score: 0.9584248028926863 0.018476460198234897\n"
          ],
          "name": "stdout"
        }
      ]
    },
    {
      "cell_type": "code",
      "metadata": {
        "id": "VpCxJEdu9_HC",
        "colab_type": "code",
        "colab": {}
      },
      "source": [
        ""
      ],
      "execution_count": 0,
      "outputs": []
    },
    {
      "cell_type": "code",
      "metadata": {
        "id": "iWD8dDHk5pcD",
        "colab_type": "code",
        "outputId": "1232be85-91ff-4401-ed69-75f844e2fae4",
        "colab": {
          "base_uri": "https://localhost:8080/",
          "height": 85
        }
      },
      "source": [
        "#.................PPN................\n",
        "from sklearn.metrics import accuracy_score\n",
        "from sklearn.metrics import precision_score\n",
        "from sklearn.metrics import recall_score\n",
        "from sklearn.metrics import f1_score\n",
        "acc=list();\n",
        "prec=list();\n",
        "recall=list();\n",
        "f1=list();\n",
        "from sklearn.naive_bayes import BernoulliNB, MultinomialNB\n",
        "model = Perceptron(max_iter=50, tol=1e-3)\n",
        "for train_index, test_index in skf.split(X,Y):\n",
        "  #print('TRAIN', train_index, “TEST:”, test_index);\n",
        "  X_train, X_test = X[train_index], X[test_index]\n",
        "  y_train, y_test = Y[train_index], Y[test_index]\n",
        "  model.fit(X_train, y_train)\n",
        "  y_pred=model.predict(X_test)\n",
        "  #y_pred=FRS(X_train,y_train,X_test,0.15)\n",
        "  score=accuracy_score(y_test, y_pred)\n",
        "  acc.append(score)\n",
        "  score1=precision_score(y_test, y_pred, average='weighted')\n",
        "  prec.append(score1)\n",
        "  score2=recall_score(y_test, y_pred, average='weighted')\n",
        "  recall.append(score2)\n",
        "  score3=f1_score(y_test, y_pred, average='weighted')  \n",
        "  f1.append(score3)\n",
        "\n",
        "a = np.array(acc)\n",
        "print(\"Accuracy:\",a.mean(), a.std())\n",
        "b = np.array(prec)\n",
        "print(\"Precision:\",b.mean(), b.std())\n",
        "c = np.array(recall)\n",
        "print(\"Recall:\",c.mean(), c.std())\n",
        "d = np.array(f1)\n",
        "print(\"F1-score:\",d.mean(), d.std())"
      ],
      "execution_count": 0,
      "outputs": [
        {
          "output_type": "stream",
          "text": [
            "Accuracy: 0.9559601481220245 0.01830617482161013\n",
            "Precision: 0.9588428096632388 0.01703272986699262\n",
            "Recall: 0.9559601481220245 0.01830617482161013\n",
            "F1-score: 0.9558610413737642 0.018304376332213892\n"
          ],
          "name": "stdout"
        }
      ]
    },
    {
      "cell_type": "code",
      "metadata": {
        "id": "Pg46e2JP_uHf",
        "colab_type": "code",
        "colab": {}
      },
      "source": [
        ""
      ],
      "execution_count": 0,
      "outputs": []
    },
    {
      "cell_type": "code",
      "metadata": {
        "id": "wRa0b7PG5_pw",
        "colab_type": "code",
        "outputId": "b190a52f-84be-49bd-a0b3-97ea892e43b9",
        "colab": {
          "base_uri": "https://localhost:8080/",
          "height": 85
        }
      },
      "source": [
        "#.................SGD................\n",
        "from sklearn.metrics import accuracy_score\n",
        "from sklearn.metrics import precision_score\n",
        "from sklearn.metrics import recall_score\n",
        "from sklearn.metrics import f1_score\n",
        "acc=list();\n",
        "prec=list();\n",
        "recall=list();\n",
        "f1=list();\n",
        "from sklearn.naive_bayes import BernoulliNB, MultinomialNB\n",
        "model =SGDClassifier(alpha=.0001, max_iter=50,penalty=\"l1\")\n",
        "for train_index, test_index in skf.split(X,Y):\n",
        "  #print('TRAIN', train_index, “TEST:”, test_index);\n",
        "  X_train, X_test = X[train_index], X[test_index]\n",
        "  y_train, y_test = Y[train_index], Y[test_index]\n",
        "  model.fit(X_train, y_train)\n",
        "  y_pred=model.predict(X_test)\n",
        "  #y_pred=FRS(X_train,y_train,X_test,0.15)\n",
        "  score=accuracy_score(y_test, y_pred)\n",
        "  acc.append(score)\n",
        "  score1=precision_score(y_test, y_pred, average='weighted')\n",
        "  prec.append(score1)\n",
        "  score2=recall_score(y_test, y_pred, average='weighted')\n",
        "  recall.append(score2)\n",
        "  score3=f1_score(y_test, y_pred, average='weighted')  \n",
        "  f1.append(score3)\n",
        "\n",
        "a = np.array(acc)\n",
        "print(\"Accuracy:\",a.mean(), a.std())\n",
        "b = np.array(prec)\n",
        "print(\"Precision:\",b.mean(), b.std())\n",
        "c = np.array(recall)\n",
        "print(\"Recall:\",c.mean(), c.std())\n",
        "d = np.array(f1)\n",
        "print(\"F1-score:\",d.mean(), d.std())"
      ],
      "execution_count": 0,
      "outputs": [
        {
          "output_type": "stream",
          "text": [
            "Accuracy: 0.9634985011461824 0.01930888466396839\n",
            "Precision: 0.9647893072094327 0.018855091296086486\n",
            "Recall: 0.9634985011461824 0.01930888466396839\n",
            "F1-score: 0.9634828655521638 0.019180452160739967\n"
          ],
          "name": "stdout"
        }
      ]
    },
    {
      "cell_type": "code",
      "metadata": {
        "id": "-_z1Ax7FAAMn",
        "colab_type": "code",
        "colab": {}
      },
      "source": [
        ""
      ],
      "execution_count": 0,
      "outputs": []
    },
    {
      "cell_type": "code",
      "metadata": {
        "id": "cg9w-5XZ6BNf",
        "colab_type": "code",
        "outputId": "5ccd833e-5bd4-4e1c-bf82-603def739fa0",
        "colab": {
          "base_uri": "https://localhost:8080/",
          "height": 445
        }
      },
      "source": [
        "#.................Ridge................\n",
        "from sklearn.metrics import accuracy_score\n",
        "from sklearn.metrics import precision_score\n",
        "from sklearn.metrics import recall_score\n",
        "from sklearn.metrics import f1_score\n",
        "acc=list();\n",
        "prec=list();\n",
        "recall=list();\n",
        "f1=list();\n",
        "from sklearn.naive_bayes import BernoulliNB, MultinomialNB\n",
        "model = RidgeClassifier(tol=1e-2, solver=\"sag\")\n",
        "for train_index, test_index in skf.split(X,Y):\n",
        "  #print('TRAIN', train_index, “TEST:”, test_index);\n",
        "  X_train, X_test = X[train_index], X[test_index]\n",
        "  y_train, y_test = Y[train_index], Y[test_index]\n",
        "  model.fit(X_train, y_train)\n",
        "  y_pred=model.predict(X_test)\n",
        "  #y_pred=FRS(X_train,y_train,X_test,0.15)\n",
        "  score=accuracy_score(y_test, y_pred)\n",
        "  acc.append(score)\n",
        "  score1=precision_score(y_test, y_pred, average='weighted')\n",
        "  prec.append(score1)\n",
        "  score2=recall_score(y_test, y_pred, average='weighted')\n",
        "  recall.append(score2)\n",
        "  score3=f1_score(y_test, y_pred, average='weighted')  \n",
        "  f1.append(score3)\n",
        "\n",
        "a = np.array(acc)\n",
        "print(\"Accuracy:\",a.mean(), a.std())\n",
        "b = np.array(prec)\n",
        "print(\"Precision:\",b.mean(), b.std())\n",
        "c = np.array(recall)\n",
        "print(\"Recall:\",c.mean(), c.std())\n",
        "d = np.array(f1)\n",
        "print(\"F1-score:\",d.mean(), d.std())"
      ],
      "execution_count": 0,
      "outputs": [
        {
          "output_type": "stream",
          "text": [
            "/usr/local/lib/python3.6/dist-packages/sklearn/linear_model/_ridge.py:558: UserWarning: \"sag\" solver requires many iterations to fit an intercept with sparse inputs. Either set the solver to \"auto\" or \"sparse_cg\", or set a low \"tol\" and a high \"max_iter\" (especially if inputs are not standardized).\n",
            "  '\"sag\" solver requires many iterations to fit '\n",
            "/usr/local/lib/python3.6/dist-packages/sklearn/linear_model/_ridge.py:558: UserWarning: \"sag\" solver requires many iterations to fit an intercept with sparse inputs. Either set the solver to \"auto\" or \"sparse_cg\", or set a low \"tol\" and a high \"max_iter\" (especially if inputs are not standardized).\n",
            "  '\"sag\" solver requires many iterations to fit '\n",
            "/usr/local/lib/python3.6/dist-packages/sklearn/linear_model/_ridge.py:558: UserWarning: \"sag\" solver requires many iterations to fit an intercept with sparse inputs. Either set the solver to \"auto\" or \"sparse_cg\", or set a low \"tol\" and a high \"max_iter\" (especially if inputs are not standardized).\n",
            "  '\"sag\" solver requires many iterations to fit '\n",
            "/usr/local/lib/python3.6/dist-packages/sklearn/linear_model/_ridge.py:558: UserWarning: \"sag\" solver requires many iterations to fit an intercept with sparse inputs. Either set the solver to \"auto\" or \"sparse_cg\", or set a low \"tol\" and a high \"max_iter\" (especially if inputs are not standardized).\n",
            "  '\"sag\" solver requires many iterations to fit '\n",
            "/usr/local/lib/python3.6/dist-packages/sklearn/linear_model/_ridge.py:558: UserWarning: \"sag\" solver requires many iterations to fit an intercept with sparse inputs. Either set the solver to \"auto\" or \"sparse_cg\", or set a low \"tol\" and a high \"max_iter\" (especially if inputs are not standardized).\n",
            "  '\"sag\" solver requires many iterations to fit '\n",
            "/usr/local/lib/python3.6/dist-packages/sklearn/linear_model/_ridge.py:558: UserWarning: \"sag\" solver requires many iterations to fit an intercept with sparse inputs. Either set the solver to \"auto\" or \"sparse_cg\", or set a low \"tol\" and a high \"max_iter\" (especially if inputs are not standardized).\n",
            "  '\"sag\" solver requires many iterations to fit '\n",
            "/usr/local/lib/python3.6/dist-packages/sklearn/linear_model/_ridge.py:558: UserWarning: \"sag\" solver requires many iterations to fit an intercept with sparse inputs. Either set the solver to \"auto\" or \"sparse_cg\", or set a low \"tol\" and a high \"max_iter\" (especially if inputs are not standardized).\n",
            "  '\"sag\" solver requires many iterations to fit '\n",
            "/usr/local/lib/python3.6/dist-packages/sklearn/linear_model/_ridge.py:558: UserWarning: \"sag\" solver requires many iterations to fit an intercept with sparse inputs. Either set the solver to \"auto\" or \"sparse_cg\", or set a low \"tol\" and a high \"max_iter\" (especially if inputs are not standardized).\n",
            "  '\"sag\" solver requires many iterations to fit '\n",
            "/usr/local/lib/python3.6/dist-packages/sklearn/linear_model/_ridge.py:558: UserWarning: \"sag\" solver requires many iterations to fit an intercept with sparse inputs. Either set the solver to \"auto\" or \"sparse_cg\", or set a low \"tol\" and a high \"max_iter\" (especially if inputs are not standardized).\n",
            "  '\"sag\" solver requires many iterations to fit '\n",
            "/usr/local/lib/python3.6/dist-packages/sklearn/linear_model/_ridge.py:558: UserWarning: \"sag\" solver requires many iterations to fit an intercept with sparse inputs. Either set the solver to \"auto\" or \"sparse_cg\", or set a low \"tol\" and a high \"max_iter\" (especially if inputs are not standardized).\n",
            "  '\"sag\" solver requires many iterations to fit '\n"
          ],
          "name": "stderr"
        },
        {
          "output_type": "stream",
          "text": [
            "Accuracy: 0.9765914300828777 0.015216827038666558\n",
            "Precision: 0.9777530250954154 0.014617985952551685\n",
            "Recall: 0.9765914300828777 0.015216827038666558\n",
            "F1-score: 0.9765215600747121 0.015268057726442798\n"
          ],
          "name": "stdout"
        }
      ]
    },
    {
      "cell_type": "code",
      "metadata": {
        "id": "yc7PsS0nAO6o",
        "colab_type": "code",
        "colab": {}
      },
      "source": [
        ""
      ],
      "execution_count": 0,
      "outputs": []
    },
    {
      "cell_type": "code",
      "metadata": {
        "id": "KMGBUFhr6CtE",
        "colab_type": "code",
        "outputId": "c2650129-e0f3-494a-be80-b1af5776a5cf",
        "colab": {
          "base_uri": "https://localhost:8080/",
          "height": 85
        }
      },
      "source": [
        "#.................RC................\n",
        "from sklearn.metrics import accuracy_score\n",
        "from sklearn.metrics import precision_score\n",
        "from sklearn.metrics import recall_score\n",
        "from sklearn.metrics import f1_score\n",
        "acc=list();\n",
        "prec=list();\n",
        "recall=list();\n",
        "f1=list();\n",
        "from sklearn.naive_bayes import BernoulliNB, MultinomialNB\n",
        "model = NearestCentroid()\n",
        "for train_index, test_index in skf.split(X,Y):\n",
        "  #print('TRAIN', train_index, “TEST:”, test_index);\n",
        "  X_train, X_test = X[train_index], X[test_index]\n",
        "  y_train, y_test = Y[train_index], Y[test_index]\n",
        "  model.fit(X_train, y_train)\n",
        "  y_pred=model.predict(X_test)\n",
        "  #y_pred=FRS(X_train,y_train,X_test,0.15)\n",
        "  score=accuracy_score(y_test, y_pred)\n",
        "  acc.append(score)\n",
        "  score1=precision_score(y_test, y_pred, average='weighted')\n",
        "  prec.append(score1)\n",
        "  score2=recall_score(y_test, y_pred, average='weighted')\n",
        "  recall.append(score2)\n",
        "  score3=f1_score(y_test, y_pred, average='weighted')  \n",
        "  f1.append(score3)\n",
        "\n",
        "a = np.array(acc)\n",
        "print(\"Accuracy:\",a.mean(), a.std())\n",
        "b = np.array(prec)\n",
        "print(\"Precision:\",b.mean(), b.std())\n",
        "c = np.array(recall)\n",
        "print(\"Recall:\",c.mean(), c.std())\n",
        "d = np.array(f1)\n",
        "print(\"F1-score:\",d.mean(), d.std())"
      ],
      "execution_count": 0,
      "outputs": [
        {
          "output_type": "stream",
          "text": [
            "Accuracy: 0.9503703050608359 0.021312436102380282\n",
            "Precision: 0.9526095035089316 0.02018290006246973\n",
            "Recall: 0.9503703050608359 0.021312436102380282\n",
            "F1-score: 0.9502183191368332 0.02149697938751909\n"
          ],
          "name": "stdout"
        }
      ]
    },
    {
      "cell_type": "code",
      "metadata": {
        "id": "R3u9wKz6AvOc",
        "colab_type": "code",
        "colab": {}
      },
      "source": [
        ""
      ],
      "execution_count": 0,
      "outputs": []
    },
    {
      "cell_type": "code",
      "metadata": {
        "id": "vpi7Yi0k6EXw",
        "colab_type": "code",
        "outputId": "58259a77-d8c6-45b9-fa6f-c5edbfae10e2",
        "colab": {
          "base_uri": "https://localhost:8080/",
          "height": 85
        }
      },
      "source": [
        "#.................PA................\n",
        "from sklearn.metrics import accuracy_score\n",
        "from sklearn.metrics import precision_score\n",
        "from sklearn.metrics import recall_score\n",
        "from sklearn.metrics import f1_score\n",
        "acc=list();\n",
        "prec=list();\n",
        "recall=list();\n",
        "f1=list();\n",
        "from sklearn.naive_bayes import BernoulliNB, MultinomialNB\n",
        "model = PassiveAggressiveClassifier(max_iter=50, tol=1e-3)\n",
        "for train_index, test_index in skf.split(X,Y):\n",
        "  #print('TRAIN', train_index, “TEST:”, test_index);\n",
        "  X_train, X_test = X[train_index], X[test_index]\n",
        "  y_train, y_test = Y[train_index], Y[test_index]\n",
        "  model.fit(X_train, y_train)\n",
        "  y_pred=model.predict(X_test)\n",
        "  #y_pred=FRS(X_train,y_train,X_test,0.15)\n",
        "  score=accuracy_score(y_test, y_pred)\n",
        "  acc.append(score)\n",
        "  score1=precision_score(y_test, y_pred, average='weighted')\n",
        "  prec.append(score1)\n",
        "  score2=recall_score(y_test, y_pred, average='weighted')\n",
        "  recall.append(score2)\n",
        "  score3=f1_score(y_test, y_pred, average='weighted')  \n",
        "  f1.append(score3)\n",
        "\n",
        "a = np.array(acc)\n",
        "print(\"Accuracy:\",a.mean(), a.std())\n",
        "b = np.array(prec)\n",
        "print(\"Precision:\",b.mean(), b.std())\n",
        "c = np.array(recall)\n",
        "print(\"Recall:\",c.mean(), c.std())\n",
        "d = np.array(f1)\n",
        "print(\"F1-score:\",d.mean(), d.std())"
      ],
      "execution_count": 0,
      "outputs": [
        {
          "output_type": "stream",
          "text": [
            "Accuracy: 0.9756656674307884 0.013961682440212966\n",
            "Precision: 0.9770300266824286 0.013415980002369312\n",
            "Recall: 0.9756656674307884 0.013961682440212966\n",
            "F1-score: 0.9755992156283047 0.014018049943751285\n"
          ],
          "name": "stdout"
        }
      ]
    },
    {
      "cell_type": "code",
      "metadata": {
        "id": "cQ00ODs3A4zW",
        "colab_type": "code",
        "colab": {}
      },
      "source": [
        ""
      ],
      "execution_count": 0,
      "outputs": []
    },
    {
      "cell_type": "code",
      "metadata": {
        "id": "w-EQhJAf6F9-",
        "colab_type": "code",
        "outputId": "37dbd6a2-7ce0-49d1-b93f-4167fbecf1c8",
        "colab": {
          "base_uri": "https://localhost:8080/",
          "height": 85
        }
      },
      "source": [
        "#.................BPN................\n",
        "from sklearn.metrics import accuracy_score\n",
        "from sklearn.metrics import precision_score\n",
        "from sklearn.metrics import recall_score\n",
        "from sklearn.metrics import f1_score\n",
        "acc=list();\n",
        "prec=list();\n",
        "recall=list();\n",
        "f1=list();\n",
        "from sklearn.naive_bayes import BernoulliNB, MultinomialNB\n",
        "model = MLPClassifier()\n",
        "for train_index, test_index in skf.split(X,Y):\n",
        "  #print('TRAIN', train_index, “TEST:”, test_index);\n",
        "  X_train, X_test = X[train_index], X[test_index]\n",
        "  y_train, y_test = Y[train_index], Y[test_index]\n",
        "  model.fit(X_train, y_train)\n",
        "  y_pred=model.predict(X_test)\n",
        "  #y_pred=FRS(X_train,y_train,X_test,0.15)\n",
        "  score=accuracy_score(y_test, y_pred)\n",
        "  acc.append(score)\n",
        "  score1=precision_score(y_test, y_pred, average='weighted')\n",
        "  prec.append(score1)\n",
        "  score2=recall_score(y_test, y_pred, average='weighted')\n",
        "  recall.append(score2)\n",
        "  score3=f1_score(y_test, y_pred, average='weighted')  \n",
        "  f1.append(score3)\n",
        "\n",
        "a = np.array(acc)\n",
        "print(\"Accuracy:\",a.mean(), a.std())\n",
        "b = np.array(prec)\n",
        "print(\"Precision:\",b.mean(), b.std())\n",
        "c = np.array(recall)\n",
        "print(\"Recall:\",c.mean(), c.std())\n",
        "d = np.array(f1)\n",
        "print(\"F1-score:\",d.mean(), d.std())"
      ],
      "execution_count": 0,
      "outputs": [
        {
          "output_type": "stream",
          "text": [
            "Accuracy: 0.9700317404337859 0.011691900866397457\n",
            "Precision: 0.9712611114840424 0.011117502345161658\n",
            "Recall: 0.9700317404337859 0.011691900866397457\n",
            "F1-score: 0.969949326128221 0.011718755576807991\n"
          ],
          "name": "stdout"
        }
      ]
    },
    {
      "cell_type": "code",
      "metadata": {
        "id": "RPvxWMYQJ1cS",
        "colab_type": "code",
        "colab": {}
      },
      "source": [
        "#.......................END.........................."
      ],
      "execution_count": 0,
      "outputs": []
    }
  ]
}