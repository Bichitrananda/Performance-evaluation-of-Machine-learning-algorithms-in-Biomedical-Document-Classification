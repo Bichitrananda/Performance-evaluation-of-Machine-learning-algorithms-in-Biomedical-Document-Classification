{
  "nbformat": 4,
  "nbformat_minor": 0,
  "metadata": {
    "colab": {
      "name": "BC3-p2.ipynb",
      "provenance": [],
      "collapsed_sections": [],
      "authorship_tag": "ABX9TyNrUN7KyQMe4Cdm81yuUrN/",
      "include_colab_link": true
    },
    "kernelspec": {
      "name": "python3",
      "display_name": "Python 3"
    }
  },
  "cells": [
    {
      "cell_type": "markdown",
      "metadata": {
        "id": "view-in-github",
        "colab_type": "text"
      },
      "source": [
        "<a href=\"https://colab.research.google.com/github/Bichitrananda/Performance-evaluation-of-Machine-learning-algorithms-in-Biomedical-Document-Classification/blob/master/BC3_p2.ipynb\" target=\"_parent\"><img src=\"https://colab.research.google.com/assets/colab-badge.svg\" alt=\"Open In Colab\"/></a>"
      ]
    },
    {
      "cell_type": "code",
      "metadata": {
        "id": "omIq_KVRZRNJ",
        "colab_type": "code",
        "outputId": "9423bdb3-7e0e-44f4-c991-2f7b03cc538f",
        "colab": {
          "base_uri": "https://localhost:8080/",
          "height": 34
        }
      },
      "source": [
        "from google.colab import drive\n",
        "drive.mount(\"/content/gdrive\")"
      ],
      "execution_count": 0,
      "outputs": [
        {
          "output_type": "stream",
          "text": [
            "Drive already mounted at /content/gdrive; to attempt to forcibly remount, call drive.mount(\"/content/gdrive\", force_remount=True).\n"
          ],
          "name": "stdout"
        }
      ]
    },
    {
      "cell_type": "code",
      "metadata": {
        "id": "wUCRVx4wX70r",
        "colab_type": "code",
        "outputId": "912c9170-678b-4bdc-f802-3577632b0b5a",
        "colab": {
          "base_uri": "https://localhost:8080/",
          "height": 34
        }
      },
      "source": [
        "import os\n",
        "os.getcwd()"
      ],
      "execution_count": 0,
      "outputs": [
        {
          "output_type": "execute_result",
          "data": {
            "text/plain": [
              "'/content'"
            ]
          },
          "metadata": {
            "tags": []
          },
          "execution_count": 3
        }
      ]
    },
    {
      "cell_type": "code",
      "metadata": {
        "id": "tyid7C5bZVCN",
        "colab_type": "code",
        "outputId": "84976a53-a9ad-4bb8-a129-418537f972ca",
        "colab": {
          "base_uri": "https://localhost:8080/",
          "height": 34
        }
      },
      "source": [
        "cd gdrive/My Drive"
      ],
      "execution_count": 0,
      "outputs": [
        {
          "output_type": "stream",
          "text": [
            "/content/gdrive/My Drive\n"
          ],
          "name": "stdout"
        }
      ]
    },
    {
      "cell_type": "code",
      "metadata": {
        "id": "MBAMhn7FMZn8",
        "colab_type": "code",
        "outputId": "9b545ded-7e33-45fd-a908-e8c5e250313e",
        "colab": {
          "base_uri": "https://localhost:8080/",
          "height": 578
        }
      },
      "source": [
        "ls"
      ],
      "execution_count": 0,
      "outputs": [
        {
          "output_type": "stream",
          "text": [
            " 20_cnn_model.json             'Getting started.pdf'\n",
            " 20n_cnn_model1.json            glove.6B.50d.txt\n",
            " 20n_cnn_model.json             IMDB_weights.best.hdf5\n",
            " 20news_weights.best1.hdf5      \u001b[0m\u001b[01;34mMISSION\u001b[0m/\n",
            " 20news_weights.best.hdf5       model.json\n",
            " BC3_part1.csv                  model.yaml\n",
            " BC3_part2.csv                  \u001b[01;34modia-dataset\u001b[0m/\n",
            " \u001b[01;34mBENGALI\u001b[0m/                       project_1_reuter.ipynb\n",
            " bp_mll_keras.py                \u001b[01;34m__pycache__\u001b[0m/\n",
            " bp_mll.py                      RCNN_BC3-P2.ipynb\n",
            " cnn_frs_farm_model.json        Reuter_cnn_model.json\n",
            "\u001b[01;34m'Colab Notebooks'\u001b[0m/              Reuter_weights.best.hdf5\n",
            "'Copy of farm-ads_tr.csv'       \u001b[01;34mRMDL\u001b[0m/\n",
            "'Copy of FRS_TREC.ipynb'       \u001b[01;34m'ROUGH SET'\u001b[0m/\n",
            " data1.csv                      \u001b[01;34mSVM-CNN\u001b[0m/\n",
            " data3.csv                      test.csv\n",
            " data4.csv                      test_labels.csv\n",
            " data.csv                       \u001b[01;34mTEXT_CODE\u001b[0m/\n",
            " data_WOS5736.csv               text_feature_extraction.py\n",
            "\u001b[01;34m'DEEP LEARING'\u001b[0m/                 train.csv\n",
            " diabetes.csv                   trec.csv\n",
            " diabetes.ipynb                 Untitled0.ipynb\n",
            " DNN_TREC_embed.ipynb           Untitled1.ipynb\n",
            " Download_WOS.py                Untitled2.ipynb\n",
            " farm-ads_tr.csv                weights.best.hdf5\n",
            " \u001b[01;34mFRS\u001b[0m/                           WOS11967_cnn_model.json\n",
            " frs_BC3-p1_cnn_model.json      WOS11967_weights.best.hdf5\n",
            " frs_bc3-p2_cnn_model.json      WOS46985_weights.best.hdf5\n",
            " frs_bc3-p2_weights.best.hdf5   WOS5736_cnn_model_frs.json\n",
            " frs_farm_weights.best.hdf5     WOS5736_cnn_model.json\n",
            " frs.py                         WOS5736_weights.best_frs.hdf5\n",
            " frs_trec_cnn_model.json        WOS5736_weights.best.hdf5\n",
            " frs_trec_weights.best.hdf5     yeast.npz\n"
          ],
          "name": "stdout"
        }
      ]
    },
    {
      "cell_type": "code",
      "metadata": {
        "id": "yHCZJ2w4aD_A",
        "colab_type": "code",
        "colab": {}
      },
      "source": [
        "import numpy as np\n",
        "import sklearn\n",
        "from sklearn.datasets import load_files\n",
        "import sys\n",
        "from time import time\n",
        "import matplotlib.pyplot as plt\n",
        "from sklearn.feature_extraction.text import CountVectorizer\n",
        "from sklearn.feature_extraction.text import TfidfTransformer\n",
        "from sklearn.feature_extraction.text import HashingVectorizer\n",
        "from sklearn.feature_selection import SelectFromModel\n",
        "from sklearn.feature_selection import SelectKBest, chi2\n",
        "from sklearn.linear_model import RidgeClassifier\n",
        "from sklearn import tree\n",
        "from sklearn.pipeline import Pipeline\n",
        "from sklearn.svm import LinearSVC\n",
        "from sklearn.linear_model import SGDClassifier\n",
        "from sklearn.linear_model import Perceptron\n",
        "from sklearn.linear_model import PassiveAggressiveClassifier\n",
        "from sklearn.naive_bayes import BernoulliNB, MultinomialNB\n",
        "from sklearn.neural_network import MLPClassifier\n",
        "from sklearn.neighbors import KNeighborsClassifier\n",
        "from sklearn.neighbors import NearestCentroid\n",
        "from sklearn.ensemble import RandomForestClassifier\n",
        "from sklearn.utils.extmath import density\n",
        "from sklearn import metrics\n",
        "from sklearn.model_selection import train_test_split\n",
        "import pandas as pd"
      ],
      "execution_count": 0,
      "outputs": []
    },
    {
      "cell_type": "code",
      "metadata": {
        "id": "etxIh0fVcaqj",
        "colab_type": "code",
        "outputId": "d0d12c65-9287-4422-cacc-eab737fed98e",
        "colab": {
          "base_uri": "https://localhost:8080/",
          "height": 68
        }
      },
      "source": [
        "import nltk\n",
        "nltk.download('punkt')"
      ],
      "execution_count": 0,
      "outputs": [
        {
          "output_type": "stream",
          "text": [
            "[nltk_data] Downloading package punkt to /root/nltk_data...\n",
            "[nltk_data]   Package punkt is already up-to-date!\n"
          ],
          "name": "stdout"
        },
        {
          "output_type": "execute_result",
          "data": {
            "text/plain": [
              "True"
            ]
          },
          "metadata": {
            "tags": []
          },
          "execution_count": 13
        }
      ]
    },
    {
      "cell_type": "code",
      "metadata": {
        "id": "uf7VqlWcauxt",
        "colab_type": "code",
        "outputId": "b79a3117-4e70-4126-d5fd-18768093b120",
        "colab": {
          "base_uri": "https://localhost:8080/",
          "height": 204
        }
      },
      "source": [
        "import pandas as pd\n",
        "#Data description\n",
        "df2=pd.read_csv('BC3_part2.csv')\n",
        "df2.head()\n"
      ],
      "execution_count": 0,
      "outputs": [
        {
          "output_type": "execute_result",
          "data": {
            "text/html": [
              "<div>\n",
              "<style scoped>\n",
              "    .dataframe tbody tr th:only-of-type {\n",
              "        vertical-align: middle;\n",
              "    }\n",
              "\n",
              "    .dataframe tbody tr th {\n",
              "        vertical-align: top;\n",
              "    }\n",
              "\n",
              "    .dataframe thead th {\n",
              "        text-align: right;\n",
              "    }\n",
              "</style>\n",
              "<table border=\"1\" class=\"dataframe\">\n",
              "  <thead>\n",
              "    <tr style=\"text-align: right;\">\n",
              "      <th></th>\n",
              "      <th>PMID</th>\n",
              "      <th>Label</th>\n",
              "      <th>Journal Title ISO Abbreviation</th>\n",
              "      <th>NLM ID</th>\n",
              "      <th>Year</th>\n",
              "      <th>Title</th>\n",
              "      <th>Abstract</th>\n",
              "    </tr>\n",
              "  </thead>\n",
              "  <tbody>\n",
              "    <tr>\n",
              "      <th>0</th>\n",
              "      <td>19393003</td>\n",
              "      <td>0</td>\n",
              "      <td>J. Neurochem.</td>\n",
              "      <td>2985190R</td>\n",
              "      <td>2009</td>\n",
              "      <td>What learning in day-old chickens can teach a ...</td>\n",
              "      <td>The learning process sets in motion a prolonge...</td>\n",
              "    </tr>\n",
              "    <tr>\n",
              "      <th>1</th>\n",
              "      <td>19393004</td>\n",
              "      <td>0</td>\n",
              "      <td>J. Neurochem.</td>\n",
              "      <td>2985190R</td>\n",
              "      <td>2009</td>\n",
              "      <td>AMPK in the brain: its roles in energy balance...</td>\n",
              "      <td>Adenosine monophosphate-activated protein kina...</td>\n",
              "    </tr>\n",
              "    <tr>\n",
              "      <th>2</th>\n",
              "      <td>19393007</td>\n",
              "      <td>0</td>\n",
              "      <td>J. Neurochem.</td>\n",
              "      <td>2985190R</td>\n",
              "      <td>2009</td>\n",
              "      <td>The rate-limiting step for glucose transport i...</td>\n",
              "      <td>Specialized glucosensing neurons are present i...</td>\n",
              "    </tr>\n",
              "    <tr>\n",
              "      <th>3</th>\n",
              "      <td>19393013</td>\n",
              "      <td>0</td>\n",
              "      <td>J. Neurochem.</td>\n",
              "      <td>2985190R</td>\n",
              "      <td>2009</td>\n",
              "      <td>Neuronal glucose but not lactate utilization i...</td>\n",
              "      <td>Although the brain utilizes glucose for energy...</td>\n",
              "    </tr>\n",
              "    <tr>\n",
              "      <th>4</th>\n",
              "      <td>19393023</td>\n",
              "      <td>0</td>\n",
              "      <td>J. Neurochem.</td>\n",
              "      <td>2985190R</td>\n",
              "      <td>2009</td>\n",
              "      <td>Transglutaminases and neurodegeneration.</td>\n",
              "      <td>Transglutaminases (TGs) are Ca2+-dependent enz...</td>\n",
              "    </tr>\n",
              "  </tbody>\n",
              "</table>\n",
              "</div>"
            ],
            "text/plain": [
              "       PMID  ...                                           Abstract\n",
              "0  19393003  ...  The learning process sets in motion a prolonge...\n",
              "1  19393004  ...  Adenosine monophosphate-activated protein kina...\n",
              "2  19393007  ...  Specialized glucosensing neurons are present i...\n",
              "3  19393013  ...  Although the brain utilizes glucose for energy...\n",
              "4  19393023  ...  Transglutaminases (TGs) are Ca2+-dependent enz...\n",
              "\n",
              "[5 rows x 7 columns]"
            ]
          },
          "metadata": {
            "tags": []
          },
          "execution_count": 14
        }
      ]
    },
    {
      "cell_type": "code",
      "metadata": {
        "id": "6hSwk5PIKZbP",
        "colab_type": "code",
        "outputId": "7e13b119-20e5-4168-8e16-c75c0c73136b",
        "colab": {
          "base_uri": "https://localhost:8080/",
          "height": 85
        }
      },
      "source": [
        "df2.groupby('Label').size()"
      ],
      "execution_count": 0,
      "outputs": [
        {
          "output_type": "execute_result",
          "data": {
            "text/plain": [
              "Label\n",
              "0    3317\n",
              "1     682\n",
              "dtype: int64"
            ]
          },
          "metadata": {
            "tags": []
          },
          "execution_count": 15
        }
      ]
    },
    {
      "cell_type": "code",
      "metadata": {
        "id": "YPXTkfiAKS2f",
        "colab_type": "code",
        "outputId": "ef000af5-4c3c-42f5-ae7a-18a71cf69ea4",
        "colab": {
          "base_uri": "https://localhost:8080/",
          "height": 51
        }
      },
      "source": [
        "#sentences=df2['Abstract']\n",
        "#labels=df2['Label']\n",
        "#split the data into train and test dataset\n",
        "#print(len(sentences))\n",
        "train_data=df2['Abstract']\n",
        "Y=df2['Label']\n",
        "print(len(train_data))\n",
        "bbc_vec = CountVectorizer(min_df=2, tokenizer=nltk.word_tokenize, encoding='latin-1')\n",
        "bbc_counts = bbc_vec.fit_transform(train_data.values.astype('U'))\n",
        "tfidf_transformer = TfidfTransformer()\n",
        "X = tfidf_transformer.fit_transform(bbc_counts)\n",
        "print(X.shape)"
      ],
      "execution_count": 0,
      "outputs": [
        {
          "output_type": "stream",
          "text": [
            "3999\n",
            "(3999, 17758)\n"
          ],
          "name": "stdout"
        }
      ]
    },
    {
      "cell_type": "code",
      "metadata": {
        "id": "zYPNqwGeaPZw",
        "colab_type": "code",
        "outputId": "f5bf52b6-bf0b-4a71-8b61-ec73ff2c1d7a",
        "colab": {
          "base_uri": "https://localhost:8080/",
          "height": 71
        }
      },
      "source": [
        "#from sklearn.model_selection import StratifiedKFold\n",
        "#kfold = StratifiedKFold(n_splits=10, random_state=7)"
      ],
      "execution_count": 0,
      "outputs": [
        {
          "output_type": "stream",
          "text": [
            "/usr/local/lib/python3.6/dist-packages/sklearn/model_selection/_split.py:296: FutureWarning: Setting a random_state has no effect since shuffle is False. This will raise an error in 0.24. You should leave random_state to its default (None), or set shuffle=True.\n",
            "  FutureWarning\n"
          ],
          "name": "stderr"
        }
      ]
    },
    {
      "cell_type": "code",
      "metadata": {
        "id": "WjkRUYcRLHZ6",
        "colab_type": "code",
        "colab": {}
      },
      "source": [
        ""
      ],
      "execution_count": 0,
      "outputs": []
    },
    {
      "cell_type": "code",
      "metadata": {
        "id": "pTwQUOGBLH9G",
        "colab_type": "code",
        "outputId": "a9532567-fa07-4ef2-8ed6-307b1b2ec0bd",
        "colab": {
          "base_uri": "https://localhost:8080/",
          "height": 858
        }
      },
      "source": [
        "#Comparision of Algorithms\n",
        "from sklearn.model_selection import StratifiedKFold\n",
        "from sklearn.model_selection import cross_val_score\n",
        "from matplotlib import pyplot\n",
        "from sklearn import svm\n",
        "# prepare models\n",
        "models = []\n",
        "models.append(('KNN', KNeighborsClassifier(n_neighbors=10)))\n",
        "models.append(('DT', tree.DecisionTreeClassifier()))\n",
        "#models.append(('KNN', KNeighborsClassifier()))\n",
        "models.append(('MNB', MultinomialNB(alpha=.01)))\n",
        "models.append(('BNB', BernoulliNB(alpha=.01)))\n",
        "models.append(('RF', RandomForestClassifier(n_estimators=100)))\n",
        "models.append(('SVM', svm.SVC()))\n",
        "models.append(('PPN', Perceptron(max_iter=50, tol=1e-3)))\n",
        "models.append(('SGD', SGDClassifier(alpha=.0001, max_iter=50,penalty=\"l1\")))\n",
        "models.append(('Ridge', RidgeClassifier(tol=1e-2, solver=\"sag\")))\n",
        "models.append(('RC', NearestCentroid()))\n",
        "models.append(('PA', PassiveAggressiveClassifier(max_iter=50, tol=1e-3)))\n",
        "models.append(('BPN', MLPClassifier()))\n",
        "\n",
        "\n",
        "# evaluate each model in turn\n",
        "results = []\n",
        "names = []\n",
        "scoring = 'accuracy'\n",
        "for name, model in models:\n",
        "  kfold = StratifiedKFold(n_splits=10)\n",
        "  cv_results = cross_val_score(model, X, Y, cv=kfold, scoring=scoring)\n",
        "  results.append(cv_results)\n",
        "  names.append(name)\n",
        "  msg = \"%s: %f (%f)\" % (name, cv_results.mean(), cv_results.std())\n",
        "  print(msg)\n",
        "# boxplot algorithm comparison\n",
        "fig = pyplot.figure()\n",
        "fig.suptitle('Algorithm Comparison')\n",
        "ax = fig.add_subplot(111)\n",
        "pyplot.boxplot(results)\n",
        "ax.set_xticklabels(names)\n",
        "pyplot.show()"
      ],
      "execution_count": 0,
      "outputs": [
        {
          "output_type": "stream",
          "text": [
            "KNN: 0.833458 (0.007849)\n",
            "DT: 0.809697 (0.016559)\n",
            "MNB: 0.845957 (0.009968)\n",
            "BNB: 0.837954 (0.016565)\n",
            "RF: 0.837709 (0.002656)\n",
            "SVM: 0.846460 (0.006484)\n",
            "PPN: 0.846213 (0.008207)\n",
            "SGD: 0.858214 (0.011025)\n"
          ],
          "name": "stdout"
        },
        {
          "output_type": "stream",
          "text": [
            "/usr/local/lib/python3.6/dist-packages/sklearn/linear_model/_ridge.py:558: UserWarning: \"sag\" solver requires many iterations to fit an intercept with sparse inputs. Either set the solver to \"auto\" or \"sparse_cg\", or set a low \"tol\" and a high \"max_iter\" (especially if inputs are not standardized).\n",
            "  '\"sag\" solver requires many iterations to fit '\n",
            "/usr/local/lib/python3.6/dist-packages/sklearn/linear_model/_ridge.py:558: UserWarning: \"sag\" solver requires many iterations to fit an intercept with sparse inputs. Either set the solver to \"auto\" or \"sparse_cg\", or set a low \"tol\" and a high \"max_iter\" (especially if inputs are not standardized).\n",
            "  '\"sag\" solver requires many iterations to fit '\n",
            "/usr/local/lib/python3.6/dist-packages/sklearn/linear_model/_ridge.py:558: UserWarning: \"sag\" solver requires many iterations to fit an intercept with sparse inputs. Either set the solver to \"auto\" or \"sparse_cg\", or set a low \"tol\" and a high \"max_iter\" (especially if inputs are not standardized).\n",
            "  '\"sag\" solver requires many iterations to fit '\n",
            "/usr/local/lib/python3.6/dist-packages/sklearn/linear_model/_ridge.py:558: UserWarning: \"sag\" solver requires many iterations to fit an intercept with sparse inputs. Either set the solver to \"auto\" or \"sparse_cg\", or set a low \"tol\" and a high \"max_iter\" (especially if inputs are not standardized).\n",
            "  '\"sag\" solver requires many iterations to fit '\n",
            "/usr/local/lib/python3.6/dist-packages/sklearn/linear_model/_ridge.py:558: UserWarning: \"sag\" solver requires many iterations to fit an intercept with sparse inputs. Either set the solver to \"auto\" or \"sparse_cg\", or set a low \"tol\" and a high \"max_iter\" (especially if inputs are not standardized).\n",
            "  '\"sag\" solver requires many iterations to fit '\n",
            "/usr/local/lib/python3.6/dist-packages/sklearn/linear_model/_ridge.py:558: UserWarning: \"sag\" solver requires many iterations to fit an intercept with sparse inputs. Either set the solver to \"auto\" or \"sparse_cg\", or set a low \"tol\" and a high \"max_iter\" (especially if inputs are not standardized).\n",
            "  '\"sag\" solver requires many iterations to fit '\n",
            "/usr/local/lib/python3.6/dist-packages/sklearn/linear_model/_ridge.py:558: UserWarning: \"sag\" solver requires many iterations to fit an intercept with sparse inputs. Either set the solver to \"auto\" or \"sparse_cg\", or set a low \"tol\" and a high \"max_iter\" (especially if inputs are not standardized).\n",
            "  '\"sag\" solver requires many iterations to fit '\n",
            "/usr/local/lib/python3.6/dist-packages/sklearn/linear_model/_ridge.py:558: UserWarning: \"sag\" solver requires many iterations to fit an intercept with sparse inputs. Either set the solver to \"auto\" or \"sparse_cg\", or set a low \"tol\" and a high \"max_iter\" (especially if inputs are not standardized).\n",
            "  '\"sag\" solver requires many iterations to fit '\n",
            "/usr/local/lib/python3.6/dist-packages/sklearn/linear_model/_ridge.py:558: UserWarning: \"sag\" solver requires many iterations to fit an intercept with sparse inputs. Either set the solver to \"auto\" or \"sparse_cg\", or set a low \"tol\" and a high \"max_iter\" (especially if inputs are not standardized).\n",
            "  '\"sag\" solver requires many iterations to fit '\n",
            "/usr/local/lib/python3.6/dist-packages/sklearn/linear_model/_ridge.py:558: UserWarning: \"sag\" solver requires many iterations to fit an intercept with sparse inputs. Either set the solver to \"auto\" or \"sparse_cg\", or set a low \"tol\" and a high \"max_iter\" (especially if inputs are not standardized).\n",
            "  '\"sag\" solver requires many iterations to fit '\n"
          ],
          "name": "stderr"
        },
        {
          "output_type": "stream",
          "text": [
            "Ridge: 0.860964 (0.008028)\n",
            "RC: 0.802697 (0.015361)\n",
            "PA: 0.851214 (0.008937)\n",
            "BPN: 0.854964 (0.011069)\n"
          ],
          "name": "stdout"
        },
        {
          "output_type": "display_data",
          "data": {
            "image/png": "[encoded data removed]",
            "text/plain": [
              "<Figure size 432x288 with 1 Axes>"
            ]
          },
          "metadata": {
            "tags": [],
            "needs_background": "light"
          }
        }
      ]
    },
    {
      "cell_type": "code",
      "metadata": {
        "id": "uYetYh2NLIZf",
        "colab_type": "code",
        "colab": {}
      },
      "source": [
        "#.......Evaluationg Accuracy, precision, recall, f1-score for all algo....#"
      ],
      "execution_count": 0,
      "outputs": []
    },
    {
      "cell_type": "code",
      "metadata": {
        "id": "GjxgDR8diq5p",
        "colab_type": "code",
        "outputId": "6630fd0d-9289-4694-f6dd-5526ddb4a2c3",
        "colab": {
          "base_uri": "https://localhost:8080/",
          "height": 34
        }
      },
      "source": [
        "import numpy as np\n",
        "from sklearn.model_selection import StratifiedKFold\n",
        "skf = StratifiedKFold(n_splits=10) # Define the split - into 2 folds \n",
        "skf.get_n_splits(X,Y)\n",
        "print(skf)"
      ],
      "execution_count": 0,
      "outputs": [
        {
          "output_type": "stream",
          "text": [
            "StratifiedKFold(n_splits=10, random_state=None, shuffle=False)\n"
          ],
          "name": "stdout"
        }
      ]
    },
    {
      "cell_type": "code",
      "metadata": {
        "id": "hSo4Z63Bs46B",
        "colab_type": "code",
        "outputId": "e2601947-1113-4fec-f2c6-48ba2fd9c048",
        "colab": {
          "base_uri": "https://localhost:8080/",
          "height": 85
        }
      },
      "source": [
        "#.................SVM................\n",
        "from sklearn.metrics import accuracy_score\n",
        "from sklearn.metrics import precision_score\n",
        "from sklearn.metrics import recall_score\n",
        "from sklearn.metrics import f1_score\n",
        "acc=list();\n",
        "prec=list();\n",
        "recall=list();\n",
        "f1=list();\n",
        "from sklearn import svm\n",
        "model = svm.SVC()\n",
        "for train_index, test_index in skf.split(X,Y):\n",
        "  #print('TRAIN', train_index, “TEST:”, test_index);\n",
        "  X_train, X_test = X[train_index], X[test_index]\n",
        "  y_train, y_test = Y[train_index], Y[test_index]\n",
        "  model.fit(X_train, y_train)\n",
        "  y_pred=model.predict(X_test)\n",
        "  #y_pred=FRS(X_train,y_train,X_test,0.15)\n",
        "  score=accuracy_score(y_test, y_pred)\n",
        "  acc.append(score)\n",
        "  score1=precision_score(y_test, y_pred, average='weighted')\n",
        "  prec.append(score1)\n",
        "  score2=recall_score(y_test, y_pred, average='weighted')\n",
        "  recall.append(score2)\n",
        "  score3=f1_score(y_test, y_pred, average='weighted')  \n",
        "  f1.append(score3)\n",
        "\n",
        "a = np.array(acc)\n",
        "print(\"Accuracy:\",a.mean(), a.std())\n",
        "b = np.array(prec)\n",
        "print(\"Precision:\",b.mean(), b.std())\n",
        "c = np.array(recall)\n",
        "print(\"Recall:\",c.mean(), c.std())\n",
        "d = np.array(f1)\n",
        "print(\"F1-score:\",d.mean(), d.std())"
      ],
      "execution_count": 0,
      "outputs": [
        {
          "output_type": "stream",
          "text": [
            "Accuracy: 0.8464598997493734 0.006483500252876395\n",
            "Precision: 0.8557729954874025 0.017938780934233133\n",
            "Recall: 0.8464598997493734 0.006483500252876395\n",
            "F1-score: 0.7922503045173995 0.012029195495573108\n"
          ],
          "name": "stdout"
        }
      ]
    },
    {
      "cell_type": "code",
      "metadata": {
        "id": "Vm357I3xs6X4",
        "colab_type": "code",
        "colab": {}
      },
      "source": [
        ""
      ],
      "execution_count": 0,
      "outputs": []
    },
    {
      "cell_type": "code",
      "metadata": {
        "id": "Wy5Q8tc3mGLy",
        "colab_type": "code",
        "outputId": "7977ce8f-cf7b-4da2-8cdc-cf6ff5552895",
        "colab": {
          "base_uri": "https://localhost:8080/",
          "height": 85
        }
      },
      "source": [
        "#.................KNN................\n",
        "from sklearn.metrics import accuracy_score\n",
        "from sklearn.metrics import precision_score\n",
        "from sklearn.metrics import recall_score\n",
        "from sklearn.metrics import f1_score\n",
        "acc=list();\n",
        "prec=list();\n",
        "recall=list();\n",
        "f1=list();\n",
        "from sklearn import svm\n",
        "model = KNeighborsClassifier(n_neighbors=10)\n",
        "for train_index, test_index in skf.split(X,Y):\n",
        "  #print('TRAIN', train_index, “TEST:”, test_index);\n",
        "  X_train, X_test = X[train_index], X[test_index]\n",
        "  y_train, y_test = Y[train_index], Y[test_index]\n",
        "  model.fit(X_train, y_train)\n",
        "  y_pred=model.predict(X_test)\n",
        "  #y_pred=FRS(X_train,y_train,X_test,0.15)\n",
        "  score=accuracy_score(y_test, y_pred)\n",
        "  acc.append(score)\n",
        "  score1=precision_score(y_test, y_pred, average='weighted')\n",
        "  prec.append(score1)\n",
        "  score2=recall_score(y_test, y_pred, average='weighted')\n",
        "  recall.append(score2)\n",
        "  score3=f1_score(y_test, y_pred, average='weighted')  \n",
        "  f1.append(score3)\n",
        "\n",
        "a = np.array(acc)\n",
        "print(\"Accuracy:\",a.mean(), a.std())\n",
        "b = np.array(prec)\n",
        "print(\"Precision:\",b.mean(), b.std())\n",
        "c = np.array(recall)\n",
        "print(\"Recall:\",c.mean(), c.std())\n",
        "d = np.array(f1)\n",
        "print(\"F1-score:\",d.mean(), d.std())"
      ],
      "execution_count": 0,
      "outputs": [
        {
          "output_type": "stream",
          "text": [
            "Accuracy: 0.8334580200501254 0.007848555328560332\n",
            "Precision: 0.7947860294676159 0.021839155610132877\n",
            "Recall: 0.8334580200501254 0.007848555328560332\n",
            "F1-score: 0.7860065544708955 0.012119578627520035\n"
          ],
          "name": "stdout"
        }
      ]
    },
    {
      "cell_type": "code",
      "metadata": {
        "id": "uhQWwjjwtgPp",
        "colab_type": "code",
        "colab": {}
      },
      "source": [
        ""
      ],
      "execution_count": 0,
      "outputs": []
    },
    {
      "cell_type": "code",
      "metadata": {
        "id": "v3RjlG-pmaRL",
        "colab_type": "code",
        "outputId": "7fe7dc54-fa7c-4c8a-b300-53c70c2741b6",
        "colab": {
          "base_uri": "https://localhost:8080/",
          "height": 85
        }
      },
      "source": [
        "#.................DT................\n",
        "from sklearn.metrics import accuracy_score\n",
        "from sklearn.metrics import precision_score\n",
        "from sklearn.metrics import recall_score\n",
        "from sklearn.metrics import f1_score\n",
        "acc=list();\n",
        "prec=list();\n",
        "recall=list();\n",
        "f1=list();\n",
        "from sklearn import tree\n",
        "model = tree.DecisionTreeClassifier()\n",
        "for train_index, test_index in skf.split(X,Y):\n",
        "  #print('TRAIN', train_index, “TEST:”, test_index);\n",
        "  X_train, X_test = X[train_index], X[test_index]\n",
        "  y_train, y_test = Y[train_index], Y[test_index]\n",
        "  model.fit(X_train, y_train)\n",
        "  y_pred=model.predict(X_test)\n",
        "  #y_pred=FRS(X_train,y_train,X_test,0.15)\n",
        "  score=accuracy_score(y_test, y_pred)\n",
        "  acc.append(score)\n",
        "  score1=precision_score(y_test, y_pred, average='weighted')\n",
        "  prec.append(score1)\n",
        "  score2=recall_score(y_test, y_pred, average='weighted')\n",
        "  recall.append(score2)\n",
        "  score3=f1_score(y_test, y_pred, average='weighted')  \n",
        "  f1.append(score3)\n",
        "\n",
        "a = np.array(acc)\n",
        "print(\"Accuracy:\",a.mean(), a.std())\n",
        "b = np.array(prec)\n",
        "print(\"Precision:\",b.mean(), b.std())\n",
        "c = np.array(recall)\n",
        "print(\"Recall:\",c.mean(), c.std())\n",
        "d = np.array(f1)\n",
        "print(\"F1-score:\",d.mean(), d.std())"
      ],
      "execution_count": 0,
      "outputs": [
        {
          "output_type": "stream",
          "text": [
            "Accuracy: 0.8024511278195489 0.014440468673417165\n",
            "Precision: 0.8031492893070254 0.014852980183164737\n",
            "Recall: 0.8024511278195489 0.014440468673417165\n",
            "F1-score: 0.8023304573327603 0.013523091672349176\n"
          ],
          "name": "stdout"
        }
      ]
    },
    {
      "cell_type": "code",
      "metadata": {
        "id": "QtCzG_WAt7hw",
        "colab_type": "code",
        "colab": {}
      },
      "source": [
        ""
      ],
      "execution_count": 0,
      "outputs": []
    },
    {
      "cell_type": "code",
      "metadata": {
        "id": "7AJAeOUwmoU0",
        "colab_type": "code",
        "outputId": "0bc8a8e9-948c-4ee2-9d8c-72c7d3efde99",
        "colab": {
          "base_uri": "https://localhost:8080/",
          "height": 85
        }
      },
      "source": [
        "#.................RF................\n",
        "from sklearn.metrics import accuracy_score\n",
        "from sklearn.metrics import precision_score\n",
        "from sklearn.metrics import recall_score\n",
        "from sklearn.metrics import f1_score\n",
        "acc=list();\n",
        "prec=list();\n",
        "recall=list();\n",
        "f1=list();\n",
        "from sklearn.ensemble import RandomForestClassifier\n",
        "model = RandomForestClassifier(n_estimators=100)\n",
        "for train_index, test_index in skf.split(X,Y):\n",
        "  #print('TRAIN', train_index, “TEST:”, test_index);\n",
        "  X_train, X_test = X[train_index], X[test_index]\n",
        "  y_train, y_test = Y[train_index], Y[test_index]\n",
        "  model.fit(X_train, y_train)\n",
        "  y_pred=model.predict(X_test)\n",
        "  #y_pred=FRS(X_train,y_train,X_test,0.15)\n",
        "  score=accuracy_score(y_test, y_pred)\n",
        "  acc.append(score)\n",
        "  score1=precision_score(y_test, y_pred, average='weighted')\n",
        "  prec.append(score1)\n",
        "  score2=recall_score(y_test, y_pred, average='weighted')\n",
        "  recall.append(score2)\n",
        "  score3=f1_score(y_test, y_pred, average='weighted')  \n",
        "  f1.append(score3)\n",
        "\n",
        "a = np.array(acc)\n",
        "print(\"Accuracy:\",a.mean(), a.std())\n",
        "b = np.array(prec)\n",
        "print(\"Precision:\",b.mean(), b.std())\n",
        "c = np.array(recall)\n",
        "print(\"Recall:\",c.mean(), c.std())\n",
        "d = np.array(f1)\n",
        "print(\"F1-score:\",d.mean(), d.std())"
      ],
      "execution_count": 0,
      "outputs": [
        {
          "output_type": "stream",
          "text": [
            "Accuracy: 0.8347080200501253 0.003281351950059535\n",
            "Precision: 0.8478017020991876 0.023591175808839866\n",
            "Recall: 0.8347080200501253 0.003281351950059535\n",
            "F1-score: 0.7656880769690737 0.006827625147018572\n"
          ],
          "name": "stdout"
        }
      ]
    },
    {
      "cell_type": "code",
      "metadata": {
        "id": "U5b7vs6ym6f-",
        "colab_type": "code",
        "colab": {}
      },
      "source": [
        ""
      ],
      "execution_count": 0,
      "outputs": []
    },
    {
      "cell_type": "code",
      "metadata": {
        "id": "giKjo76uuSNl",
        "colab_type": "code",
        "outputId": "93e8cf25-ca0f-4eea-99ac-227f63061941",
        "colab": {
          "base_uri": "https://localhost:8080/",
          "height": 85
        }
      },
      "source": [
        "#.................MNB................\n",
        "from sklearn.metrics import accuracy_score\n",
        "from sklearn.metrics import precision_score\n",
        "from sklearn.metrics import recall_score\n",
        "from sklearn.metrics import f1_score\n",
        "acc=list();\n",
        "prec=list();\n",
        "recall=list();\n",
        "f1=list();\n",
        "from sklearn.naive_bayes import BernoulliNB, MultinomialNB\n",
        "model = MultinomialNB(alpha=.01)\n",
        "for train_index, test_index in skf.split(X,Y):\n",
        "  #print('TRAIN', train_index, “TEST:”, test_index);\n",
        "  X_train, X_test = X[train_index], X[test_index]\n",
        "  y_train, y_test = Y[train_index], Y[test_index]\n",
        "  model.fit(X_train, y_train)\n",
        "  y_pred=model.predict(X_test)\n",
        "  #y_pred=FRS(X_train,y_train,X_test,0.15)\n",
        "  score=accuracy_score(y_test, y_pred)\n",
        "  acc.append(score)\n",
        "  score1=precision_score(y_test, y_pred, average='weighted')\n",
        "  prec.append(score1)\n",
        "  score2=recall_score(y_test, y_pred, average='weighted')\n",
        "  recall.append(score2)\n",
        "  score3=f1_score(y_test, y_pred, average='weighted')  \n",
        "  f1.append(score3)\n",
        "\n",
        "a = np.array(acc)\n",
        "print(\"Accuracy:\",a.mean(), a.std())\n",
        "b = np.array(prec)\n",
        "print(\"Precision:\",b.mean(), b.std())\n",
        "c = np.array(recall)\n",
        "print(\"Recall:\",c.mean(), c.std())\n",
        "d = np.array(f1)\n",
        "print(\"F1-score:\",d.mean(), d.std())"
      ],
      "execution_count": 0,
      "outputs": [
        {
          "output_type": "stream",
          "text": [
            "Accuracy: 0.8459567669172932 0.00996827196434334\n",
            "Precision: 0.832770359977402 0.011976766749848114\n",
            "Recall: 0.8459567669172932 0.00996827196434334\n",
            "F1-score: 0.8368246113618975 0.010748750022075254\n"
          ],
          "name": "stdout"
        }
      ]
    },
    {
      "cell_type": "code",
      "metadata": {
        "id": "3d1qo9qSusd3",
        "colab_type": "code",
        "colab": {}
      },
      "source": [
        ""
      ],
      "execution_count": 0,
      "outputs": []
    },
    {
      "cell_type": "code",
      "metadata": {
        "id": "ZVvD6fgRnDaD",
        "colab_type": "code",
        "outputId": "054ac691-6c16-4470-f3f9-9dbb4fc1aedf",
        "colab": {
          "base_uri": "https://localhost:8080/",
          "height": 85
        }
      },
      "source": [
        "#.................BNB................\n",
        "from sklearn.metrics import accuracy_score\n",
        "from sklearn.metrics import precision_score\n",
        "from sklearn.metrics import recall_score\n",
        "from sklearn.metrics import f1_score\n",
        "acc=list();\n",
        "prec=list();\n",
        "recall=list();\n",
        "f1=list();\n",
        "from sklearn.naive_bayes import BernoulliNB, MultinomialNB\n",
        "model = BernoulliNB(alpha=.01)\n",
        "for train_index, test_index in skf.split(X,Y):\n",
        "  #print('TRAIN', train_index, “TEST:”, test_index);\n",
        "  X_train, X_test = X[train_index], X[test_index]\n",
        "  y_train, y_test = Y[train_index], Y[test_index]\n",
        "  model.fit(X_train, y_train)\n",
        "  y_pred=model.predict(X_test)\n",
        "  #y_pred=FRS(X_train,y_train,X_test,0.15)\n",
        "  score=accuracy_score(y_test, y_pred)\n",
        "  acc.append(score)\n",
        "  score1=precision_score(y_test, y_pred, average='weighted')\n",
        "  prec.append(score1)\n",
        "  score2=recall_score(y_test, y_pred, average='weighted')\n",
        "  recall.append(score2)\n",
        "  score3=f1_score(y_test, y_pred, average='weighted')  \n",
        "  f1.append(score3)\n",
        "\n",
        "a = np.array(acc)\n",
        "print(\"Accuracy:\",a.mean(), a.std())\n",
        "b = np.array(prec)\n",
        "print(\"Precision:\",b.mean(), b.std())\n",
        "c = np.array(recall)\n",
        "print(\"Recall:\",c.mean(), c.std())\n",
        "d = np.array(f1)\n",
        "print(\"F1-score:\",d.mean(), d.std())"
      ],
      "execution_count": 0,
      "outputs": [
        {
          "output_type": "stream",
          "text": [
            "Accuracy: 0.8379536340852131 0.016565089201772694\n",
            "Precision: 0.8438911623315821 0.017121013207869126\n",
            "Recall: 0.8379536340852131 0.016565089201772694\n",
            "F1-score: 0.8401051028320514 0.01576856107423965\n"
          ],
          "name": "stdout"
        }
      ]
    },
    {
      "cell_type": "code",
      "metadata": {
        "id": "VpCxJEdu9_HC",
        "colab_type": "code",
        "colab": {}
      },
      "source": [
        ""
      ],
      "execution_count": 0,
      "outputs": []
    },
    {
      "cell_type": "code",
      "metadata": {
        "id": "qrV3xWz4nJ_A",
        "colab_type": "code",
        "outputId": "d68a332e-38ff-4622-df1b-437e67f77387",
        "colab": {
          "base_uri": "https://localhost:8080/",
          "height": 85
        }
      },
      "source": [
        "#.................PPN................\n",
        "from sklearn.metrics import accuracy_score\n",
        "from sklearn.metrics import precision_score\n",
        "from sklearn.metrics import recall_score\n",
        "from sklearn.metrics import f1_score\n",
        "acc=list();\n",
        "prec=list();\n",
        "recall=list();\n",
        "f1=list();\n",
        "model = Perceptron(max_iter=50, tol=1e-3)\n",
        "for train_index, test_index in skf.split(X,Y):\n",
        "  #print('TRAIN', train_index, “TEST:”, test_index);\n",
        "  X_train, X_test = X[train_index], X[test_index]\n",
        "  y_train, y_test = Y[train_index], Y[test_index]\n",
        "  model.fit(X_train, y_train)\n",
        "  y_pred=model.predict(X_test)\n",
        "  #y_pred=FRS(X_train,y_train,X_test,0.15)\n",
        "  score=accuracy_score(y_test, y_pred)\n",
        "  acc.append(score)\n",
        "  score1=precision_score(y_test, y_pred, average='weighted')\n",
        "  prec.append(score1)\n",
        "  score2=recall_score(y_test, y_pred, average='weighted')\n",
        "  recall.append(score2)\n",
        "  score3=f1_score(y_test, y_pred, average='weighted')  \n",
        "  f1.append(score3)\n",
        "\n",
        "a = np.array(acc)\n",
        "print(\"Accuracy:\",a.mean(), a.std())\n",
        "b = np.array(prec)\n",
        "print(\"Precision:\",b.mean(), b.std())\n",
        "c = np.array(recall)\n",
        "print(\"Recall:\",c.mean(), c.std())\n",
        "d = np.array(f1)\n",
        "print(\"F1-score:\",d.mean(), d.std())"
      ],
      "execution_count": 0,
      "outputs": [
        {
          "output_type": "stream",
          "text": [
            "Accuracy: 0.8462130325814536 0.008207478698021492\n",
            "Precision: 0.8360021327273854 0.0073889089343968095\n",
            "Recall: 0.8462130325814536 0.008207478698021492\n",
            "F1-score: 0.8390031096459882 0.0066754451992121835\n"
          ],
          "name": "stdout"
        }
      ]
    },
    {
      "cell_type": "code",
      "metadata": {
        "id": "Pg46e2JP_uHf",
        "colab_type": "code",
        "colab": {}
      },
      "source": [
        ""
      ],
      "execution_count": 0,
      "outputs": []
    },
    {
      "cell_type": "code",
      "metadata": {
        "id": "lU7en-rmnZ_g",
        "colab_type": "code",
        "outputId": "2fbbf0e0-f12d-4463-98fa-a2c3c438d719",
        "colab": {
          "base_uri": "https://localhost:8080/",
          "height": 85
        }
      },
      "source": [
        "#.................SGD................\n",
        "from sklearn.metrics import accuracy_score\n",
        "from sklearn.metrics import precision_score\n",
        "from sklearn.metrics import recall_score\n",
        "from sklearn.metrics import f1_score\n",
        "acc=list();\n",
        "prec=list();\n",
        "recall=list();\n",
        "f1=list();\n",
        "model = SGDClassifier(alpha=.0001, max_iter=50,penalty=\"l1\")\n",
        "for train_index, test_index in skf.split(X,Y):\n",
        "  #print('TRAIN', train_index, “TEST:”, test_index);\n",
        "  X_train, X_test = X[train_index], X[test_index]\n",
        "  y_train, y_test = Y[train_index], Y[test_index]\n",
        "  model.fit(X_train, y_train)\n",
        "  y_pred=model.predict(X_test)\n",
        "  #y_pred=FRS(X_train,y_train,X_test,0.15)\n",
        "  score=accuracy_score(y_test, y_pred)\n",
        "  acc.append(score)\n",
        "  score1=precision_score(y_test, y_pred, average='weighted')\n",
        "  prec.append(score1)\n",
        "  score2=recall_score(y_test, y_pred, average='weighted')\n",
        "  recall.append(score2)\n",
        "  score3=f1_score(y_test, y_pred, average='weighted')  \n",
        "  f1.append(score3)\n",
        "\n",
        "a = np.array(acc)\n",
        "print(\"Accuracy:\",a.mean(), a.std())\n",
        "b = np.array(prec)\n",
        "print(\"Precision:\",b.mean(), b.std())\n",
        "c = np.array(recall)\n",
        "print(\"Recall:\",c.mean(), c.std())\n",
        "d = np.array(f1)\n",
        "print(\"F1-score:\",d.mean(), d.std())"
      ],
      "execution_count": 0,
      "outputs": [
        {
          "output_type": "stream",
          "text": [
            "Accuracy: 0.8562117794486216 0.008859712576830684\n",
            "Precision: 0.8394130829489189 0.010932660322597843\n",
            "Recall: 0.8562117794486216 0.008859712576830684\n",
            "F1-score: 0.839436148161974 0.010051375682885564\n"
          ],
          "name": "stdout"
        }
      ]
    },
    {
      "cell_type": "code",
      "metadata": {
        "id": "-_z1Ax7FAAMn",
        "colab_type": "code",
        "colab": {}
      },
      "source": [
        ""
      ],
      "execution_count": 0,
      "outputs": []
    },
    {
      "cell_type": "code",
      "metadata": {
        "id": "2-hNKgWAnxfS",
        "colab_type": "code",
        "outputId": "293ef1e5-6398-4d8d-9b9d-badf2fb229ab",
        "colab": {
          "base_uri": "https://localhost:8080/",
          "height": 445
        }
      },
      "source": [
        "#.................Ridge................\n",
        "from sklearn.metrics import accuracy_score\n",
        "from sklearn.metrics import precision_score\n",
        "from sklearn.metrics import recall_score\n",
        "from sklearn.metrics import f1_score\n",
        "acc=list();\n",
        "prec=list();\n",
        "recall=list();\n",
        "f1=list();\n",
        "model = RidgeClassifier(tol=1e-2, solver=\"sag\")\n",
        "for train_index, test_index in skf.split(X,Y):\n",
        "  #print('TRAIN', train_index, “TEST:”, test_index);\n",
        "  X_train, X_test = X[train_index], X[test_index]\n",
        "  y_train, y_test = Y[train_index], Y[test_index]\n",
        "  model.fit(X_train, y_train)\n",
        "  y_pred=model.predict(X_test)\n",
        "  #y_pred=FRS(X_train,y_train,X_test,0.15)\n",
        "  score=accuracy_score(y_test, y_pred)\n",
        "  acc.append(score)\n",
        "  score1=precision_score(y_test, y_pred, average='weighted')\n",
        "  prec.append(score1)\n",
        "  score2=recall_score(y_test, y_pred, average='weighted')\n",
        "  recall.append(score2)\n",
        "  score3=f1_score(y_test, y_pred, average='weighted')  \n",
        "  f1.append(score3)\n",
        "\n",
        "a = np.array(acc)\n",
        "print(\"Accuracy:\",a.mean(), a.std())\n",
        "b = np.array(prec)\n",
        "print(\"Precision:\",b.mean(), b.std())\n",
        "c = np.array(recall)\n",
        "print(\"Recall:\",c.mean(), c.std())\n",
        "d = np.array(f1)\n",
        "print(\"F1-score:\",d.mean(), d.std())"
      ],
      "execution_count": 0,
      "outputs": [
        {
          "output_type": "stream",
          "text": [
            "/usr/local/lib/python3.6/dist-packages/sklearn/linear_model/_ridge.py:558: UserWarning: \"sag\" solver requires many iterations to fit an intercept with sparse inputs. Either set the solver to \"auto\" or \"sparse_cg\", or set a low \"tol\" and a high \"max_iter\" (especially if inputs are not standardized).\n",
            "  '\"sag\" solver requires many iterations to fit '\n",
            "/usr/local/lib/python3.6/dist-packages/sklearn/linear_model/_ridge.py:558: UserWarning: \"sag\" solver requires many iterations to fit an intercept with sparse inputs. Either set the solver to \"auto\" or \"sparse_cg\", or set a low \"tol\" and a high \"max_iter\" (especially if inputs are not standardized).\n",
            "  '\"sag\" solver requires many iterations to fit '\n",
            "/usr/local/lib/python3.6/dist-packages/sklearn/linear_model/_ridge.py:558: UserWarning: \"sag\" solver requires many iterations to fit an intercept with sparse inputs. Either set the solver to \"auto\" or \"sparse_cg\", or set a low \"tol\" and a high \"max_iter\" (especially if inputs are not standardized).\n",
            "  '\"sag\" solver requires many iterations to fit '\n",
            "/usr/local/lib/python3.6/dist-packages/sklearn/linear_model/_ridge.py:558: UserWarning: \"sag\" solver requires many iterations to fit an intercept with sparse inputs. Either set the solver to \"auto\" or \"sparse_cg\", or set a low \"tol\" and a high \"max_iter\" (especially if inputs are not standardized).\n",
            "  '\"sag\" solver requires many iterations to fit '\n",
            "/usr/local/lib/python3.6/dist-packages/sklearn/linear_model/_ridge.py:558: UserWarning: \"sag\" solver requires many iterations to fit an intercept with sparse inputs. Either set the solver to \"auto\" or \"sparse_cg\", or set a low \"tol\" and a high \"max_iter\" (especially if inputs are not standardized).\n",
            "  '\"sag\" solver requires many iterations to fit '\n",
            "/usr/local/lib/python3.6/dist-packages/sklearn/linear_model/_ridge.py:558: UserWarning: \"sag\" solver requires many iterations to fit an intercept with sparse inputs. Either set the solver to \"auto\" or \"sparse_cg\", or set a low \"tol\" and a high \"max_iter\" (especially if inputs are not standardized).\n",
            "  '\"sag\" solver requires many iterations to fit '\n",
            "/usr/local/lib/python3.6/dist-packages/sklearn/linear_model/_ridge.py:558: UserWarning: \"sag\" solver requires many iterations to fit an intercept with sparse inputs. Either set the solver to \"auto\" or \"sparse_cg\", or set a low \"tol\" and a high \"max_iter\" (especially if inputs are not standardized).\n",
            "  '\"sag\" solver requires many iterations to fit '\n",
            "/usr/local/lib/python3.6/dist-packages/sklearn/linear_model/_ridge.py:558: UserWarning: \"sag\" solver requires many iterations to fit an intercept with sparse inputs. Either set the solver to \"auto\" or \"sparse_cg\", or set a low \"tol\" and a high \"max_iter\" (especially if inputs are not standardized).\n",
            "  '\"sag\" solver requires many iterations to fit '\n"
          ],
          "name": "stderr"
        },
        {
          "output_type": "stream",
          "text": [
            "Accuracy: 0.8609636591478698 0.008771999552175433\n",
            "Precision: 0.84681034720619 0.014288206212470553\n",
            "Recall: 0.8609636591478698 0.008771999552175433\n",
            "F1-score: 0.8368388475141485 0.011576450213969787\n"
          ],
          "name": "stdout"
        },
        {
          "output_type": "stream",
          "text": [
            "/usr/local/lib/python3.6/dist-packages/sklearn/linear_model/_ridge.py:558: UserWarning: \"sag\" solver requires many iterations to fit an intercept with sparse inputs. Either set the solver to \"auto\" or \"sparse_cg\", or set a low \"tol\" and a high \"max_iter\" (especially if inputs are not standardized).\n",
            "  '\"sag\" solver requires many iterations to fit '\n",
            "/usr/local/lib/python3.6/dist-packages/sklearn/linear_model/_ridge.py:558: UserWarning: \"sag\" solver requires many iterations to fit an intercept with sparse inputs. Either set the solver to \"auto\" or \"sparse_cg\", or set a low \"tol\" and a high \"max_iter\" (especially if inputs are not standardized).\n",
            "  '\"sag\" solver requires many iterations to fit '\n"
          ],
          "name": "stderr"
        }
      ]
    },
    {
      "cell_type": "code",
      "metadata": {
        "id": "yc7PsS0nAO6o",
        "colab_type": "code",
        "colab": {}
      },
      "source": [
        ""
      ],
      "execution_count": 0,
      "outputs": []
    },
    {
      "cell_type": "code",
      "metadata": {
        "id": "CpDrZQ3eogTE",
        "colab_type": "code",
        "outputId": "ee520fb1-4d93-4bc4-8ea3-8f050dd5a285",
        "colab": {
          "base_uri": "https://localhost:8080/",
          "height": 85
        }
      },
      "source": [
        "#.................RC................\n",
        "from sklearn.metrics import accuracy_score\n",
        "from sklearn.metrics import precision_score\n",
        "from sklearn.metrics import recall_score\n",
        "from sklearn.metrics import f1_score\n",
        "acc=list();\n",
        "prec=list();\n",
        "recall=list();\n",
        "f1=list();\n",
        "model = NearestCentroid()\n",
        "for train_index, test_index in skf.split(X,Y):\n",
        "  #print('TRAIN', train_index, “TEST:”, test_index);\n",
        "  X_train, X_test = X[train_index], X[test_index]\n",
        "  y_train, y_test = Y[train_index], Y[test_index]\n",
        "  model.fit(X_train, y_train)\n",
        "  y_pred=model.predict(X_test)\n",
        "  #y_pred=FRS(X_train,y_train,X_test,0.15)\n",
        "  score=accuracy_score(y_test, y_pred)\n",
        "  acc.append(score)\n",
        "  score1=precision_score(y_test, y_pred, average='weighted')\n",
        "  prec.append(score1)\n",
        "  score2=recall_score(y_test, y_pred, average='weighted')\n",
        "  recall.append(score2)\n",
        "  score3=f1_score(y_test, y_pred, average='weighted')  \n",
        "  f1.append(score3)\n",
        "\n",
        "a = np.array(acc)\n",
        "print(\"Accuracy:\",a.mean(), a.std())\n",
        "b = np.array(prec)\n",
        "print(\"Precision:\",b.mean(), b.std())\n",
        "c = np.array(recall)\n",
        "print(\"Recall:\",c.mean(), c.std())\n",
        "d = np.array(f1)\n",
        "print(\"F1-score:\",d.mean(), d.std())"
      ],
      "execution_count": 0,
      "outputs": [
        {
          "output_type": "stream",
          "text": [
            "Accuracy: 0.8026967418546367 0.015361067713671867\n",
            "Precision: 0.8555406601434197 0.012888905967433582\n",
            "Recall: 0.8026967418546367 0.015361067713671867\n",
            "F1-score: 0.8193421712889783 0.01286579176841705\n"
          ],
          "name": "stdout"
        }
      ]
    },
    {
      "cell_type": "code",
      "metadata": {
        "id": "R3u9wKz6AvOc",
        "colab_type": "code",
        "colab": {}
      },
      "source": [
        ""
      ],
      "execution_count": 0,
      "outputs": []
    },
    {
      "cell_type": "code",
      "metadata": {
        "id": "AzQNQS19oyPg",
        "colab_type": "code",
        "outputId": "f2403ca3-c750-457f-ed98-0eb12bc7d59c",
        "colab": {
          "base_uri": "https://localhost:8080/",
          "height": 85
        }
      },
      "source": [
        "#.................PA................\n",
        "from sklearn.metrics import accuracy_score\n",
        "from sklearn.metrics import precision_score\n",
        "from sklearn.metrics import recall_score\n",
        "from sklearn.metrics import f1_score\n",
        "acc=list();\n",
        "prec=list();\n",
        "recall=list();\n",
        "f1=list();\n",
        "model = PassiveAggressiveClassifier(max_iter=50, tol=1e-3)\n",
        "for train_index, test_index in skf.split(X,Y):\n",
        "  #print('TRAIN', train_index, “TEST:”, test_index);\n",
        "  X_train, X_test = X[train_index], X[test_index]\n",
        "  y_train, y_test = Y[train_index], Y[test_index]\n",
        "  model.fit(X_train, y_train)\n",
        "  y_pred=model.predict(X_test)\n",
        "  #y_pred=FRS(X_train,y_train,X_test,0.15)\n",
        "  score=accuracy_score(y_test, y_pred)\n",
        "  acc.append(score)\n",
        "  score1=precision_score(y_test, y_pred, average='weighted')\n",
        "  prec.append(score1)\n",
        "  score2=recall_score(y_test, y_pred, average='weighted')\n",
        "  recall.append(score2)\n",
        "  score3=f1_score(y_test, y_pred, average='weighted')  \n",
        "  f1.append(score3)\n",
        "\n",
        "a = np.array(acc)\n",
        "print(\"Accuracy:\",a.mean(), a.std())\n",
        "b = np.array(prec)\n",
        "print(\"Precision:\",b.mean(), b.std())\n",
        "c = np.array(recall)\n",
        "print(\"Recall:\",c.mean(), c.std())\n",
        "d = np.array(f1)\n",
        "print(\"F1-score:\",d.mean(), d.std())"
      ],
      "execution_count": 0,
      "outputs": [
        {
          "output_type": "stream",
          "text": [
            "Accuracy: 0.8509636591478698 0.008658588747640077\n",
            "Precision: 0.8390559232258556 0.0074816715094764615\n",
            "Recall: 0.8509636591478698 0.008658588747640077\n",
            "F1-score: 0.8427641904341494 0.007517761545651001\n"
          ],
          "name": "stdout"
        }
      ]
    },
    {
      "cell_type": "code",
      "metadata": {
        "id": "cQ00ODs3A4zW",
        "colab_type": "code",
        "colab": {}
      },
      "source": [
        ""
      ],
      "execution_count": 0,
      "outputs": []
    },
    {
      "cell_type": "code",
      "metadata": {
        "id": "3IDKT9C6pDQ2",
        "colab_type": "code",
        "outputId": "b7406de5-3f1b-4564-d94f-2711ee4a4770",
        "colab": {
          "base_uri": "https://localhost:8080/",
          "height": 85
        }
      },
      "source": [
        "#.................BPN................\n",
        "from sklearn.metrics import accuracy_score\n",
        "from sklearn.metrics import precision_score\n",
        "from sklearn.metrics import recall_score\n",
        "from sklearn.metrics import f1_score\n",
        "acc=list();\n",
        "prec=list();\n",
        "recall=list();\n",
        "f1=list();\n",
        "model = MLPClassifier()\n",
        "for train_index, test_index in skf.split(X,Y):\n",
        "  #print('TRAIN', train_index, “TEST:”, test_index);\n",
        "  X_train, X_test = X[train_index], X[test_index]\n",
        "  y_train, y_test = Y[train_index], Y[test_index]\n",
        "  model.fit(X_train, y_train)\n",
        "  y_pred=model.predict(X_test)\n",
        "  #y_pred=FRS(X_train,y_train,X_test,0.15)\n",
        "  score=accuracy_score(y_test, y_pred)\n",
        "  acc.append(score)\n",
        "  score1=precision_score(y_test, y_pred, average='weighted')\n",
        "  prec.append(score1)\n",
        "  score2=recall_score(y_test, y_pred, average='weighted')\n",
        "  recall.append(score2)\n",
        "  score3=f1_score(y_test, y_pred, average='weighted')  \n",
        "  f1.append(score3)\n",
        "\n",
        "a = np.array(acc)\n",
        "print(\"Accuracy:\",a.mean(), a.std())\n",
        "b = np.array(prec)\n",
        "print(\"Precision:\",b.mean(), b.std())\n",
        "c = np.array(recall)\n",
        "print(\"Recall:\",c.mean(), c.std())\n",
        "d = np.array(f1)\n",
        "print(\"F1-score:\",d.mean(), d.std())"
      ],
      "execution_count": 0,
      "outputs": [
        {
          "output_type": "stream",
          "text": [
            "Accuracy: 0.8544636591478696 0.009860301469309721\n",
            "Precision: 0.8392035032575134 0.011636757535518861\n",
            "Recall: 0.8544636591478696 0.009860301469309721\n",
            "F1-score: 0.8417232208027519 0.010990599899801442\n"
          ],
          "name": "stdout"
        }
      ]
    },
    {
      "cell_type": "code",
      "metadata": {
        "id": "RPvxWMYQJ1cS",
        "colab_type": "code",
        "colab": {}
      },
      "source": [
        "#.......................END.........................."
      ],
      "execution_count": 0,
      "outputs": []
    }
  ]
}