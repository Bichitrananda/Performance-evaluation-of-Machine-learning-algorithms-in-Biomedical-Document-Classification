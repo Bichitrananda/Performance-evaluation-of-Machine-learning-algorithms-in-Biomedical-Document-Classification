{
  "nbformat": 4,
  "nbformat_minor": 0,
  "metadata": {
    "colab": {
      "name": "Farm-Ads1.ipynb",
      "provenance": [],
      "authorship_tag": "ABX9TyNl1IXAuOXXTyCzg4qNIIw3",
      "include_colab_link": true
    },
    "kernelspec": {
      "name": "python3",
      "display_name": "Python 3"
    }
  },
  "cells": [
    {
      "cell_type": "markdown",
      "metadata": {
        "id": "view-in-github",
        "colab_type": "text"
      },
      "source": [
        "<a href=\"https://colab.research.google.com/github/Bichitrananda/Performance-evaluation-of-Machine-learning-algorithms-in-Biomedical-Document-Classification/blob/master/Farm_Ads1.ipynb\" target=\"_parent\"><img src=\"https://colab.research.google.com/assets/colab-badge.svg\" alt=\"Open In Colab\"/></a>"
      ]
    },
    {
      "cell_type": "code",
      "metadata": {
        "id": "omIq_KVRZRNJ",
        "colab_type": "code",
        "outputId": "b924ede5-a870-4715-c85d-e6a990e4839a",
        "colab": {
          "base_uri": "https://localhost:8080/",
          "height": 34
        }
      },
      "source": [
        "from google.colab import drive\n",
        "drive.mount(\"/content/gdrive\")"
      ],
      "execution_count": 0,
      "outputs": [
        {
          "output_type": "stream",
          "text": [
            "Drive already mounted at /content/gdrive; to attempt to forcibly remount, call drive.mount(\"/content/gdrive\", force_remount=True).\n"
          ],
          "name": "stdout"
        }
      ]
    },
    {
      "cell_type": "code",
      "metadata": {
        "id": "tyid7C5bZVCN",
        "colab_type": "code",
        "outputId": "b3008842-e0f4-4892-f446-460b191a624d",
        "colab": {
          "base_uri": "https://localhost:8080/",
          "height": 34
        }
      },
      "source": [
        "cd gdrive/My Drive"
      ],
      "execution_count": 0,
      "outputs": [
        {
          "output_type": "stream",
          "text": [
            "/content/gdrive/My Drive\n"
          ],
          "name": "stdout"
        }
      ]
    },
    {
      "cell_type": "code",
      "metadata": {
        "id": "MBAMhn7FMZn8",
        "colab_type": "code",
        "outputId": "f52d4e72-9aaf-4cda-8def-97433de698c7",
        "colab": {
          "base_uri": "https://localhost:8080/",
          "height": 578
        }
      },
      "source": [
        "ls"
      ],
      "execution_count": 0,
      "outputs": [
        {
          "output_type": "stream",
          "text": [
            " 20_cnn_model.json             'Getting started.pdf'\n",
            " 20n_cnn_model1.json            glove.6B.50d.txt\n",
            " 20n_cnn_model.json             IMDB_weights.best.hdf5\n",
            " 20news_weights.best1.hdf5      \u001b[0m\u001b[01;34mMISSION\u001b[0m/\n",
            " 20news_weights.best.hdf5       model.json\n",
            " BC3_part1.csv                  model.yaml\n",
            " BC3_part2.csv                  \u001b[01;34modia-dataset\u001b[0m/\n",
            " \u001b[01;34mBENGALI\u001b[0m/                       project_1_reuter.ipynb\n",
            " bp_mll_keras.py                \u001b[01;34m__pycache__\u001b[0m/\n",
            " bp_mll.py                      RCNN_BC3-P2.ipynb\n",
            " cnn_frs_farm_model.json        Reuter_cnn_model.json\n",
            "\u001b[01;34m'Colab Notebooks'\u001b[0m/              Reuter_weights.best.hdf5\n",
            "'Copy of farm-ads_tr.csv'       \u001b[01;34mRMDL\u001b[0m/\n",
            "'Copy of FRS_TREC.ipynb'       \u001b[01;34m'ROUGH SET'\u001b[0m/\n",
            " data1.csv                      \u001b[01;34mSVM-CNN\u001b[0m/\n",
            " data3.csv                      test.csv\n",
            " data4.csv                      test_labels.csv\n",
            " data.csv                       \u001b[01;34mTEXT_CODE\u001b[0m/\n",
            " data_WOS5736.csv               text_feature_extraction.py\n",
            "\u001b[01;34m'DEEP LEARING'\u001b[0m/                 train.csv\n",
            " diabetes.csv                   trec.csv\n",
            " diabetes.ipynb                 Untitled0.ipynb\n",
            " DNN_TREC_embed.ipynb           Untitled1.ipynb\n",
            " Download_WOS.py                Untitled2.ipynb\n",
            " farm-ads_tr.csv                weights.best.hdf5\n",
            " \u001b[01;34mFRS\u001b[0m/                           WOS11967_cnn_model.json\n",
            " frs_BC3-p1_cnn_model.json      WOS11967_weights.best.hdf5\n",
            " frs_bc3-p2_cnn_model.json      WOS46985_weights.best.hdf5\n",
            " frs_bc3-p2_weights.best.hdf5   WOS5736_cnn_model_frs.json\n",
            " frs_farm_weights.best.hdf5     WOS5736_cnn_model.json\n",
            " frs.py                         WOS5736_weights.best_frs.hdf5\n",
            " frs_trec_cnn_model.json        WOS5736_weights.best.hdf5\n",
            " frs_trec_weights.best.hdf5     yeast.npz\n"
          ],
          "name": "stdout"
        }
      ]
    },
    {
      "cell_type": "code",
      "metadata": {
        "id": "yHCZJ2w4aD_A",
        "colab_type": "code",
        "colab": {}
      },
      "source": [
        "import numpy as np\n",
        "import sklearn\n",
        "from sklearn.datasets import load_files\n",
        "import sys\n",
        "from time import time\n",
        "import matplotlib.pyplot as plt\n",
        "from sklearn.feature_extraction.text import CountVectorizer\n",
        "from sklearn.feature_extraction.text import TfidfTransformer\n",
        "from sklearn.feature_extraction.text import HashingVectorizer\n",
        "from sklearn.feature_selection import SelectFromModel\n",
        "from sklearn.feature_selection import SelectKBest, chi2\n",
        "from sklearn.linear_model import RidgeClassifier\n",
        "from sklearn import tree\n",
        "from sklearn.pipeline import Pipeline\n",
        "from sklearn.svm import LinearSVC\n",
        "from sklearn.linear_model import SGDClassifier\n",
        "from sklearn.linear_model import Perceptron\n",
        "from sklearn.linear_model import PassiveAggressiveClassifier\n",
        "from sklearn.naive_bayes import BernoulliNB, MultinomialNB\n",
        "from sklearn.neural_network import MLPClassifier\n",
        "from sklearn.neighbors import KNeighborsClassifier\n",
        "from sklearn.neighbors import NearestCentroid\n",
        "from sklearn.ensemble import RandomForestClassifier\n",
        "from sklearn.utils.extmath import density\n",
        "from sklearn import metrics\n",
        "from sklearn.model_selection import train_test_split\n",
        "import pandas as pd"
      ],
      "execution_count": 0,
      "outputs": []
    },
    {
      "cell_type": "code",
      "metadata": {
        "id": "etxIh0fVcaqj",
        "colab_type": "code",
        "outputId": "f7c5b38c-6d86-4402-ba3e-12ac7ff842be",
        "colab": {
          "base_uri": "https://localhost:8080/",
          "height": 68
        }
      },
      "source": [
        "import nltk\n",
        "nltk.download('punkt')"
      ],
      "execution_count": 0,
      "outputs": [
        {
          "output_type": "stream",
          "text": [
            "[nltk_data] Downloading package punkt to /root/nltk_data...\n",
            "[nltk_data]   Package punkt is already up-to-date!\n"
          ],
          "name": "stdout"
        },
        {
          "output_type": "execute_result",
          "data": {
            "text/plain": [
              "True"
            ]
          },
          "metadata": {
            "tags": []
          },
          "execution_count": 14
        }
      ]
    },
    {
      "cell_type": "code",
      "metadata": {
        "id": "uf7VqlWcauxt",
        "colab_type": "code",
        "outputId": "61ca22b4-4722-4c8b-a503-bfbd285289d9",
        "colab": {
          "base_uri": "https://localhost:8080/",
          "height": 204
        }
      },
      "source": [
        "import pandas as pd\n",
        "#Data description\n",
        "df2=pd.read_csv('farm-ads_tr.csv')\n",
        "df2.head()\n"
      ],
      "execution_count": 0,
      "outputs": [
        {
          "output_type": "execute_result",
          "data": {
            "text/html": [
              "<div>\n",
              "<style scoped>\n",
              "    .dataframe tbody tr th:only-of-type {\n",
              "        vertical-align: middle;\n",
              "    }\n",
              "\n",
              "    .dataframe tbody tr th {\n",
              "        vertical-align: top;\n",
              "    }\n",
              "\n",
              "    .dataframe thead th {\n",
              "        text-align: right;\n",
              "    }\n",
              "</style>\n",
              "<table border=\"1\" class=\"dataframe\">\n",
              "  <thead>\n",
              "    <tr style=\"text-align: right;\">\n",
              "      <th></th>\n",
              "      <th>Label</th>\n",
              "      <th>Abstract</th>\n",
              "    </tr>\n",
              "  </thead>\n",
              "  <tbody>\n",
              "    <tr>\n",
              "      <th>0</th>\n",
              "      <td>1</td>\n",
              "      <td>ad-jerry ad-bruckheimer ad-chase ad-premier ad...</td>\n",
              "    </tr>\n",
              "    <tr>\n",
              "      <th>1</th>\n",
              "      <td>0</td>\n",
              "      <td>ad-rheumatoid ad-arthritis ad-expert ad-tip ad...</td>\n",
              "    </tr>\n",
              "    <tr>\n",
              "      <th>2</th>\n",
              "      <td>0</td>\n",
              "      <td>ad-rheumatologist ad-anju ad-varghese ad-yonke...</td>\n",
              "    </tr>\n",
              "    <tr>\n",
              "      <th>3</th>\n",
              "      <td>0</td>\n",
              "      <td>ad-siemen ad-water ad-remediation ad-water ad-...</td>\n",
              "    </tr>\n",
              "    <tr>\n",
              "      <th>4</th>\n",
              "      <td>0</td>\n",
              "      <td>ad-symptom ad-muscle ad-weakness ad-genetic ad...</td>\n",
              "    </tr>\n",
              "  </tbody>\n",
              "</table>\n",
              "</div>"
            ],
            "text/plain": [
              "   Label                                           Abstract\n",
              "0      1  ad-jerry ad-bruckheimer ad-chase ad-premier ad...\n",
              "1      0  ad-rheumatoid ad-arthritis ad-expert ad-tip ad...\n",
              "2      0  ad-rheumatologist ad-anju ad-varghese ad-yonke...\n",
              "3      0  ad-siemen ad-water ad-remediation ad-water ad-...\n",
              "4      0  ad-symptom ad-muscle ad-weakness ad-genetic ad..."
            ]
          },
          "metadata": {
            "tags": []
          },
          "execution_count": 16
        }
      ]
    },
    {
      "cell_type": "code",
      "metadata": {
        "id": "lNuMALmwHqj-",
        "colab_type": "code",
        "outputId": "60addb63-758c-4d89-b736-6a705d1ae2a0",
        "colab": {
          "base_uri": "https://localhost:8080/",
          "height": 85
        }
      },
      "source": [
        "df2.groupby('Label').size()"
      ],
      "execution_count": 0,
      "outputs": [
        {
          "output_type": "execute_result",
          "data": {
            "text/plain": [
              "Label\n",
              "0    1932\n",
              "1    2210\n",
              "dtype: int64"
            ]
          },
          "metadata": {
            "tags": []
          },
          "execution_count": 8
        }
      ]
    },
    {
      "cell_type": "code",
      "metadata": {
        "id": "eZRvRGrXHiE1",
        "colab_type": "code",
        "outputId": "fa309cf4-16cc-408f-ffcf-179ae0dfae51",
        "colab": {
          "base_uri": "https://localhost:8080/",
          "height": 51
        }
      },
      "source": [
        "#sentences=df2['Abstract']\n",
        "#labels=df2['Label']\n",
        "#split the data into train and test dataset\n",
        "#print(len(sentences))\n",
        "train_data=df2['Abstract']\n",
        "Y=df2['Label']\n",
        "print(len(train_data))\n",
        "bbc_vec = CountVectorizer(min_df=2, tokenizer=nltk.word_tokenize, encoding='latin-1')\n",
        "bbc_counts = bbc_vec.fit_transform(train_data.values.astype('U'))\n",
        "tfidf_transformer = TfidfTransformer()\n",
        "X = tfidf_transformer.fit_transform(bbc_counts)\n",
        "print(X.shape)"
      ],
      "execution_count": 0,
      "outputs": [
        {
          "output_type": "stream",
          "text": [
            "4142\n",
            "(4142, 26486)\n"
          ],
          "name": "stdout"
        }
      ]
    },
    {
      "cell_type": "code",
      "metadata": {
        "id": "zYPNqwGeaPZw",
        "colab_type": "code",
        "outputId": "71a476e6-23bb-4737-f224-81336317b1f8",
        "colab": {
          "base_uri": "https://localhost:8080/",
          "height": 71
        }
      },
      "source": [
        "#from sklearn.model_selection import StratifiedKFold\n",
        "#kfold = StratifiedKFold(n_splits=10, random_state=7)"
      ],
      "execution_count": 0,
      "outputs": [
        {
          "output_type": "stream",
          "text": [
            "/usr/local/lib/python3.6/dist-packages/sklearn/model_selection/_split.py:296: FutureWarning: Setting a random_state has no effect since shuffle is False. This will raise an error in 0.24. You should leave random_state to its default (None), or set shuffle=True.\n",
            "  FutureWarning\n"
          ],
          "name": "stderr"
        }
      ]
    },
    {
      "cell_type": "code",
      "metadata": {
        "id": "fJeJE02VLqun",
        "colab_type": "code",
        "colab": {}
      },
      "source": [
        ""
      ],
      "execution_count": 0,
      "outputs": []
    },
    {
      "cell_type": "code",
      "metadata": {
        "id": "cb3HgiggLq8A",
        "colab_type": "code",
        "outputId": "cd95d2a2-056b-48d4-c8e8-de8f20bb22e9",
        "colab": {
          "base_uri": "https://localhost:8080/",
          "height": 858
        }
      },
      "source": [
        "#Comparision of Algorithms\n",
        "from sklearn.model_selection import StratifiedKFold\n",
        "from sklearn.model_selection import cross_val_score\n",
        "from matplotlib import pyplot\n",
        "from sklearn import svm\n",
        "# prepare models\n",
        "models = []\n",
        "models.append(('KNN', KNeighborsClassifier(n_neighbors=10)))\n",
        "models.append(('DT', tree.DecisionTreeClassifier()))\n",
        "#models.append(('KNN', KNeighborsClassifier()))\n",
        "models.append(('MNB', MultinomialNB(alpha=.01)))\n",
        "models.append(('BNB', BernoulliNB(alpha=.01)))\n",
        "models.append(('RF', RandomForestClassifier(n_estimators=100)))\n",
        "models.append(('SVM', svm.SVC()))\n",
        "models.append(('PPN', Perceptron(max_iter=50, tol=1e-3)))\n",
        "models.append(('SGD', SGDClassifier(alpha=.0001, max_iter=50,penalty=\"l1\")))\n",
        "models.append(('Ridge', RidgeClassifier(tol=1e-2, solver=\"sag\")))\n",
        "models.append(('RC', NearestCentroid()))\n",
        "models.append(('PA', PassiveAggressiveClassifier(max_iter=50, tol=1e-3)))\n",
        "models.append(('BPN', MLPClassifier()))\n",
        "\n",
        "\n",
        "# evaluate each model in turn\n",
        "results = []\n",
        "names = []\n",
        "scoring = 'accuracy'\n",
        "for name, model in models:\n",
        "  kfold = StratifiedKFold(n_splits=10)\n",
        "  cv_results = cross_val_score(model, X, Y, cv=kfold, scoring=scoring)\n",
        "  results.append(cv_results)\n",
        "  names.append(name)\n",
        "  msg = \"%s: %f (%f)\" % (name, cv_results.mean(), cv_results.std())\n",
        "  print(msg)\n",
        "# boxplot algorithm comparison\n",
        "fig = pyplot.figure()\n",
        "fig.suptitle('Algorithm Comparison')\n",
        "ax = fig.add_subplot(111)\n",
        "pyplot.boxplot(results)\n",
        "ax.set_xticklabels(names)\n",
        "pyplot.show()"
      ],
      "execution_count": 0,
      "outputs": [
        {
          "output_type": "stream",
          "text": [
            "KNN: 0.878806 (0.016527)\n",
            "DT: 0.864563 (0.011182)\n",
            "MNB: 0.906571 (0.009062)\n",
            "BNB: 0.861190 (0.018957)\n",
            "RF: 0.901499 (0.009626)\n",
            "SVM: 0.912364 (0.008410)\n",
            "PPN: 0.900049 (0.007944)\n",
            "SGD: 0.905601 (0.011557)\n"
          ],
          "name": "stdout"
        },
        {
          "output_type": "stream",
          "text": [
            "/usr/local/lib/python3.6/dist-packages/sklearn/linear_model/_ridge.py:558: UserWarning: \"sag\" solver requires many iterations to fit an intercept with sparse inputs. Either set the solver to \"auto\" or \"sparse_cg\", or set a low \"tol\" and a high \"max_iter\" (especially if inputs are not standardized).\n",
            "  '\"sag\" solver requires many iterations to fit '\n",
            "/usr/local/lib/python3.6/dist-packages/sklearn/linear_model/_ridge.py:558: UserWarning: \"sag\" solver requires many iterations to fit an intercept with sparse inputs. Either set the solver to \"auto\" or \"sparse_cg\", or set a low \"tol\" and a high \"max_iter\" (especially if inputs are not standardized).\n",
            "  '\"sag\" solver requires many iterations to fit '\n",
            "/usr/local/lib/python3.6/dist-packages/sklearn/linear_model/_ridge.py:558: UserWarning: \"sag\" solver requires many iterations to fit an intercept with sparse inputs. Either set the solver to \"auto\" or \"sparse_cg\", or set a low \"tol\" and a high \"max_iter\" (especially if inputs are not standardized).\n",
            "  '\"sag\" solver requires many iterations to fit '\n",
            "/usr/local/lib/python3.6/dist-packages/sklearn/linear_model/_ridge.py:558: UserWarning: \"sag\" solver requires many iterations to fit an intercept with sparse inputs. Either set the solver to \"auto\" or \"sparse_cg\", or set a low \"tol\" and a high \"max_iter\" (especially if inputs are not standardized).\n",
            "  '\"sag\" solver requires many iterations to fit '\n",
            "/usr/local/lib/python3.6/dist-packages/sklearn/linear_model/_ridge.py:558: UserWarning: \"sag\" solver requires many iterations to fit an intercept with sparse inputs. Either set the solver to \"auto\" or \"sparse_cg\", or set a low \"tol\" and a high \"max_iter\" (especially if inputs are not standardized).\n",
            "  '\"sag\" solver requires many iterations to fit '\n",
            "/usr/local/lib/python3.6/dist-packages/sklearn/linear_model/_ridge.py:558: UserWarning: \"sag\" solver requires many iterations to fit an intercept with sparse inputs. Either set the solver to \"auto\" or \"sparse_cg\", or set a low \"tol\" and a high \"max_iter\" (especially if inputs are not standardized).\n",
            "  '\"sag\" solver requires many iterations to fit '\n",
            "/usr/local/lib/python3.6/dist-packages/sklearn/linear_model/_ridge.py:558: UserWarning: \"sag\" solver requires many iterations to fit an intercept with sparse inputs. Either set the solver to \"auto\" or \"sparse_cg\", or set a low \"tol\" and a high \"max_iter\" (especially if inputs are not standardized).\n",
            "  '\"sag\" solver requires many iterations to fit '\n",
            "/usr/local/lib/python3.6/dist-packages/sklearn/linear_model/_ridge.py:558: UserWarning: \"sag\" solver requires many iterations to fit an intercept with sparse inputs. Either set the solver to \"auto\" or \"sparse_cg\", or set a low \"tol\" and a high \"max_iter\" (especially if inputs are not standardized).\n",
            "  '\"sag\" solver requires many iterations to fit '\n",
            "/usr/local/lib/python3.6/dist-packages/sklearn/linear_model/_ridge.py:558: UserWarning: \"sag\" solver requires many iterations to fit an intercept with sparse inputs. Either set the solver to \"auto\" or \"sparse_cg\", or set a low \"tol\" and a high \"max_iter\" (especially if inputs are not standardized).\n",
            "  '\"sag\" solver requires many iterations to fit '\n",
            "/usr/local/lib/python3.6/dist-packages/sklearn/linear_model/_ridge.py:558: UserWarning: \"sag\" solver requires many iterations to fit an intercept with sparse inputs. Either set the solver to \"auto\" or \"sparse_cg\", or set a low \"tol\" and a high \"max_iter\" (especially if inputs are not standardized).\n",
            "  '\"sag\" solver requires many iterations to fit '\n"
          ],
          "name": "stderr"
        },
        {
          "output_type": "stream",
          "text": [
            "Ridge: 0.914055 (0.006963)\n",
            "RC: 0.868661 (0.014470)\n",
            "PA: 0.903914 (0.008992)\n",
            "BPN: 0.901255 (0.009747)\n"
          ],
          "name": "stdout"
        },
        {
          "output_type": "display_data",
          "data": {
            "image/png": "[encoded data removed]",
            "text/plain": [
              "<Figure size 432x288 with 1 Axes>"
            ]
          },
          "metadata": {
            "tags": [],
            "needs_background": "light"
          }
        }
      ]
    },
    {
      "cell_type": "code",
      "metadata": {
        "id": "PESG-SUZLrGI",
        "colab_type": "code",
        "colab": {}
      },
      "source": [
        "#.......Evaluationg Accuracy, precision, recall, f1-score for all algo....#"
      ],
      "execution_count": 0,
      "outputs": []
    },
    {
      "cell_type": "code",
      "metadata": {
        "id": "d-7y2OKnzvN8",
        "colab_type": "code",
        "outputId": "b6b4d3ba-65e8-47e0-9d73-5e1625d46bcf",
        "colab": {
          "base_uri": "https://localhost:8080/",
          "height": 34
        }
      },
      "source": [
        "import numpy as np\n",
        "from sklearn.model_selection import StratifiedKFold\n",
        "skf = StratifiedKFold(n_splits=10) # Define the split - into 2 folds \n",
        "skf.get_n_splits(X,Y)\n",
        "print(skf)"
      ],
      "execution_count": 0,
      "outputs": [
        {
          "output_type": "stream",
          "text": [
            "StratifiedKFold(n_splits=10, random_state=None, shuffle=False)\n"
          ],
          "name": "stdout"
        }
      ]
    },
    {
      "cell_type": "code",
      "metadata": {
        "id": "5_jJpp6orVKA",
        "colab_type": "code",
        "outputId": "fabe487a-3c8a-4d98-beec-cb8ae27ea16c",
        "colab": {
          "base_uri": "https://localhost:8080/",
          "height": 85
        }
      },
      "source": [
        "#.................SVM................\n",
        "from sklearn.metrics import accuracy_score\n",
        "from sklearn.metrics import precision_score\n",
        "from sklearn.metrics import recall_score\n",
        "from sklearn.metrics import f1_score\n",
        "acc=list();\n",
        "prec=list();\n",
        "recall=list();\n",
        "f1=list();\n",
        "from sklearn import svm\n",
        "model = svm.SVC()\n",
        "for train_index, test_index in skf.split(X,Y):\n",
        "  #print('TRAIN', train_index, “TEST:”, test_index);\n",
        "  X_train, X_test = X[train_index], X[test_index]\n",
        "  y_train, y_test = Y[train_index], Y[test_index]\n",
        "  model.fit(X_train, y_train)\n",
        "  y_pred=model.predict(X_test)\n",
        "  #y_pred=FRS(X_train,y_train,X_test,0.15)\n",
        "  score=accuracy_score(y_test, y_pred)\n",
        "  acc.append(score)\n",
        "  #score1=precision_score(y_test, y_pred, average='weighted')\n",
        "  score1=precision_score(y_test, y_pred, average='weighted')\n",
        "  prec.append(score1)\n",
        "  #score2=recall_score(y_test, y_pred, average='weighted')\n",
        "  score2=recall_score(y_test, y_pred, average='weighted')\n",
        "  recall.append(score2)\n",
        "  #score3=f1_score(y_test, y_pred, average='weighted')  \n",
        "  score3=f1_score(y_test, y_pred, average='weighted')  \n",
        "  f1.append(score3)\n",
        "  a = np.array(acc)\n",
        "\n",
        "print(\"Accuracy:\",a.mean(), a.std())\n",
        "b = np.array(prec)\n",
        "print(\"Precision:\",b.mean(), b.std())\n",
        "c = np.array(recall)\n",
        "print(\"Recall:\",c.mean(), c.std())\n",
        "d = np.array(f1)\n",
        "print(\"F1-score:\",d.mean(), d.std())"
      ],
      "execution_count": 0,
      "outputs": [
        {
          "output_type": "stream",
          "text": [
            "Accuracy: 0.9123636575286653 0.008410419089658342\n",
            "Precision: 0.9149323459808307 0.007999532115239212\n",
            "Recall: 0.9123636575286653 0.008410419089658342\n",
            "F1-score: 0.9119497153862752 0.008507787465045737\n"
          ],
          "name": "stdout"
        }
      ]
    },
    {
      "cell_type": "code",
      "metadata": {
        "id": "Vm357I3xs6X4",
        "colab_type": "code",
        "colab": {}
      },
      "source": [
        ""
      ],
      "execution_count": 0,
      "outputs": []
    },
    {
      "cell_type": "code",
      "metadata": {
        "id": "EMcGG0H4s61w",
        "colab_type": "code",
        "outputId": "fcbf123b-6010-42bb-8364-0669660443b4",
        "colab": {
          "base_uri": "https://localhost:8080/",
          "height": 85
        }
      },
      "source": [
        "#.................KNN................\n",
        "from sklearn.metrics import accuracy_score\n",
        "from sklearn.metrics import precision_score\n",
        "from sklearn.metrics import recall_score\n",
        "from sklearn.metrics import f1_score\n",
        "acc=list();\n",
        "prec=list();\n",
        "recall=list();\n",
        "f1=list();\n",
        "from sklearn import svm\n",
        "model = KNeighborsClassifier(n_neighbors=10)\n",
        "for train_index, test_index in skf.split(X,Y):\n",
        "  #print('TRAIN', train_index, “TEST:”, test_index);\n",
        "  X_train, X_test = X[train_index], X[test_index]\n",
        "  y_train, y_test = Y[train_index], Y[test_index]\n",
        "  model.fit(X_train, y_train)\n",
        "  y_pred=model.predict(X_test)\n",
        "  #y_pred=FRS(X_train,y_train,X_test,0.15)\n",
        "  score=accuracy_score(y_test, y_pred)\n",
        "  acc.append(score)\n",
        "  score1=precision_score(y_test, y_pred, average='weighted')\n",
        "  prec.append(score1)\n",
        "  score2=recall_score(y_test, y_pred, average='weighted')\n",
        "  recall.append(score2)\n",
        "  score3=f1_score(y_test, y_pred, average='weighted')  \n",
        "  f1.append(score3)\n",
        "\n",
        "a = np.array(acc)\n",
        "print(\"Accuracy:\",a.mean(), a.std())\n",
        "b = np.array(prec)\n",
        "print(\"Precision:\",b.mean(), b.std())\n",
        "c = np.array(recall)\n",
        "print(\"Recall:\",c.mean(), c.std())\n",
        "d = np.array(f1)\n",
        "print(\"F1-score:\",d.mean(), d.std())"
      ],
      "execution_count": 0,
      "outputs": [
        {
          "output_type": "stream",
          "text": [
            "Accuracy: 0.8788056574122578 0.016527056996588015\n",
            "Precision: 0.8796725763954065 0.01677690571096911\n",
            "Recall: 0.8788056574122578 0.016527056996588015\n",
            "F1-score: 0.8785067739489956 0.01653569175556832\n"
          ],
          "name": "stdout"
        }
      ]
    },
    {
      "cell_type": "code",
      "metadata": {
        "id": "uhQWwjjwtgPp",
        "colab_type": "code",
        "colab": {}
      },
      "source": [
        ""
      ],
      "execution_count": 0,
      "outputs": []
    },
    {
      "cell_type": "code",
      "metadata": {
        "id": "7iHgs5BAtger",
        "colab_type": "code",
        "outputId": "db30dda8-71e5-4a9a-e99c-e8efcb8782bf",
        "colab": {
          "base_uri": "https://localhost:8080/",
          "height": 85
        }
      },
      "source": [
        "#.................DT................\n",
        "from sklearn.metrics import accuracy_score\n",
        "from sklearn.metrics import precision_score\n",
        "from sklearn.metrics import recall_score\n",
        "from sklearn.metrics import f1_score\n",
        "acc=list();\n",
        "prec=list();\n",
        "recall=list();\n",
        "f1=list();\n",
        "from sklearn import tree\n",
        "model = tree.DecisionTreeClassifier()\n",
        "for train_index, test_index in skf.split(X,Y):\n",
        "  #print('TRAIN', train_index, “TEST:”, test_index);\n",
        "  X_train, X_test = X[train_index], X[test_index]\n",
        "  y_train, y_test = Y[train_index], Y[test_index]\n",
        "  model.fit(X_train, y_train)\n",
        "  y_pred=model.predict(X_test)\n",
        "  #y_pred=FRS(X_train,y_train,X_test,0.15)\n",
        "  score=accuracy_score(y_test, y_pred)\n",
        "  acc.append(score)\n",
        "  score1=precision_score(y_test, y_pred, average='weighted')\n",
        "  prec.append(score1)\n",
        "  score2=recall_score(y_test, y_pred, average='weighted')\n",
        "  recall.append(score2)\n",
        "  score3=f1_score(y_test, y_pred, average='weighted')  \n",
        "  f1.append(score3)\n",
        "\n",
        "a = np.array(acc)\n",
        "print(\"Accuracy:\",a.mean(), a.std())\n",
        "b = np.array(prec)\n",
        "print(\"Precision:\",b.mean(), b.std())\n",
        "c = np.array(recall)\n",
        "print(\"Recall:\",c.mean(), c.std())\n",
        "d = np.array(f1)\n",
        "print(\"F1-score:\",d.mean(), d.std())"
      ],
      "execution_count": 0,
      "outputs": [
        {
          "output_type": "stream",
          "text": [
            "Accuracy: 0.8684250043652872 0.007659899736728784\n",
            "Precision: 0.8691787914962305 0.007719331673536846\n",
            "Recall: 0.8684250043652872 0.007659899736728784\n",
            "F1-score: 0.86825460106503 0.007714486186378308\n"
          ],
          "name": "stdout"
        }
      ]
    },
    {
      "cell_type": "code",
      "metadata": {
        "id": "QtCzG_WAt7hw",
        "colab_type": "code",
        "colab": {}
      },
      "source": [
        ""
      ],
      "execution_count": 0,
      "outputs": []
    },
    {
      "cell_type": "code",
      "metadata": {
        "id": "9Pr3xQw5t7yL",
        "colab_type": "code",
        "outputId": "1042229b-05c4-4f51-db07-7988baa5adf1",
        "colab": {
          "base_uri": "https://localhost:8080/",
          "height": 85
        }
      },
      "source": [
        "#.................RF................\n",
        "from sklearn.metrics import accuracy_score\n",
        "from sklearn.metrics import precision_score\n",
        "from sklearn.metrics import recall_score\n",
        "from sklearn.metrics import f1_score\n",
        "acc=list();\n",
        "prec=list();\n",
        "recall=list();\n",
        "f1=list();\n",
        "from sklearn.ensemble import RandomForestClassifier\n",
        "model = RandomForestClassifier(n_estimators=100)\n",
        "for train_index, test_index in skf.split(X,Y):\n",
        "  #print('TRAIN', train_index, “TEST:”, test_index);\n",
        "  X_train, X_test = X[train_index], X[test_index]\n",
        "  y_train, y_test = Y[train_index], Y[test_index]\n",
        "  model.fit(X_train, y_train)\n",
        "  y_pred=model.predict(X_test)\n",
        "  #y_pred=FRS(X_train,y_train,X_test,0.15)\n",
        "  score=accuracy_score(y_test, y_pred)\n",
        "  acc.append(score)\n",
        "  score1=precision_score(y_test, y_pred, average='weighted')\n",
        "  prec.append(score1)\n",
        "  score2=recall_score(y_test, y_pred, average='weighted')\n",
        "  recall.append(score2)\n",
        "  score3=f1_score(y_test, y_pred, average='weighted')  \n",
        "  f1.append(score3)\n",
        "\n",
        "a = np.array(acc)\n",
        "print(\"Accuracy:\",a.mean(), a.std())\n",
        "b = np.array(prec)\n",
        "print(\"Precision:\",b.mean(), b.std())\n",
        "c = np.array(recall)\n",
        "print(\"Recall:\",c.mean(), c.std())\n",
        "d = np.array(f1)\n",
        "print(\"F1-score:\",d.mean(), d.std())"
      ],
      "execution_count": 0,
      "outputs": [
        {
          "output_type": "stream",
          "text": [
            "Accuracy: 0.9043967173039986 0.01028214505729393\n",
            "Precision: 0.9074437602160002 0.01064744395552877\n",
            "Recall: 0.9043967173039986 0.01028214505729393\n",
            "F1-score: 0.9038967154956463 0.010312715927616636\n"
          ],
          "name": "stdout"
        }
      ]
    },
    {
      "cell_type": "code",
      "metadata": {
        "id": "giKjo76uuSNl",
        "colab_type": "code",
        "colab": {}
      },
      "source": [
        ""
      ],
      "execution_count": 0,
      "outputs": []
    },
    {
      "cell_type": "code",
      "metadata": {
        "id": "jdIUnBPcuSbt",
        "colab_type": "code",
        "outputId": "31e27dc8-e4f1-445b-977a-f9484ccdc1b0",
        "colab": {
          "base_uri": "https://localhost:8080/",
          "height": 85
        }
      },
      "source": [
        "#.................MNB................\n",
        "from sklearn.metrics import accuracy_score\n",
        "from sklearn.metrics import precision_score\n",
        "from sklearn.metrics import recall_score\n",
        "from sklearn.metrics import f1_score\n",
        "acc=list();\n",
        "prec=list();\n",
        "recall=list();\n",
        "f1=list();\n",
        "from sklearn.naive_bayes import BernoulliNB, MultinomialNB\n",
        "model = MultinomialNB(alpha=.01)\n",
        "for train_index, test_index in skf.split(X,Y):\n",
        "  #print('TRAIN', train_index, “TEST:”, test_index);\n",
        "  X_train, X_test = X[train_index], X[test_index]\n",
        "  y_train, y_test = Y[train_index], Y[test_index]\n",
        "  model.fit(X_train, y_train)\n",
        "  y_pred=model.predict(X_test)\n",
        "  #y_pred=FRS(X_train,y_train,X_test,0.15)\n",
        "  score=accuracy_score(y_test, y_pred)\n",
        "  acc.append(score)\n",
        "  score1=precision_score(y_test, y_pred, average='weighted')\n",
        "  prec.append(score1)\n",
        "  score2=recall_score(y_test, y_pred, average='weighted')\n",
        "  recall.append(score2)\n",
        "  score3=f1_score(y_test, y_pred, average='weighted')  \n",
        "  f1.append(score3)\n",
        "\n",
        "a = np.array(acc)\n",
        "print(\"Accuracy:\",a.mean(), a.std())\n",
        "b = np.array(prec)\n",
        "print(\"Precision:\",b.mean(), b.std())\n",
        "c = np.array(recall)\n",
        "print(\"Recall:\",c.mean(), c.std())\n",
        "d = np.array(f1)\n",
        "print(\"F1-score:\",d.mean(), d.std())"
      ],
      "execution_count": 0,
      "outputs": [
        {
          "output_type": "stream",
          "text": [
            "Accuracy: 0.9065706303474768 0.009061737589956336\n",
            "Precision: 0.9089971449228417 0.00869039252438242\n",
            "Recall: 0.9065706303474768 0.009061737589956336\n",
            "F1-score: 0.9061430758628927 0.009162184721618073\n"
          ],
          "name": "stdout"
        }
      ]
    },
    {
      "cell_type": "code",
      "metadata": {
        "id": "3d1qo9qSusd3",
        "colab_type": "code",
        "colab": {}
      },
      "source": [
        ""
      ],
      "execution_count": 0,
      "outputs": []
    },
    {
      "cell_type": "code",
      "metadata": {
        "id": "kTCTqm0YusrE",
        "colab_type": "code",
        "outputId": "f67b891e-3c85-416a-e5ad-502c8794c659",
        "colab": {
          "base_uri": "https://localhost:8080/",
          "height": 85
        }
      },
      "source": [
        "#.................BNB................\n",
        "from sklearn.metrics import accuracy_score\n",
        "from sklearn.metrics import precision_score\n",
        "from sklearn.metrics import recall_score\n",
        "from sklearn.metrics import f1_score\n",
        "acc=list();\n",
        "prec=list();\n",
        "recall=list();\n",
        "f1=list();\n",
        "from sklearn.naive_bayes import BernoulliNB, MultinomialNB\n",
        "model = BernoulliNB(alpha=.01)\n",
        "for train_index, test_index in skf.split(X,Y):\n",
        "  #print('TRAIN', train_index, “TEST:”, test_index);\n",
        "  X_train, X_test = X[train_index], X[test_index]\n",
        "  y_train, y_test = Y[train_index], Y[test_index]\n",
        "  model.fit(X_train, y_train)\n",
        "  y_pred=model.predict(X_test)\n",
        "  #y_pred=FRS(X_train,y_train,X_test,0.15)\n",
        "  score=accuracy_score(y_test, y_pred)\n",
        "  acc.append(score)\n",
        "  score1=precision_score(y_test, y_pred, average='weighted')\n",
        "  prec.append(score1)\n",
        "  score2=recall_score(y_test, y_pred, average='weighted')\n",
        "  recall.append(score2)\n",
        "  score3=f1_score(y_test, y_pred, average='weighted')  \n",
        "  f1.append(score3)\n",
        "\n",
        "a = np.array(acc)\n",
        "print(\"Accuracy:\",a.mean(), a.std())\n",
        "b = np.array(prec)\n",
        "print(\"Precision:\",b.mean(), b.std())\n",
        "c = np.array(recall)\n",
        "print(\"Recall:\",c.mean(), c.std())\n",
        "d = np.array(f1)\n",
        "print(\"F1-score:\",d.mean(), d.std())"
      ],
      "execution_count": 0,
      "outputs": [
        {
          "output_type": "stream",
          "text": [
            "Accuracy: 0.8611896862813573 0.018956634605172454\n",
            "Precision: 0.8642576039391627 0.01685156646790722\n",
            "Recall: 0.8611896862813573 0.018956634605172454\n",
            "F1-score: 0.8612514739284901 0.018971786587609896\n"
          ],
          "name": "stdout"
        }
      ]
    },
    {
      "cell_type": "code",
      "metadata": {
        "id": "VpCxJEdu9_HC",
        "colab_type": "code",
        "colab": {}
      },
      "source": [
        ""
      ],
      "execution_count": 0,
      "outputs": []
    },
    {
      "cell_type": "code",
      "metadata": {
        "id": "iWD8dDHk5pcD",
        "colab_type": "code",
        "outputId": "62d5872c-304d-46b6-d4f2-4183bf4d7151",
        "colab": {
          "base_uri": "https://localhost:8080/",
          "height": 85
        }
      },
      "source": [
        "#.................PPN................\n",
        "from sklearn.metrics import accuracy_score\n",
        "from sklearn.metrics import precision_score\n",
        "from sklearn.metrics import recall_score\n",
        "from sklearn.metrics import f1_score\n",
        "acc=list();\n",
        "prec=list();\n",
        "recall=list();\n",
        "f1=list();\n",
        "from sklearn.naive_bayes import BernoulliNB, MultinomialNB\n",
        "model = Perceptron(max_iter=50, tol=1e-3)\n",
        "for train_index, test_index in skf.split(X,Y):\n",
        "  #print('TRAIN', train_index, “TEST:”, test_index);\n",
        "  X_train, X_test = X[train_index], X[test_index]\n",
        "  y_train, y_test = Y[train_index], Y[test_index]\n",
        "  model.fit(X_train, y_train)\n",
        "  y_pred=model.predict(X_test)\n",
        "  #y_pred=FRS(X_train,y_train,X_test,0.15)\n",
        "  score=accuracy_score(y_test, y_pred)\n",
        "  acc.append(score)\n",
        "  score1=precision_score(y_test, y_pred, average='weighted')\n",
        "  prec.append(score1)\n",
        "  score2=recall_score(y_test, y_pred, average='weighted')\n",
        "  recall.append(score2)\n",
        "  score3=f1_score(y_test, y_pred, average='weighted')  \n",
        "  f1.append(score3)\n",
        "\n",
        "a = np.array(acc)\n",
        "print(\"Accuracy:\",a.mean(), a.std())\n",
        "b = np.array(prec)\n",
        "print(\"Precision:\",b.mean(), b.std())\n",
        "c = np.array(recall)\n",
        "print(\"Recall:\",c.mean(), c.std())\n",
        "d = np.array(f1)\n",
        "print(\"F1-score:\",d.mean(), d.std())"
      ],
      "execution_count": 0,
      "outputs": [
        {
          "output_type": "stream",
          "text": [
            "Accuracy: 0.9000488912170421 0.00794438151662253\n",
            "Precision: 0.9010185001273483 0.007735867521662739\n",
            "Recall: 0.9000488912170421 0.00794438151662253\n",
            "F1-score: 0.8998345021536872 0.00799870884698947\n"
          ],
          "name": "stdout"
        }
      ]
    },
    {
      "cell_type": "code",
      "metadata": {
        "id": "Pg46e2JP_uHf",
        "colab_type": "code",
        "colab": {}
      },
      "source": [
        ""
      ],
      "execution_count": 0,
      "outputs": []
    },
    {
      "cell_type": "code",
      "metadata": {
        "id": "wRa0b7PG5_pw",
        "colab_type": "code",
        "outputId": "4a1332f1-ef0f-4557-e89a-30222fd65cb8",
        "colab": {
          "base_uri": "https://localhost:8080/",
          "height": 85
        }
      },
      "source": [
        "#.................SGD................\n",
        "from sklearn.metrics import accuracy_score\n",
        "from sklearn.metrics import precision_score\n",
        "from sklearn.metrics import recall_score\n",
        "from sklearn.metrics import f1_score\n",
        "acc=list();\n",
        "prec=list();\n",
        "recall=list();\n",
        "f1=list();\n",
        "from sklearn.naive_bayes import BernoulliNB, MultinomialNB\n",
        "model =SGDClassifier(alpha=.0001, max_iter=50,penalty=\"l1\")\n",
        "for train_index, test_index in skf.split(X,Y):\n",
        "  #print('TRAIN', train_index, “TEST:”, test_index);\n",
        "  X_train, X_test = X[train_index], X[test_index]\n",
        "  y_train, y_test = Y[train_index], Y[test_index]\n",
        "  model.fit(X_train, y_train)\n",
        "  y_pred=model.predict(X_test)\n",
        "  #y_pred=FRS(X_train,y_train,X_test,0.15)\n",
        "  score=accuracy_score(y_test, y_pred)\n",
        "  acc.append(score)\n",
        "  score1=precision_score(y_test, y_pred, average='weighted')\n",
        "  prec.append(score1)\n",
        "  score2=recall_score(y_test, y_pred, average='weighted')\n",
        "  recall.append(score2)\n",
        "  score3=f1_score(y_test, y_pred, average='weighted')  \n",
        "  f1.append(score3)\n",
        "\n",
        "a = np.array(acc)\n",
        "print(\"Accuracy:\",a.mean(), a.std())\n",
        "b = np.array(prec)\n",
        "print(\"Precision:\",b.mean(), b.std())\n",
        "c = np.array(recall)\n",
        "print(\"Recall:\",c.mean(), c.std())\n",
        "d = np.array(f1)\n",
        "print(\"F1-score:\",d.mean(), d.std())"
      ],
      "execution_count": 0,
      "outputs": [
        {
          "output_type": "stream",
          "text": [
            "Accuracy: 0.9048774809382456 0.010309622210920393\n",
            "Precision: 0.9052794016053433 0.010319231939997389\n",
            "Recall: 0.9048774809382456 0.010309622210920393\n",
            "F1-score: 0.9047372942118818 0.010332184245919035\n"
          ],
          "name": "stdout"
        }
      ]
    },
    {
      "cell_type": "code",
      "metadata": {
        "id": "-_z1Ax7FAAMn",
        "colab_type": "code",
        "colab": {}
      },
      "source": [
        ""
      ],
      "execution_count": 0,
      "outputs": []
    },
    {
      "cell_type": "code",
      "metadata": {
        "id": "cg9w-5XZ6BNf",
        "colab_type": "code",
        "outputId": "fd022471-7021-4053-ef56-b2bd922a85f7",
        "colab": {
          "base_uri": "https://localhost:8080/",
          "height": 445
        }
      },
      "source": [
        "#.................Ridge................\n",
        "from sklearn.metrics import accuracy_score\n",
        "from sklearn.metrics import precision_score\n",
        "from sklearn.metrics import recall_score\n",
        "from sklearn.metrics import f1_score\n",
        "acc=list();\n",
        "prec=list();\n",
        "recall=list();\n",
        "f1=list();\n",
        "from sklearn.naive_bayes import BernoulliNB, MultinomialNB\n",
        "model = RidgeClassifier(tol=1e-2, solver=\"sag\")\n",
        "for train_index, test_index in skf.split(X,Y):\n",
        "  #print('TRAIN', train_index, “TEST:”, test_index);\n",
        "  X_train, X_test = X[train_index], X[test_index]\n",
        "  y_train, y_test = Y[train_index], Y[test_index]\n",
        "  model.fit(X_train, y_train)\n",
        "  y_pred=model.predict(X_test)\n",
        "  #y_pred=FRS(X_train,y_train,X_test,0.15)\n",
        "  score=accuracy_score(y_test, y_pred)\n",
        "  acc.append(score)\n",
        "  score1=precision_score(y_test, y_pred, average='weighted')\n",
        "  prec.append(score1)\n",
        "  score2=recall_score(y_test, y_pred, average='weighted')\n",
        "  recall.append(score2)\n",
        "  score3=f1_score(y_test, y_pred, average='weighted')  \n",
        "  f1.append(score3)\n",
        "\n",
        "a = np.array(acc)\n",
        "print(\"Accuracy:\",a.mean(), a.std())\n",
        "b = np.array(prec)\n",
        "print(\"Precision:\",b.mean(), b.std())\n",
        "c = np.array(recall)\n",
        "print(\"Recall:\",c.mean(), c.std())\n",
        "d = np.array(f1)\n",
        "print(\"F1-score:\",d.mean(), d.std())"
      ],
      "execution_count": 0,
      "outputs": [
        {
          "output_type": "stream",
          "text": [
            "/usr/local/lib/python3.6/dist-packages/sklearn/linear_model/_ridge.py:558: UserWarning: \"sag\" solver requires many iterations to fit an intercept with sparse inputs. Either set the solver to \"auto\" or \"sparse_cg\", or set a low \"tol\" and a high \"max_iter\" (especially if inputs are not standardized).\n",
            "  '\"sag\" solver requires many iterations to fit '\n",
            "/usr/local/lib/python3.6/dist-packages/sklearn/linear_model/_ridge.py:558: UserWarning: \"sag\" solver requires many iterations to fit an intercept with sparse inputs. Either set the solver to \"auto\" or \"sparse_cg\", or set a low \"tol\" and a high \"max_iter\" (especially if inputs are not standardized).\n",
            "  '\"sag\" solver requires many iterations to fit '\n",
            "/usr/local/lib/python3.6/dist-packages/sklearn/linear_model/_ridge.py:558: UserWarning: \"sag\" solver requires many iterations to fit an intercept with sparse inputs. Either set the solver to \"auto\" or \"sparse_cg\", or set a low \"tol\" and a high \"max_iter\" (especially if inputs are not standardized).\n",
            "  '\"sag\" solver requires many iterations to fit '\n",
            "/usr/local/lib/python3.6/dist-packages/sklearn/linear_model/_ridge.py:558: UserWarning: \"sag\" solver requires many iterations to fit an intercept with sparse inputs. Either set the solver to \"auto\" or \"sparse_cg\", or set a low \"tol\" and a high \"max_iter\" (especially if inputs are not standardized).\n",
            "  '\"sag\" solver requires many iterations to fit '\n",
            "/usr/local/lib/python3.6/dist-packages/sklearn/linear_model/_ridge.py:558: UserWarning: \"sag\" solver requires many iterations to fit an intercept with sparse inputs. Either set the solver to \"auto\" or \"sparse_cg\", or set a low \"tol\" and a high \"max_iter\" (especially if inputs are not standardized).\n",
            "  '\"sag\" solver requires many iterations to fit '\n",
            "/usr/local/lib/python3.6/dist-packages/sklearn/linear_model/_ridge.py:558: UserWarning: \"sag\" solver requires many iterations to fit an intercept with sparse inputs. Either set the solver to \"auto\" or \"sparse_cg\", or set a low \"tol\" and a high \"max_iter\" (especially if inputs are not standardized).\n",
            "  '\"sag\" solver requires many iterations to fit '\n",
            "/usr/local/lib/python3.6/dist-packages/sklearn/linear_model/_ridge.py:558: UserWarning: \"sag\" solver requires many iterations to fit an intercept with sparse inputs. Either set the solver to \"auto\" or \"sparse_cg\", or set a low \"tol\" and a high \"max_iter\" (especially if inputs are not standardized).\n",
            "  '\"sag\" solver requires many iterations to fit '\n",
            "/usr/local/lib/python3.6/dist-packages/sklearn/linear_model/_ridge.py:558: UserWarning: \"sag\" solver requires many iterations to fit an intercept with sparse inputs. Either set the solver to \"auto\" or \"sparse_cg\", or set a low \"tol\" and a high \"max_iter\" (especially if inputs are not standardized).\n",
            "  '\"sag\" solver requires many iterations to fit '\n",
            "/usr/local/lib/python3.6/dist-packages/sklearn/linear_model/_ridge.py:558: UserWarning: \"sag\" solver requires many iterations to fit an intercept with sparse inputs. Either set the solver to \"auto\" or \"sparse_cg\", or set a low \"tol\" and a high \"max_iter\" (especially if inputs are not standardized).\n",
            "  '\"sag\" solver requires many iterations to fit '\n",
            "/usr/local/lib/python3.6/dist-packages/sklearn/linear_model/_ridge.py:558: UserWarning: \"sag\" solver requires many iterations to fit an intercept with sparse inputs. Either set the solver to \"auto\" or \"sparse_cg\", or set a low \"tol\" and a high \"max_iter\" (especially if inputs are not standardized).\n",
            "  '\"sag\" solver requires many iterations to fit '\n"
          ],
          "name": "stderr"
        },
        {
          "output_type": "stream",
          "text": [
            "Accuracy: 0.9142966067167219 0.007372491922939072\n",
            "Precision: 0.9154357901277648 0.007502443009937843\n",
            "Recall: 0.9142966067167219 0.007372491922939072\n",
            "F1-score: 0.9140700583459995 0.007371494517400878\n"
          ],
          "name": "stdout"
        }
      ]
    },
    {
      "cell_type": "code",
      "metadata": {
        "id": "yc7PsS0nAO6o",
        "colab_type": "code",
        "colab": {}
      },
      "source": [
        ""
      ],
      "execution_count": 0,
      "outputs": []
    },
    {
      "cell_type": "code",
      "metadata": {
        "id": "KMGBUFhr6CtE",
        "colab_type": "code",
        "outputId": "6b1549c3-8bf1-462b-f4a3-79f23fdb837b",
        "colab": {
          "base_uri": "https://localhost:8080/",
          "height": 85
        }
      },
      "source": [
        "#.................RC................\n",
        "from sklearn.metrics import accuracy_score\n",
        "from sklearn.metrics import precision_score\n",
        "from sklearn.metrics import recall_score\n",
        "from sklearn.metrics import f1_score\n",
        "acc=list();\n",
        "prec=list();\n",
        "recall=list();\n",
        "f1=list();\n",
        "from sklearn.naive_bayes import BernoulliNB, MultinomialNB\n",
        "model = NearestCentroid()\n",
        "for train_index, test_index in skf.split(X,Y):\n",
        "  #print('TRAIN', train_index, “TEST:”, test_index);\n",
        "  X_train, X_test = X[train_index], X[test_index]\n",
        "  y_train, y_test = Y[train_index], Y[test_index]\n",
        "  model.fit(X_train, y_train)\n",
        "  y_pred=model.predict(X_test)\n",
        "  #y_pred=FRS(X_train,y_train,X_test,0.15)\n",
        "  score=accuracy_score(y_test, y_pred)\n",
        "  acc.append(score)\n",
        "  score1=precision_score(y_test, y_pred, average='weighted')\n",
        "  prec.append(score1)\n",
        "  score2=recall_score(y_test, y_pred, average='weighted')\n",
        "  recall.append(score2)\n",
        "  score3=f1_score(y_test, y_pred, average='weighted')  \n",
        "  f1.append(score3)\n",
        "\n",
        "a = np.array(acc)\n",
        "print(\"Accuracy:\",a.mean(), a.std())\n",
        "b = np.array(prec)\n",
        "print(\"Precision:\",b.mean(), b.std())\n",
        "c = np.array(recall)\n",
        "print(\"Recall:\",c.mean(), c.std())\n",
        "d = np.array(f1)\n",
        "print(\"F1-score:\",d.mean(), d.std())"
      ],
      "execution_count": 0,
      "outputs": [
        {
          "output_type": "stream",
          "text": [
            "Accuracy: 0.868661311914324 0.01447035871258589\n",
            "Precision: 0.8735368068144703 0.013883376340985928\n",
            "Recall: 0.868661311914324 0.01447035871258589\n",
            "F1-score: 0.8675685155387871 0.01477021060050877\n"
          ],
          "name": "stdout"
        }
      ]
    },
    {
      "cell_type": "code",
      "metadata": {
        "id": "R3u9wKz6AvOc",
        "colab_type": "code",
        "colab": {}
      },
      "source": [
        ""
      ],
      "execution_count": 0,
      "outputs": []
    },
    {
      "cell_type": "code",
      "metadata": {
        "id": "vpi7Yi0k6EXw",
        "colab_type": "code",
        "outputId": "9a21fa0c-7bd4-48b2-a702-a6a8e4699e5e",
        "colab": {
          "base_uri": "https://localhost:8080/",
          "height": 85
        }
      },
      "source": [
        "#.................PA................\n",
        "from sklearn.metrics import accuracy_score\n",
        "from sklearn.metrics import precision_score\n",
        "from sklearn.metrics import recall_score\n",
        "from sklearn.metrics import f1_score\n",
        "acc=list();\n",
        "prec=list();\n",
        "recall=list();\n",
        "f1=list();\n",
        "from sklearn.naive_bayes import BernoulliNB, MultinomialNB\n",
        "model = PassiveAggressiveClassifier(max_iter=50, tol=1e-3)\n",
        "for train_index, test_index in skf.split(X,Y):\n",
        "  #print('TRAIN', train_index, “TEST:”, test_index);\n",
        "  X_train, X_test = X[train_index], X[test_index]\n",
        "  y_train, y_test = Y[train_index], Y[test_index]\n",
        "  model.fit(X_train, y_train)\n",
        "  y_pred=model.predict(X_test)\n",
        "  #y_pred=FRS(X_train,y_train,X_test,0.15)\n",
        "  score=accuracy_score(y_test, y_pred)\n",
        "  acc.append(score)\n",
        "  score1=precision_score(y_test, y_pred, average='weighted')\n",
        "  prec.append(score1)\n",
        "  score2=recall_score(y_test, y_pred, average='weighted')\n",
        "  recall.append(score2)\n",
        "  score3=f1_score(y_test, y_pred, average='weighted')  \n",
        "  f1.append(score3)\n",
        "\n",
        "a = np.array(acc)\n",
        "print(\"Accuracy:\",a.mean(), a.std())\n",
        "b = np.array(prec)\n",
        "print(\"Precision:\",b.mean(), b.std())\n",
        "c = np.array(recall)\n",
        "print(\"Recall:\",c.mean(), c.std())\n",
        "d = np.array(f1)\n",
        "print(\"F1-score:\",d.mean(), d.std())"
      ],
      "execution_count": 0,
      "outputs": [
        {
          "output_type": "stream",
          "text": [
            "Accuracy: 0.9053629008788778 0.006129569201811188\n",
            "Precision: 0.9059171651981458 0.006195722582675178\n",
            "Recall: 0.9053629008788778 0.006129569201811188\n",
            "F1-score: 0.9052247769813508 0.006105318296258122\n"
          ],
          "name": "stdout"
        }
      ]
    },
    {
      "cell_type": "code",
      "metadata": {
        "id": "cQ00ODs3A4zW",
        "colab_type": "code",
        "colab": {}
      },
      "source": [
        ""
      ],
      "execution_count": 0,
      "outputs": []
    },
    {
      "cell_type": "code",
      "metadata": {
        "id": "w-EQhJAf6F9-",
        "colab_type": "code",
        "outputId": "fd4a1ecc-2c11-4c0b-f7c9-a6000d896e8c",
        "colab": {
          "base_uri": "https://localhost:8080/",
          "height": 85
        }
      },
      "source": [
        "#.................BPN................\n",
        "from sklearn.metrics import accuracy_score\n",
        "from sklearn.metrics import precision_score\n",
        "from sklearn.metrics import recall_score\n",
        "from sklearn.metrics import f1_score\n",
        "acc=list();\n",
        "prec=list();\n",
        "recall=list();\n",
        "f1=list();\n",
        "from sklearn.naive_bayes import BernoulliNB, MultinomialNB\n",
        "model = MLPClassifier()\n",
        "for train_index, test_index in skf.split(X,Y):\n",
        "  #print('TRAIN', train_index, “TEST:”, test_index);\n",
        "  X_train, X_test = X[train_index], X[test_index]\n",
        "  y_train, y_test = Y[train_index], Y[test_index]\n",
        "  model.fit(X_train, y_train)\n",
        "  y_pred=model.predict(X_test)\n",
        "  #y_pred=FRS(X_train,y_train,X_test,0.15)\n",
        "  score=accuracy_score(y_test, y_pred)\n",
        "  acc.append(score)\n",
        "  score1=precision_score(y_test, y_pred, average='weighted')\n",
        "  prec.append(score1)\n",
        "  score2=recall_score(y_test, y_pred, average='weighted')\n",
        "  recall.append(score2)\n",
        "  score3=f1_score(y_test, y_pred, average='weighted')  \n",
        "  f1.append(score3)\n",
        "\n",
        "a = np.array(acc)\n",
        "print(\"Accuracy:\",a.mean(), a.std())\n",
        "b = np.array(prec)\n",
        "print(\"Precision:\",b.mean(), b.std())\n",
        "c = np.array(recall)\n",
        "print(\"Recall:\",c.mean(), c.std())\n",
        "d = np.array(f1)\n",
        "print(\"F1-score:\",d.mean(), d.std())"
      ],
      "execution_count": 0,
      "outputs": [
        {
          "output_type": "stream",
          "text": [
            "Accuracy: 0.9017379663581864 0.009170258667210756\n",
            "Precision: 0.9023797268965676 0.009236894624889507\n",
            "Recall: 0.9017379663581864 0.009170258667210756\n",
            "F1-score: 0.90160953499949 0.009178766221112323\n"
          ],
          "name": "stdout"
        }
      ]
    },
    {
      "cell_type": "code",
      "metadata": {
        "id": "RPvxWMYQJ1cS",
        "colab_type": "code",
        "colab": {}
      },
      "source": [
        "#.......................END.........................."
      ],
      "execution_count": 0,
      "outputs": []
    }
  ]
}