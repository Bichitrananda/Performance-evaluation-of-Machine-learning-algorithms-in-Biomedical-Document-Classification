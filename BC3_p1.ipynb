{
  "nbformat": 4,
  "nbformat_minor": 0,
  "metadata": {
    "colab": {
      "name": "BC3-p1.ipynb",
      "provenance": [],
      "authorship_tag": "ABX9TyO8aXc56IIHtICM1t8rMnTr",
      "include_colab_link": true
    },
    "kernelspec": {
      "name": "python3",
      "display_name": "Python 3"
    }
  },
  "cells": [
    {
      "cell_type": "markdown",
      "metadata": {
        "id": "view-in-github",
        "colab_type": "text"
      },
      "source": [
        "<a href=\"https://colab.research.google.com/github/Bichitrananda/Performance-evaluation-of-Machine-learning-algorithms-in-Biomedical-Document-Classification/blob/master/BC3_p1.ipynb\" target=\"_parent\"><img src=\"https://colab.research.google.com/assets/colab-badge.svg\" alt=\"Open In Colab\"/></a>"
      ]
    },
    {
      "cell_type": "code",
      "metadata": {
        "id": "omIq_KVRZRNJ",
        "colab_type": "code",
        "outputId": "6ed557ab-f97d-428e-867e-eccafe2cee98",
        "colab": {
          "base_uri": "https://localhost:8080/",
          "height": 122
        }
      },
      "source": [
        "from google.colab import drive\n",
        "drive.mount(\"/content/gdrive\")"
      ],
      "execution_count": 0,
      "outputs": [
        {
          "output_type": "stream",
          "text": [
            "Go to this URL in a browser: https://accounts.google.com/o/oauth2/auth?client_id=947318989803-6bn6qk8qdgf4n4g3pfee6491hc0brc4i.apps.googleusercontent.com&redirect_uri=urn%3aietf%3awg%3aoauth%3a2.0%3aoob&response_type=code&scope=email%20https%3a%2f%2fwww.googleapis.com%2fauth%2fdocs.test%20https%3a%2f%2fwww.googleapis.com%2fauth%2fdrive%20https%3a%2f%2fwww.googleapis.com%2fauth%2fdrive.photos.readonly%20https%3a%2f%2fwww.googleapis.com%2fauth%2fpeopleapi.readonly\n",
            "\n",
            "Enter your authorization code:\n",
            "··········\n",
            "Mounted at /content/gdrive\n"
          ],
          "name": "stdout"
        }
      ]
    },
    {
      "cell_type": "code",
      "metadata": {
        "id": "tyid7C5bZVCN",
        "colab_type": "code",
        "outputId": "efda7180-9d94-4f2b-9694-54c0f58d583b",
        "colab": {
          "base_uri": "https://localhost:8080/",
          "height": 34
        }
      },
      "source": [
        "cd gdrive/My Drive"
      ],
      "execution_count": 0,
      "outputs": [
        {
          "output_type": "stream",
          "text": [
            "/content/gdrive/My Drive\n"
          ],
          "name": "stdout"
        }
      ]
    },
    {
      "cell_type": "code",
      "metadata": {
        "id": "MBAMhn7FMZn8",
        "colab_type": "code",
        "outputId": "c8474646-7cb0-45b7-edab-2b750fa35092",
        "colab": {
          "base_uri": "https://localhost:8080/",
          "height": 578
        }
      },
      "source": [
        "ls"
      ],
      "execution_count": 0,
      "outputs": [
        {
          "output_type": "stream",
          "text": [
            " 20_cnn_model.json             'Getting started.pdf'\n",
            " 20n_cnn_model1.json            glove.6B.50d.txt\n",
            " 20n_cnn_model.json             IMDB_weights.best.hdf5\n",
            " 20news_weights.best1.hdf5      \u001b[0m\u001b[01;34mMISSION\u001b[0m/\n",
            " 20news_weights.best.hdf5       model.json\n",
            " BC3_part1.csv                  model.yaml\n",
            " BC3_part2.csv                  \u001b[01;34modia-dataset\u001b[0m/\n",
            " \u001b[01;34mBENGALI\u001b[0m/                       project_1_reuter.ipynb\n",
            " bp_mll_keras.py                \u001b[01;34m__pycache__\u001b[0m/\n",
            " bp_mll.py                      RCNN_BC3-P2.ipynb\n",
            " cnn_frs_farm_model.json        Reuter_cnn_model.json\n",
            "\u001b[01;34m'Colab Notebooks'\u001b[0m/              Reuter_weights.best.hdf5\n",
            "'Copy of farm-ads_tr.csv'       \u001b[01;34mRMDL\u001b[0m/\n",
            "'Copy of FRS_TREC.ipynb'       \u001b[01;34m'ROUGH SET'\u001b[0m/\n",
            " data1.csv                      \u001b[01;34mSVM-CNN\u001b[0m/\n",
            " data3.csv                      test.csv\n",
            " data4.csv                      test_labels.csv\n",
            " data.csv                       \u001b[01;34mTEXT_CODE\u001b[0m/\n",
            " data_WOS5736.csv               text_feature_extraction.py\n",
            "\u001b[01;34m'DEEP LEARING'\u001b[0m/                 train.csv\n",
            " diabetes.csv                   trec.csv\n",
            " diabetes.ipynb                 Untitled0.ipynb\n",
            " DNN_TREC_embed.ipynb           Untitled1.ipynb\n",
            " Download_WOS.py                Untitled2.ipynb\n",
            " farm-ads_tr.csv                weights.best.hdf5\n",
            " \u001b[01;34mFRS\u001b[0m/                           WOS11967_cnn_model.json\n",
            " frs_BC3-p1_cnn_model.json      WOS11967_weights.best.hdf5\n",
            " frs_bc3-p2_cnn_model.json      WOS46985_weights.best.hdf5\n",
            " frs_bc3-p2_weights.best.hdf5   WOS5736_cnn_model_frs.json\n",
            " frs_farm_weights.best.hdf5     WOS5736_cnn_model.json\n",
            " frs.py                         WOS5736_weights.best_frs.hdf5\n",
            " frs_trec_cnn_model.json        WOS5736_weights.best.hdf5\n",
            " frs_trec_weights.best.hdf5     yeast.npz\n"
          ],
          "name": "stdout"
        }
      ]
    },
    {
      "cell_type": "code",
      "metadata": {
        "id": "yHCZJ2w4aD_A",
        "colab_type": "code",
        "colab": {}
      },
      "source": [
        "import numpy as np\n",
        "import sklearn\n",
        "from sklearn.datasets import load_files\n",
        "import sys\n",
        "from time import time\n",
        "import matplotlib.pyplot as plt\n",
        "from sklearn.feature_extraction.text import CountVectorizer\n",
        "from sklearn.feature_extraction.text import TfidfTransformer\n",
        "from sklearn.feature_extraction.text import HashingVectorizer\n",
        "from sklearn.feature_selection import SelectFromModel\n",
        "from sklearn.feature_selection import SelectKBest, chi2\n",
        "from sklearn.linear_model import RidgeClassifier\n",
        "from sklearn import tree\n",
        "from sklearn.pipeline import Pipeline\n",
        "from sklearn.svm import LinearSVC\n",
        "from sklearn.linear_model import SGDClassifier\n",
        "from sklearn.linear_model import Perceptron\n",
        "from sklearn.linear_model import PassiveAggressiveClassifier\n",
        "from sklearn.naive_bayes import BernoulliNB, MultinomialNB\n",
        "from sklearn.neural_network import MLPClassifier\n",
        "from sklearn.neighbors import KNeighborsClassifier\n",
        "from sklearn.neighbors import NearestCentroid\n",
        "from sklearn.ensemble import RandomForestClassifier\n",
        "from sklearn.utils.extmath import density\n",
        "from sklearn import metrics\n",
        "from sklearn.model_selection import train_test_split\n",
        "import pandas as pd"
      ],
      "execution_count": 0,
      "outputs": []
    },
    {
      "cell_type": "code",
      "metadata": {
        "id": "etxIh0fVcaqj",
        "colab_type": "code",
        "outputId": "f3d903a5-92b8-4e54-8231-2fe2e2ba93d1",
        "colab": {
          "base_uri": "https://localhost:8080/",
          "height": 68
        }
      },
      "source": [
        "import nltk\n",
        "nltk.download('punkt')"
      ],
      "execution_count": 0,
      "outputs": [
        {
          "output_type": "stream",
          "text": [
            "[nltk_data] Downloading package punkt to /root/nltk_data...\n",
            "[nltk_data]   Unzipping tokenizers/punkt.zip.\n"
          ],
          "name": "stdout"
        },
        {
          "output_type": "execute_result",
          "data": {
            "text/plain": [
              "True"
            ]
          },
          "metadata": {
            "tags": []
          },
          "execution_count": 5
        }
      ]
    },
    {
      "cell_type": "code",
      "metadata": {
        "id": "uf7VqlWcauxt",
        "colab_type": "code",
        "outputId": "a735295c-5a9d-4b58-c823-9e815a57a139",
        "colab": {
          "base_uri": "https://localhost:8080/",
          "height": 204
        }
      },
      "source": [
        "import pandas as pd\n",
        "#Data description\n",
        "df2=pd.read_csv('BC3_part1.csv')\n",
        "df2.head()\n"
      ],
      "execution_count": 0,
      "outputs": [
        {
          "output_type": "execute_result",
          "data": {
            "text/html": [
              "<div>\n",
              "<style scoped>\n",
              "    .dataframe tbody tr th:only-of-type {\n",
              "        vertical-align: middle;\n",
              "    }\n",
              "\n",
              "    .dataframe tbody tr th {\n",
              "        vertical-align: top;\n",
              "    }\n",
              "\n",
              "    .dataframe thead th {\n",
              "        text-align: right;\n",
              "    }\n",
              "</style>\n",
              "<table border=\"1\" class=\"dataframe\">\n",
              "  <thead>\n",
              "    <tr style=\"text-align: right;\">\n",
              "      <th></th>\n",
              "      <th>PMID</th>\n",
              "      <th>Label</th>\n",
              "      <th>Journal Title ISO Abbreviation</th>\n",
              "      <th>NLM ID</th>\n",
              "      <th>Year</th>\n",
              "      <th>Title</th>\n",
              "      <th>Abstract</th>\n",
              "    </tr>\n",
              "  </thead>\n",
              "  <tbody>\n",
              "    <tr>\n",
              "      <th>0</th>\n",
              "      <td>17502104</td>\n",
              "      <td>1</td>\n",
              "      <td>Plant Signal Behav</td>\n",
              "      <td>101291431</td>\n",
              "      <td>2009</td>\n",
              "      <td>Plant caspase-like proteases in plant programm...</td>\n",
              "      <td>Programmed cell death (PCD) is a genetically-c...</td>\n",
              "    </tr>\n",
              "    <tr>\n",
              "      <th>1</th>\n",
              "      <td>17503969</td>\n",
              "      <td>1</td>\n",
              "      <td>Plant Signal Behav</td>\n",
              "      <td>101291431</td>\n",
              "      <td>2009</td>\n",
              "      <td>The ER body, a new organelle in Arabidopsis th...</td>\n",
              "      <td>Plants develop various ER-derived structures w...</td>\n",
              "    </tr>\n",
              "    <tr>\n",
              "      <th>2</th>\n",
              "      <td>17505518</td>\n",
              "      <td>1</td>\n",
              "      <td>Plant Signal Behav</td>\n",
              "      <td>101291431</td>\n",
              "      <td>2009</td>\n",
              "      <td>Biomechanics of climbing palms and how they cl...</td>\n",
              "      <td>Climbing plants have fascinated botanists sinc...</td>\n",
              "    </tr>\n",
              "    <tr>\n",
              "      <th>3</th>\n",
              "      <td>17510629</td>\n",
              "      <td>1</td>\n",
              "      <td>Plant Signal Behav</td>\n",
              "      <td>101291431</td>\n",
              "      <td>2009</td>\n",
              "      <td>Intracellular Ca2+ stores could participate to...</td>\n",
              "      <td>In Arabidopsis thaliana cell suspension, absci...</td>\n",
              "    </tr>\n",
              "    <tr>\n",
              "      <th>4</th>\n",
              "      <td>17511879</td>\n",
              "      <td>1</td>\n",
              "      <td>Plant Signal Behav</td>\n",
              "      <td>101291431</td>\n",
              "      <td>2009</td>\n",
              "      <td>Carbon and nitrogen nutrient balance signaling...</td>\n",
              "      <td>Cellular carbon (C) and nitrogen (N) metabolis...</td>\n",
              "    </tr>\n",
              "  </tbody>\n",
              "</table>\n",
              "</div>"
            ],
            "text/plain": [
              "       PMID  ...                                           Abstract\n",
              "0  17502104  ...  Programmed cell death (PCD) is a genetically-c...\n",
              "1  17503969  ...  Plants develop various ER-derived structures w...\n",
              "2  17505518  ...  Climbing plants have fascinated botanists sinc...\n",
              "3  17510629  ...  In Arabidopsis thaliana cell suspension, absci...\n",
              "4  17511879  ...  Cellular carbon (C) and nitrogen (N) metabolis...\n",
              "\n",
              "[5 rows x 7 columns]"
            ]
          },
          "metadata": {
            "tags": []
          },
          "execution_count": 7
        }
      ]
    },
    {
      "cell_type": "code",
      "metadata": {
        "id": "slI-dR7WJh3T",
        "colab_type": "code",
        "outputId": "1adf58a6-077f-46bb-8b5a-30e9acc5915d",
        "colab": {
          "base_uri": "https://localhost:8080/",
          "height": 85
        }
      },
      "source": [
        "df2.groupby('Label').size()"
      ],
      "execution_count": 0,
      "outputs": [
        {
          "output_type": "execute_result",
          "data": {
            "text/plain": [
              "Label\n",
              "0    1140\n",
              "1    1140\n",
              "dtype: int64"
            ]
          },
          "metadata": {
            "tags": []
          },
          "execution_count": 8
        }
      ]
    },
    {
      "cell_type": "code",
      "metadata": {
        "id": "DFSIo6KHJaPu",
        "colab_type": "code",
        "outputId": "4749829c-c755-426d-f5cb-0e473d83d658",
        "colab": {
          "base_uri": "https://localhost:8080/",
          "height": 51
        }
      },
      "source": [
        "#sentences=df2['Abstract']\n",
        "#labels=df2['Label']\n",
        "#split the data into train and test dataset\n",
        "#print(len(sentences))\n",
        "train_data=df2['Abstract']\n",
        "Y=df2['Label']\n",
        "print(len(train_data))\n",
        "bbc_vec = CountVectorizer(min_df=2, tokenizer=nltk.word_tokenize, encoding='latin-1')\n",
        "bbc_counts = bbc_vec.fit_transform(train_data.values.astype('U'))\n",
        "tfidf_transformer = TfidfTransformer()\n",
        "X = tfidf_transformer.fit_transform(bbc_counts)\n",
        "print(X.shape)"
      ],
      "execution_count": 0,
      "outputs": [
        {
          "output_type": "stream",
          "text": [
            "2280\n",
            "(2280, 11961)\n"
          ],
          "name": "stdout"
        }
      ]
    },
    {
      "cell_type": "code",
      "metadata": {
        "id": "zYPNqwGeaPZw",
        "colab_type": "code",
        "outputId": "53829086-850a-41b0-a5a1-415900c77a8a",
        "colab": {
          "base_uri": "https://localhost:8080/",
          "height": 71
        }
      },
      "source": [
        "#from sklearn.model_selection import StratifiedKFold\n",
        "#kfold = StratifiedKFold(n_splits=10, random_state=7)"
      ],
      "execution_count": 0,
      "outputs": [
        {
          "output_type": "stream",
          "text": [
            "/usr/local/lib/python3.6/dist-packages/sklearn/model_selection/_split.py:296: FutureWarning: Setting a random_state has no effect since shuffle is False. This will raise an error in 0.24. You should leave random_state to its default (None), or set shuffle=True.\n",
            "  FutureWarning\n"
          ],
          "name": "stderr"
        }
      ]
    },
    {
      "cell_type": "code",
      "metadata": {
        "id": "XC_Q3FStpwhA",
        "colab_type": "code",
        "outputId": "affa34c4-e221-493d-913d-054a74303ccd",
        "colab": {
          "base_uri": "https://localhost:8080/",
          "height": 858
        }
      },
      "source": [
        "#Comparision of Algorithms\n",
        "from sklearn.model_selection import StratifiedKFold\n",
        "from sklearn.model_selection import cross_val_score\n",
        "from matplotlib import pyplot\n",
        "from sklearn import svm\n",
        "# prepare models\n",
        "models = []\n",
        "models.append(('KNN', KNeighborsClassifier(n_neighbors=10)))\n",
        "models.append(('DT', tree.DecisionTreeClassifier()))\n",
        "#models.append(('KNN', KNeighborsClassifier()))\n",
        "models.append(('MNB', MultinomialNB(alpha=.01)))\n",
        "models.append(('BNB', BernoulliNB(alpha=.01)))\n",
        "models.append(('RF', RandomForestClassifier(n_estimators=100)))\n",
        "models.append(('SVM', svm.SVC()))\n",
        "models.append(('PPN', Perceptron(max_iter=50, tol=1e-3)))\n",
        "models.append(('SGD', SGDClassifier(alpha=.0001, max_iter=50,penalty=\"l1\")))\n",
        "models.append(('Ridge', RidgeClassifier(tol=1e-2, solver=\"sag\")))\n",
        "models.append(('RC', NearestCentroid()))\n",
        "models.append(('PA', PassiveAggressiveClassifier(max_iter=50, tol=1e-3)))\n",
        "models.append(('BPN', MLPClassifier()))\n",
        "\n",
        "\n",
        "# evaluate each model in turn\n",
        "results = []\n",
        "names = []\n",
        "scoring = 'accuracy'\n",
        "for name, model in models:\n",
        "  kfold = StratifiedKFold(n_splits=10)\n",
        "  cv_results = cross_val_score(model, X, Y, cv=kfold, scoring=scoring)\n",
        "  results.append(cv_results)\n",
        "  names.append(name)\n",
        "  msg = \"%s: %f (%f)\" % (name, cv_results.mean(), cv_results.std())\n",
        "  print(msg)\n",
        "# boxplot algorithm comparison\n",
        "fig = pyplot.figure()\n",
        "fig.suptitle('Algorithm Comparison')\n",
        "ax = fig.add_subplot(111)\n",
        "pyplot.boxplot(results)\n",
        "ax.set_xticklabels(names)\n",
        "pyplot.show()"
      ],
      "execution_count": 0,
      "outputs": [
        {
          "output_type": "stream",
          "text": [
            "KNN: 0.546053 (0.051383)\n",
            "DT: 0.533772 (0.053143)\n",
            "MNB: 0.589474 (0.072314)\n",
            "BNB: 0.599561 (0.100878)\n",
            "RF: 0.607895 (0.120725)\n",
            "SVM: 0.608333 (0.113172)\n",
            "PPN: 0.565351 (0.045090)\n",
            "SGD: 0.548246 (0.055235)\n"
          ],
          "name": "stdout"
        },
        {
          "output_type": "stream",
          "text": [
            "/usr/local/lib/python3.6/dist-packages/sklearn/linear_model/_ridge.py:558: UserWarning: \"sag\" solver requires many iterations to fit an intercept with sparse inputs. Either set the solver to \"auto\" or \"sparse_cg\", or set a low \"tol\" and a high \"max_iter\" (especially if inputs are not standardized).\n",
            "  '\"sag\" solver requires many iterations to fit '\n",
            "/usr/local/lib/python3.6/dist-packages/sklearn/linear_model/_ridge.py:558: UserWarning: \"sag\" solver requires many iterations to fit an intercept with sparse inputs. Either set the solver to \"auto\" or \"sparse_cg\", or set a low \"tol\" and a high \"max_iter\" (especially if inputs are not standardized).\n",
            "  '\"sag\" solver requires many iterations to fit '\n",
            "/usr/local/lib/python3.6/dist-packages/sklearn/linear_model/_ridge.py:558: UserWarning: \"sag\" solver requires many iterations to fit an intercept with sparse inputs. Either set the solver to \"auto\" or \"sparse_cg\", or set a low \"tol\" and a high \"max_iter\" (especially if inputs are not standardized).\n",
            "  '\"sag\" solver requires many iterations to fit '\n",
            "/usr/local/lib/python3.6/dist-packages/sklearn/linear_model/_ridge.py:558: UserWarning: \"sag\" solver requires many iterations to fit an intercept with sparse inputs. Either set the solver to \"auto\" or \"sparse_cg\", or set a low \"tol\" and a high \"max_iter\" (especially if inputs are not standardized).\n",
            "  '\"sag\" solver requires many iterations to fit '\n",
            "/usr/local/lib/python3.6/dist-packages/sklearn/linear_model/_ridge.py:558: UserWarning: \"sag\" solver requires many iterations to fit an intercept with sparse inputs. Either set the solver to \"auto\" or \"sparse_cg\", or set a low \"tol\" and a high \"max_iter\" (especially if inputs are not standardized).\n",
            "  '\"sag\" solver requires many iterations to fit '\n",
            "/usr/local/lib/python3.6/dist-packages/sklearn/linear_model/_ridge.py:558: UserWarning: \"sag\" solver requires many iterations to fit an intercept with sparse inputs. Either set the solver to \"auto\" or \"sparse_cg\", or set a low \"tol\" and a high \"max_iter\" (especially if inputs are not standardized).\n",
            "  '\"sag\" solver requires many iterations to fit '\n",
            "/usr/local/lib/python3.6/dist-packages/sklearn/linear_model/_ridge.py:558: UserWarning: \"sag\" solver requires many iterations to fit an intercept with sparse inputs. Either set the solver to \"auto\" or \"sparse_cg\", or set a low \"tol\" and a high \"max_iter\" (especially if inputs are not standardized).\n",
            "  '\"sag\" solver requires many iterations to fit '\n",
            "/usr/local/lib/python3.6/dist-packages/sklearn/linear_model/_ridge.py:558: UserWarning: \"sag\" solver requires many iterations to fit an intercept with sparse inputs. Either set the solver to \"auto\" or \"sparse_cg\", or set a low \"tol\" and a high \"max_iter\" (especially if inputs are not standardized).\n",
            "  '\"sag\" solver requires many iterations to fit '\n",
            "/usr/local/lib/python3.6/dist-packages/sklearn/linear_model/_ridge.py:558: UserWarning: \"sag\" solver requires many iterations to fit an intercept with sparse inputs. Either set the solver to \"auto\" or \"sparse_cg\", or set a low \"tol\" and a high \"max_iter\" (especially if inputs are not standardized).\n",
            "  '\"sag\" solver requires many iterations to fit '\n",
            "/usr/local/lib/python3.6/dist-packages/sklearn/linear_model/_ridge.py:558: UserWarning: \"sag\" solver requires many iterations to fit an intercept with sparse inputs. Either set the solver to \"auto\" or \"sparse_cg\", or set a low \"tol\" and a high \"max_iter\" (especially if inputs are not standardized).\n",
            "  '\"sag\" solver requires many iterations to fit '\n"
          ],
          "name": "stderr"
        },
        {
          "output_type": "stream",
          "text": [
            "Ridge: 0.575000 (0.093996)\n",
            "RC: 0.620175 (0.129028)\n",
            "PA: 0.551754 (0.057280)\n",
            "BPN: 0.564035 (0.058292)\n"
          ],
          "name": "stdout"
        },
        {
          "output_type": "display_data",
          "data": {
            "image/png": "[encoded data removed]",
            "text/plain": [
              "<Figure size 432x288 with 1 Axes>"
            ]
          },
          "metadata": {
            "tags": [],
            "needs_background": "light"
          }
        }
      ]
    },
    {
      "cell_type": "code",
      "metadata": {
        "id": "0WuiBO_Apwwx",
        "colab_type": "code",
        "colab": {}
      },
      "source": [
        "#.......Evaluationg Accuracy, precision, recall, f1-score for all algo....#"
      ],
      "execution_count": 0,
      "outputs": []
    },
    {
      "cell_type": "code",
      "metadata": {
        "id": "5_jJpp6orVKA",
        "colab_type": "code",
        "colab": {}
      },
      "source": [
        "#.................SVM................\n",
        "from sklearn.metrics import accuracy_score\n",
        "from sklearn.metrics import precision_score\n",
        "from sklearn.metrics import recall_score\n",
        "from sklearn.metrics import f1_score\n",
        "acc=list();\n",
        "prec=list();\n",
        "recall=list();\n",
        "f1=list();\n",
        "from sklearn import svm\n",
        "model = svm.SVC()\n",
        "for train_index, test_index in skf.split(X,Y):\n",
        "  #print('TRAIN', train_index, “TEST:”, test_index);\n",
        "  X_train, X_test = X[train_index], X[test_index]\n",
        "  y_train, y_test = Y[train_index], Y[test_index]\n",
        "  model.fit(X_train, y_train)\n",
        "  y_pred=model.predict(X_test)\n",
        "  #y_pred=FRS(X_train,y_train,X_test,0.15)\n",
        "  score=accuracy_score(y_test, y_pred)\n",
        "  acc.append(score)\n",
        "  score1=precision_score(y_test, y_pred, average='weighted')\n",
        "  prec.append(score1)\n",
        "  score2=recall_score(y_test, y_pred, average='weighted')\n",
        "  recall.append(score2)\n",
        "  score3=f1_score(y_test, y_pred, average='weighted')  \n",
        "  f1.append(score3)\n",
        "\n",
        "a = np.array(acc)\n",
        "print(\"Accuracy:\",a.mean(), a.std())\n",
        "b = np.array(prec)\n",
        "print(\"Precision:\",b.mean(), b.std())\n",
        "c = np.array(recall)\n",
        "print(\"Recall:\",c.mean(), c.std())\n",
        "d = np.array(f1)\n",
        "print(\"F1-score:\",d.mean(), d.std())"
      ],
      "execution_count": 0,
      "outputs": []
    },
    {
      "cell_type": "code",
      "metadata": {
        "id": "SAJKV633sIvV",
        "colab_type": "code",
        "outputId": "44c39577-c59b-448c-da64-5cd2ec86f6f8",
        "colab": {
          "base_uri": "https://localhost:8080/",
          "height": 85
        }
      },
      "source": [
        "a = np.array(acc)\n",
        "print(\"Accuracy:\",a.mean(), a.std())\n",
        "b = np.array(prec)\n",
        "print(\"Precision:\",b.mean(), b.std())\n",
        "c = np.array(recall)\n",
        "print(\"Recall:\",c.mean(), c.std())\n",
        "d = np.array(f1)\n",
        "print(\"F1-score:\",d.mean(), d.std())"
      ],
      "execution_count": 0,
      "outputs": [
        {
          "output_type": "stream",
          "text": [
            "Accuracy: 0.6083333333333334 0.11317234369875988\n",
            "Precision: 0.6198525723560552 0.11556193014959684\n",
            "Recall: 0.6083333333333334 0.11317234369875988\n",
            "F1-score: 0.5858756600391822 0.13045189308903948\n"
          ],
          "name": "stdout"
        }
      ]
    },
    {
      "cell_type": "code",
      "metadata": {
        "id": "hSo4Z63Bs46B",
        "colab_type": "code",
        "colab": {}
      },
      "source": [
        ""
      ],
      "execution_count": 0,
      "outputs": []
    },
    {
      "cell_type": "code",
      "metadata": {
        "id": "QOK5auqVcqMd",
        "colab_type": "code",
        "outputId": "aa2efbe8-e85f-43ff-9c68-c33e1fa5b9da",
        "colab": {
          "base_uri": "https://localhost:8080/",
          "height": 85
        }
      },
      "source": [
        "#.....................SVM.....................\n",
        "from sklearn import svm\n",
        "from sklearn.model_selection import cross_validate\n",
        "model = svm.SVC()\n",
        "#model = LogisticRegression()\n",
        "#precision_score\n",
        "scoring = ['accuracy','precision','recall','f1_weighted']\n",
        "#results = cross_val_score(model, X, Y, cv=kfold, scoring=scoring)\n",
        "results = cross_validate(model, X, Y, cv=kfold, scoring=scoring)\n",
        "print(\"Accuracy=\",results[\"test_accuracy\"].mean(),results[\"test_accuracy\"].std())\n",
        "print(\"F1_score=\",results[\"test_f1_weighted\"].mean(),results[\"test_f1_weighted\"].std())\n",
        "print(\"Precision=\",results[\"test_precision\"].mean(),results[\"test_precision\"].std())\n",
        "print(\"Recall=\",results[\"test_recall\"].mean(),results[\"test_recall\"].std())"
      ],
      "execution_count": 0,
      "outputs": [
        {
          "output_type": "stream",
          "text": [
            "Accuracy= 0.6083333333333334 0.11317234369875988\n",
            "F1_score= 0.5858756600391822 0.13045189308903948\n",
            "Precision= 0.6485869281336863 0.1291525130834647\n",
            "Recall= 0.6263157894736842 0.1798652072164187\n"
          ],
          "name": "stdout"
        }
      ]
    },
    {
      "cell_type": "code",
      "metadata": {
        "id": "Vm357I3xs6X4",
        "colab_type": "code",
        "colab": {}
      },
      "source": [
        ""
      ],
      "execution_count": 0,
      "outputs": []
    },
    {
      "cell_type": "code",
      "metadata": {
        "id": "EMcGG0H4s61w",
        "colab_type": "code",
        "outputId": "1e2195f1-cce0-4d4c-982b-23aff689b533",
        "colab": {
          "base_uri": "https://localhost:8080/",
          "height": 85
        }
      },
      "source": [
        "#.................KNN................\n",
        "from sklearn.metrics import accuracy_score\n",
        "from sklearn.metrics import precision_score\n",
        "from sklearn.metrics import recall_score\n",
        "from sklearn.metrics import f1_score\n",
        "acc=list();\n",
        "prec=list();\n",
        "recall=list();\n",
        "f1=list();\n",
        "from sklearn import svm\n",
        "model = KNeighborsClassifier(n_neighbors=10)\n",
        "for train_index, test_index in skf.split(X,Y):\n",
        "  #print('TRAIN', train_index, “TEST:”, test_index);\n",
        "  X_train, X_test = X[train_index], X[test_index]\n",
        "  y_train, y_test = Y[train_index], Y[test_index]\n",
        "  model.fit(X_train, y_train)\n",
        "  y_pred=model.predict(X_test)\n",
        "  #y_pred=FRS(X_train,y_train,X_test,0.15)\n",
        "  score=accuracy_score(y_test, y_pred)\n",
        "  acc.append(score)\n",
        "  score1=precision_score(y_test, y_pred, average='weighted')\n",
        "  prec.append(score1)\n",
        "  score2=recall_score(y_test, y_pred, average='weighted')\n",
        "  recall.append(score2)\n",
        "  score3=f1_score(y_test, y_pred, average='weighted')  \n",
        "  f1.append(score3)\n",
        "\n",
        "a = np.array(acc)\n",
        "print(\"Accuracy:\",a.mean(), a.std())\n",
        "b = np.array(prec)\n",
        "print(\"Precision:\",b.mean(), b.std())\n",
        "c = np.array(recall)\n",
        "print(\"Recall:\",c.mean(), c.std())\n",
        "d = np.array(f1)\n",
        "print(\"F1-score:\",d.mean(), d.std())"
      ],
      "execution_count": 0,
      "outputs": [
        {
          "output_type": "stream",
          "text": [
            "Accuracy: 0.5460526315789473 0.05138322155201746\n",
            "Precision: 0.5484861643919687 0.05270726739821988\n",
            "Recall: 0.5460526315789473 0.05138322155201746\n",
            "F1-score: 0.5405311051704867 0.05206317590420268\n"
          ],
          "name": "stdout"
        }
      ]
    },
    {
      "cell_type": "code",
      "metadata": {
        "id": "eiVCojuheDjC",
        "colab_type": "code",
        "outputId": "758a43e5-2ecd-4119-cac5-941d2ec147db",
        "colab": {
          "base_uri": "https://localhost:8080/",
          "height": 85
        }
      },
      "source": [
        "#...................KNN............\n",
        "from sklearn import svm\n",
        "from sklearn.model_selection import cross_validate\n",
        "model = KNeighborsClassifier(n_neighbors=10)\n",
        "scoring = ['accuracy','precision','recall','f1_weighted']\n",
        "#results = cross_val_score(model, X, Y, cv=kfold, scoring=scoring)\n",
        "results = cross_validate(model, X, Y, cv=kfold, scoring=scoring)\n",
        "#print(\"Accuracy: %.3f (%.3f)\") % (results.mean(), results.std())\n",
        "print(\"Accuracy=\",results[\"test_accuracy\"].mean(),results[\"test_accuracy\"].std())\n",
        "print(\"F1_score=\",results[\"test_f1_weighted\"].mean(),results[\"test_f1_weighted\"].std())\n",
        "print(\"Precision=\",results[\"test_precision\"].mean(),results[\"test_precision\"].std())\n",
        "print(\"Recall=\",results[\"test_recall\"].mean(),results[\"test_recall\"].std())\n"
      ],
      "execution_count": 0,
      "outputs": [
        {
          "output_type": "stream",
          "text": [
            "Accuracy= 0.5460526315789473 0.05138322155201746\n",
            "F1_score= 0.5405311051704867 0.05206317590420268\n",
            "Precision= 0.5583251084012705 0.05997925042259909\n",
            "Recall= 0.5017543859649123 0.08566003940865757\n"
          ],
          "name": "stdout"
        }
      ]
    },
    {
      "cell_type": "code",
      "metadata": {
        "id": "uhQWwjjwtgPp",
        "colab_type": "code",
        "colab": {}
      },
      "source": [
        ""
      ],
      "execution_count": 0,
      "outputs": []
    },
    {
      "cell_type": "code",
      "metadata": {
        "id": "7iHgs5BAtger",
        "colab_type": "code",
        "outputId": "607bd4a7-6179-4dc8-80bf-8b13873c2ba0",
        "colab": {
          "base_uri": "https://localhost:8080/",
          "height": 85
        }
      },
      "source": [
        "#.................DT................\n",
        "from sklearn.metrics import accuracy_score\n",
        "from sklearn.metrics import precision_score\n",
        "from sklearn.metrics import recall_score\n",
        "from sklearn.metrics import f1_score\n",
        "acc=list();\n",
        "prec=list();\n",
        "recall=list();\n",
        "f1=list();\n",
        "from sklearn import tree\n",
        "model = tree.DecisionTreeClassifier()\n",
        "for train_index, test_index in skf.split(X,Y):\n",
        "  #print('TRAIN', train_index, “TEST:”, test_index);\n",
        "  X_train, X_test = X[train_index], X[test_index]\n",
        "  y_train, y_test = Y[train_index], Y[test_index]\n",
        "  model.fit(X_train, y_train)\n",
        "  y_pred=model.predict(X_test)\n",
        "  #y_pred=FRS(X_train,y_train,X_test,0.15)\n",
        "  score=accuracy_score(y_test, y_pred)\n",
        "  acc.append(score)\n",
        "  score1=precision_score(y_test, y_pred, average='weighted')\n",
        "  prec.append(score1)\n",
        "  score2=recall_score(y_test, y_pred, average='weighted')\n",
        "  recall.append(score2)\n",
        "  score3=f1_score(y_test, y_pred, average='weighted')  \n",
        "  f1.append(score3)\n",
        "\n",
        "a = np.array(acc)\n",
        "print(\"Accuracy:\",a.mean(), a.std())\n",
        "b = np.array(prec)\n",
        "print(\"Precision:\",b.mean(), b.std())\n",
        "c = np.array(recall)\n",
        "print(\"Recall:\",c.mean(), c.std())\n",
        "d = np.array(f1)\n",
        "print(\"F1-score:\",d.mean(), d.std())"
      ],
      "execution_count": 0,
      "outputs": [
        {
          "output_type": "stream",
          "text": [
            "Accuracy: 0.5276315789473685 0.05418220176401385\n",
            "Precision: 0.5274083300637529 0.05469260792983177\n",
            "Recall: 0.5276315789473685 0.05418220176401385\n",
            "F1-score: 0.5242580602584967 0.056543556052316424\n"
          ],
          "name": "stdout"
        }
      ]
    },
    {
      "cell_type": "code",
      "metadata": {
        "id": "uSNenkVdFytH",
        "colab_type": "code",
        "outputId": "9a64c6c6-d2c4-489d-a784-b8295bc2d995",
        "colab": {
          "base_uri": "https://localhost:8080/",
          "height": 85
        }
      },
      "source": [
        "#................DT...................\n",
        "from sklearn import tree\n",
        "from sklearn.model_selection import cross_validate\n",
        "model = tree.DecisionTreeClassifier()\n",
        "scoring = ['accuracy','precision','recall','f1_weighted']\n",
        "#results = cross_val_score(model, X, Y, cv=kfold, scoring=scoring)\n",
        "results = cross_validate(model, X, Y, cv=kfold, scoring=scoring)\n",
        "#print(\"Accuracy: %.3f (%.3f)\") % (results.mean(), results.std())\n",
        "print(\"Accuracy=\",results[\"test_accuracy\"].mean(),results[\"test_accuracy\"].std())\n",
        "print(\"F1_score=\",results[\"test_f1_weighted\"].mean(),results[\"test_f1_weighted\"].std())\n",
        "print(\"Precision=\",results[\"test_precision\"].mean(),results[\"test_precision\"].std())\n",
        "print(\"Recall=\",results[\"test_recall\"].mean(),results[\"test_recall\"].std())"
      ],
      "execution_count": 0,
      "outputs": [
        {
          "output_type": "stream",
          "text": [
            "Accuracy= 0.531578947368421 0.0448485018637341\n",
            "F1_score= 0.5278577198496105 0.0470934223035891\n",
            "Precision= 0.5339628087647421 0.04778209118794641\n",
            "Recall= 0.5394736842105263 0.08221783406057091\n"
          ],
          "name": "stdout"
        }
      ]
    },
    {
      "cell_type": "code",
      "metadata": {
        "id": "QtCzG_WAt7hw",
        "colab_type": "code",
        "colab": {}
      },
      "source": [
        ""
      ],
      "execution_count": 0,
      "outputs": []
    },
    {
      "cell_type": "code",
      "metadata": {
        "id": "9Pr3xQw5t7yL",
        "colab_type": "code",
        "outputId": "d750608d-5100-4476-fa28-07955044dc29",
        "colab": {
          "base_uri": "https://localhost:8080/",
          "height": 85
        }
      },
      "source": [
        "#.................RF................\n",
        "from sklearn.metrics import accuracy_score\n",
        "from sklearn.metrics import precision_score\n",
        "from sklearn.metrics import recall_score\n",
        "from sklearn.metrics import f1_score\n",
        "acc=list();\n",
        "prec=list();\n",
        "recall=list();\n",
        "f1=list();\n",
        "from sklearn.ensemble import RandomForestClassifier\n",
        "model = RandomForestClassifier(n_estimators=100)\n",
        "for train_index, test_index in skf.split(X,Y):\n",
        "  #print('TRAIN', train_index, “TEST:”, test_index);\n",
        "  X_train, X_test = X[train_index], X[test_index]\n",
        "  y_train, y_test = Y[train_index], Y[test_index]\n",
        "  model.fit(X_train, y_train)\n",
        "  y_pred=model.predict(X_test)\n",
        "  #y_pred=FRS(X_train,y_train,X_test,0.15)\n",
        "  score=accuracy_score(y_test, y_pred)\n",
        "  acc.append(score)\n",
        "  score1=precision_score(y_test, y_pred, average='weighted')\n",
        "  prec.append(score1)\n",
        "  score2=recall_score(y_test, y_pred, average='weighted')\n",
        "  recall.append(score2)\n",
        "  score3=f1_score(y_test, y_pred, average='weighted')  \n",
        "  f1.append(score3)\n",
        "\n",
        "a = np.array(acc)\n",
        "print(\"Accuracy:\",a.mean(), a.std())\n",
        "b = np.array(prec)\n",
        "print(\"Precision:\",b.mean(), b.std())\n",
        "c = np.array(recall)\n",
        "print(\"Recall:\",c.mean(), c.std())\n",
        "d = np.array(f1)\n",
        "print(\"F1-score:\",d.mean(), d.std())"
      ],
      "execution_count": 0,
      "outputs": [
        {
          "output_type": "stream",
          "text": [
            "Accuracy: 0.6035087719298247 0.11014274853054433\n",
            "Precision: 0.6136196882059589 0.11329644628351601\n",
            "Recall: 0.6035087719298247 0.11014274853054433\n",
            "F1-score: 0.5821394102250016 0.12750675233638384\n"
          ],
          "name": "stdout"
        }
      ]
    },
    {
      "cell_type": "code",
      "metadata": {
        "id": "i-RyvyqbGheF",
        "colab_type": "code",
        "outputId": "45a40f99-a194-47da-aaa1-812764d9e4f4",
        "colab": {
          "base_uri": "https://localhost:8080/",
          "height": 85
        }
      },
      "source": [
        "#........................RF..........\n",
        "from sklearn.ensemble import RandomForestClassifier\n",
        "from sklearn.model_selection import cross_validate\n",
        "model = RandomForestClassifier(n_estimators=100)\n",
        "scoring = ['accuracy','precision','recall','f1_weighted']\n",
        "#results = cross_val_score(model, X, Y, cv=kfold, scoring=scoring)\n",
        "results = cross_validate(model, X, Y, cv=kfold, scoring=scoring)\n",
        "#print(\"Accuracy: %.3f (%.3f)\") % (results.mean(), results.std())\n",
        "print(\"Accuracy=\",results[\"test_accuracy\"].mean(),results[\"test_accuracy\"].std())\n",
        "print(\"F1_score=\",results[\"test_f1_weighted\"].mean(),results[\"test_f1_weighted\"].std())\n",
        "print(\"Precision=\",results[\"test_precision\"].mean(),results[\"test_precision\"].std())\n",
        "print(\"Recall=\",results[\"test_recall\"].mean(),results[\"test_recall\"].std())"
      ],
      "execution_count": 0,
      "outputs": [
        {
          "output_type": "stream",
          "text": [
            "Accuracy= 0.6175438596491228 0.1081618431003393\n",
            "F1_score= 0.5968726512468833 0.12452258649199789\n",
            "Precision= 0.6666334151644275 0.13707108031881698\n",
            "Recall= 0.5868421052631578 0.18560251017183685\n"
          ],
          "name": "stdout"
        }
      ]
    },
    {
      "cell_type": "code",
      "metadata": {
        "id": "giKjo76uuSNl",
        "colab_type": "code",
        "colab": {}
      },
      "source": [
        ""
      ],
      "execution_count": 0,
      "outputs": []
    },
    {
      "cell_type": "code",
      "metadata": {
        "id": "jdIUnBPcuSbt",
        "colab_type": "code",
        "outputId": "045a9dfe-d7c2-47ce-aeca-f40c4822a154",
        "colab": {
          "base_uri": "https://localhost:8080/",
          "height": 85
        }
      },
      "source": [
        "#.................MNB................\n",
        "from sklearn.metrics import accuracy_score\n",
        "from sklearn.metrics import precision_score\n",
        "from sklearn.metrics import recall_score\n",
        "from sklearn.metrics import f1_score\n",
        "acc=list();\n",
        "prec=list();\n",
        "recall=list();\n",
        "f1=list();\n",
        "from sklearn.naive_bayes import BernoulliNB, MultinomialNB\n",
        "model = MultinomialNB(alpha=.01)\n",
        "for train_index, test_index in skf.split(X,Y):\n",
        "  #print('TRAIN', train_index, “TEST:”, test_index);\n",
        "  X_train, X_test = X[train_index], X[test_index]\n",
        "  y_train, y_test = Y[train_index], Y[test_index]\n",
        "  model.fit(X_train, y_train)\n",
        "  y_pred=model.predict(X_test)\n",
        "  #y_pred=FRS(X_train,y_train,X_test,0.15)\n",
        "  score=accuracy_score(y_test, y_pred)\n",
        "  acc.append(score)\n",
        "  score1=precision_score(y_test, y_pred, average='weighted')\n",
        "  prec.append(score1)\n",
        "  score2=recall_score(y_test, y_pred, average='weighted')\n",
        "  recall.append(score2)\n",
        "  score3=f1_score(y_test, y_pred, average='weighted')  \n",
        "  f1.append(score3)\n",
        "\n",
        "a = np.array(acc)\n",
        "print(\"Accuracy:\",a.mean(), a.std())\n",
        "b = np.array(prec)\n",
        "print(\"Precision:\",b.mean(), b.std())\n",
        "c = np.array(recall)\n",
        "print(\"Recall:\",c.mean(), c.std())\n",
        "d = np.array(f1)\n",
        "print(\"F1-score:\",d.mean(), d.std())"
      ],
      "execution_count": 0,
      "outputs": [
        {
          "output_type": "stream",
          "text": [
            "Accuracy: 0.5894736842105263 0.07231390822991209\n",
            "Precision: 0.595719992646122 0.07149267873672008\n",
            "Recall: 0.5894736842105263 0.07231390822991209\n",
            "F1-score: 0.5769387652136826 0.08143204981508778\n"
          ],
          "name": "stdout"
        }
      ]
    },
    {
      "cell_type": "code",
      "metadata": {
        "id": "3d1qo9qSusd3",
        "colab_type": "code",
        "colab": {}
      },
      "source": [
        ""
      ],
      "execution_count": 0,
      "outputs": []
    },
    {
      "cell_type": "code",
      "metadata": {
        "id": "kTCTqm0YusrE",
        "colab_type": "code",
        "outputId": "39e32dd0-6554-456d-a515-02be35ee82a4",
        "colab": {
          "base_uri": "https://localhost:8080/",
          "height": 85
        }
      },
      "source": [
        "#.................BNB................\n",
        "from sklearn.metrics import accuracy_score\n",
        "from sklearn.metrics import precision_score\n",
        "from sklearn.metrics import recall_score\n",
        "from sklearn.metrics import f1_score\n",
        "acc=list();\n",
        "prec=list();\n",
        "recall=list();\n",
        "f1=list();\n",
        "from sklearn.naive_bayes import BernoulliNB, MultinomialNB\n",
        "model = BernoulliNB(alpha=.01)\n",
        "for train_index, test_index in skf.split(X,Y):\n",
        "  #print('TRAIN', train_index, “TEST:”, test_index);\n",
        "  X_train, X_test = X[train_index], X[test_index]\n",
        "  y_train, y_test = Y[train_index], Y[test_index]\n",
        "  model.fit(X_train, y_train)\n",
        "  y_pred=model.predict(X_test)\n",
        "  #y_pred=FRS(X_train,y_train,X_test,0.15)\n",
        "  score=accuracy_score(y_test, y_pred)\n",
        "  acc.append(score)\n",
        "  score1=precision_score(y_test, y_pred, average='weighted')\n",
        "  prec.append(score1)\n",
        "  score2=recall_score(y_test, y_pred, average='weighted')\n",
        "  recall.append(score2)\n",
        "  score3=f1_score(y_test, y_pred, average='weighted')  \n",
        "  f1.append(score3)\n",
        "\n",
        "a = np.array(acc)\n",
        "print(\"Accuracy:\",a.mean(), a.std())\n",
        "b = np.array(prec)\n",
        "print(\"Precision:\",b.mean(), b.std())\n",
        "c = np.array(recall)\n",
        "print(\"Recall:\",c.mean(), c.std())\n",
        "d = np.array(f1)\n",
        "print(\"F1-score:\",d.mean(), d.std())"
      ],
      "execution_count": 0,
      "outputs": [
        {
          "output_type": "stream",
          "text": [
            "Accuracy: 0.599561403508772 0.10087814644858327\n",
            "Precision: 0.6042009453693173 0.10208612014035985\n",
            "Recall: 0.599561403508772 0.10087814644858327\n",
            "F1-score: 0.5840709256310518 0.11376032656091035\n"
          ],
          "name": "stdout"
        }
      ]
    },
    {
      "cell_type": "code",
      "metadata": {
        "id": "VpCxJEdu9_HC",
        "colab_type": "code",
        "colab": {}
      },
      "source": [
        ""
      ],
      "execution_count": 0,
      "outputs": []
    },
    {
      "cell_type": "code",
      "metadata": {
        "id": "KEHZbvVO9_ad",
        "colab_type": "code",
        "outputId": "3b139920-cb7d-419c-dfb4-7e03a3a1f867",
        "colab": {
          "base_uri": "https://localhost:8080/",
          "height": 85
        }
      },
      "source": [
        "#........................PPN..........\n",
        "from sklearn.naive_bayes import BernoulliNB, MultinomialNB\n",
        "from sklearn.model_selection import cross_validate\n",
        "model = Perceptron(max_iter=50, tol=1e-3)\n",
        "scoring = ['accuracy','precision','recall','f1_weighted']\n",
        "#results = cross_val_score(model, X, Y, cv=kfold, scoring=scoring)\n",
        "results = cross_validate(model, X, Y, cv=kfold, scoring=scoring)\n",
        "#print(\"Accuracy: %.3f (%.3f)\") % (results.mean(), results.std())\n",
        "print(\"Accuracy=\",results[\"test_accuracy\"].mean(),results[\"test_accuracy\"].std())\n",
        "print(\"F1_score=\",results[\"test_f1_weighted\"].mean(),results[\"test_f1_weighted\"].std())\n",
        "print(\"Precision=\",results[\"test_precision\"].mean(),results[\"test_precision\"].std())\n",
        "print(\"Recall=\",results[\"test_recall\"].mean(),results[\"test_recall\"].std())"
      ],
      "execution_count": 0,
      "outputs": [
        {
          "output_type": "stream",
          "text": [
            "Accuracy= 0.5653508771929825 0.04509019380198588\n",
            "F1_score= 0.5577877724577848 0.04992833467586304\n",
            "Precision= 0.5729209055736341 0.051582694976607196\n",
            "Recall= 0.5833333333333333 0.10513515609193642\n"
          ],
          "name": "stdout"
        }
      ]
    },
    {
      "cell_type": "code",
      "metadata": {
        "id": "Pg46e2JP_uHf",
        "colab_type": "code",
        "colab": {}
      },
      "source": [
        ""
      ],
      "execution_count": 0,
      "outputs": []
    },
    {
      "cell_type": "code",
      "metadata": {
        "id": "Tqpq-hes_uj1",
        "colab_type": "code",
        "outputId": "d2d4f55d-7919-4a04-9751-a08981ee9965",
        "colab": {
          "base_uri": "https://localhost:8080/",
          "height": 85
        }
      },
      "source": [
        "#........................SGD..........\n",
        "from sklearn.naive_bayes import BernoulliNB, MultinomialNB\n",
        "from sklearn.model_selection import cross_validate\n",
        "model = SGDClassifier(alpha=.0001, max_iter=50,penalty=\"l1\")\n",
        "scoring = ['accuracy','precision','recall','f1_weighted']\n",
        "#results = cross_val_score(model, X, Y, cv=kfold, scoring=scoring)\n",
        "results = cross_validate(model, X, Y, cv=kfold, scoring=scoring)\n",
        "#print(\"Accuracy: %.3f (%.3f)\") % (results.mean(), results.std())\n",
        "print(\"Accuracy=\",results[\"test_accuracy\"].mean(),results[\"test_accuracy\"].std())\n",
        "print(\"F1_score=\",results[\"test_f1_weighted\"].mean(),results[\"test_f1_weighted\"].std())\n",
        "print(\"Precision=\",results[\"test_precision\"].mean(),results[\"test_precision\"].std())\n",
        "print(\"Recall=\",results[\"test_recall\"].mean(),results[\"test_recall\"].std())"
      ],
      "execution_count": 0,
      "outputs": [
        {
          "output_type": "stream",
          "text": [
            "Accuracy= 0.5482456140350878 0.061026410985705555\n",
            "F1_score= 0.5417340289871386 0.06390722001456284\n",
            "Precision= 0.559782704966272 0.06500525444593773\n",
            "Recall= 0.5508771929824561 0.08943927787039217\n"
          ],
          "name": "stdout"
        }
      ]
    },
    {
      "cell_type": "code",
      "metadata": {
        "id": "-_z1Ax7FAAMn",
        "colab_type": "code",
        "colab": {}
      },
      "source": [
        ""
      ],
      "execution_count": 0,
      "outputs": []
    },
    {
      "cell_type": "code",
      "metadata": {
        "id": "LV-lfP7_AAYQ",
        "colab_type": "code",
        "outputId": "664f4c85-f8dc-4b4c-9493-8deed893e21d",
        "colab": {
          "base_uri": "https://localhost:8080/",
          "height": 445
        }
      },
      "source": [
        "#........................Ridge..........\n",
        "from sklearn.naive_bayes import BernoulliNB, MultinomialNB\n",
        "from sklearn.model_selection import cross_validate\n",
        "model = RidgeClassifier(tol=1e-2, solver=\"sag\")\n",
        "scoring = ['accuracy','precision','recall','f1_weighted']\n",
        "#results = cross_val_score(model, X, Y, cv=kfold, scoring=scoring)\n",
        "results = cross_validate(model, X, Y, cv=kfold, scoring=scoring)\n",
        "#print(\"Accuracy: %.3f (%.3f)\") % (results.mean(), results.std())\n",
        "print(\"Accuracy=\",results[\"test_accuracy\"].mean(),results[\"test_accuracy\"].std())\n",
        "print(\"F1_score=\",results[\"test_f1_weighted\"].mean(),results[\"test_f1_weighted\"].std())\n",
        "print(\"Precision=\",results[\"test_precision\"].mean(),results[\"test_precision\"].std())\n",
        "print(\"Recall=\",results[\"test_recall\"].mean(),results[\"test_recall\"].std())"
      ],
      "execution_count": 0,
      "outputs": [
        {
          "output_type": "stream",
          "text": [
            "/usr/local/lib/python3.6/dist-packages/sklearn/linear_model/_ridge.py:558: UserWarning: \"sag\" solver requires many iterations to fit an intercept with sparse inputs. Either set the solver to \"auto\" or \"sparse_cg\", or set a low \"tol\" and a high \"max_iter\" (especially if inputs are not standardized).\n",
            "  '\"sag\" solver requires many iterations to fit '\n",
            "/usr/local/lib/python3.6/dist-packages/sklearn/linear_model/_ridge.py:558: UserWarning: \"sag\" solver requires many iterations to fit an intercept with sparse inputs. Either set the solver to \"auto\" or \"sparse_cg\", or set a low \"tol\" and a high \"max_iter\" (especially if inputs are not standardized).\n",
            "  '\"sag\" solver requires many iterations to fit '\n",
            "/usr/local/lib/python3.6/dist-packages/sklearn/linear_model/_ridge.py:558: UserWarning: \"sag\" solver requires many iterations to fit an intercept with sparse inputs. Either set the solver to \"auto\" or \"sparse_cg\", or set a low \"tol\" and a high \"max_iter\" (especially if inputs are not standardized).\n",
            "  '\"sag\" solver requires many iterations to fit '\n",
            "/usr/local/lib/python3.6/dist-packages/sklearn/linear_model/_ridge.py:558: UserWarning: \"sag\" solver requires many iterations to fit an intercept with sparse inputs. Either set the solver to \"auto\" or \"sparse_cg\", or set a low \"tol\" and a high \"max_iter\" (especially if inputs are not standardized).\n",
            "  '\"sag\" solver requires many iterations to fit '\n",
            "/usr/local/lib/python3.6/dist-packages/sklearn/linear_model/_ridge.py:558: UserWarning: \"sag\" solver requires many iterations to fit an intercept with sparse inputs. Either set the solver to \"auto\" or \"sparse_cg\", or set a low \"tol\" and a high \"max_iter\" (especially if inputs are not standardized).\n",
            "  '\"sag\" solver requires many iterations to fit '\n",
            "/usr/local/lib/python3.6/dist-packages/sklearn/linear_model/_ridge.py:558: UserWarning: \"sag\" solver requires many iterations to fit an intercept with sparse inputs. Either set the solver to \"auto\" or \"sparse_cg\", or set a low \"tol\" and a high \"max_iter\" (especially if inputs are not standardized).\n",
            "  '\"sag\" solver requires many iterations to fit '\n",
            "/usr/local/lib/python3.6/dist-packages/sklearn/linear_model/_ridge.py:558: UserWarning: \"sag\" solver requires many iterations to fit an intercept with sparse inputs. Either set the solver to \"auto\" or \"sparse_cg\", or set a low \"tol\" and a high \"max_iter\" (especially if inputs are not standardized).\n",
            "  '\"sag\" solver requires many iterations to fit '\n",
            "/usr/local/lib/python3.6/dist-packages/sklearn/linear_model/_ridge.py:558: UserWarning: \"sag\" solver requires many iterations to fit an intercept with sparse inputs. Either set the solver to \"auto\" or \"sparse_cg\", or set a low \"tol\" and a high \"max_iter\" (especially if inputs are not standardized).\n",
            "  '\"sag\" solver requires many iterations to fit '\n"
          ],
          "name": "stderr"
        },
        {
          "output_type": "stream",
          "text": [
            "Accuracy= 0.5754385964912281 0.09437063724758478\n",
            "F1_score= 0.5605302344075321 0.10375288914335086\n",
            "Precision= 0.6059979318192484 0.10772814434622928\n",
            "Recall= 0.5868421052631578 0.1311953472664031\n"
          ],
          "name": "stdout"
        },
        {
          "output_type": "stream",
          "text": [
            "/usr/local/lib/python3.6/dist-packages/sklearn/linear_model/_ridge.py:558: UserWarning: \"sag\" solver requires many iterations to fit an intercept with sparse inputs. Either set the solver to \"auto\" or \"sparse_cg\", or set a low \"tol\" and a high \"max_iter\" (especially if inputs are not standardized).\n",
            "  '\"sag\" solver requires many iterations to fit '\n",
            "/usr/local/lib/python3.6/dist-packages/sklearn/linear_model/_ridge.py:558: UserWarning: \"sag\" solver requires many iterations to fit an intercept with sparse inputs. Either set the solver to \"auto\" or \"sparse_cg\", or set a low \"tol\" and a high \"max_iter\" (especially if inputs are not standardized).\n",
            "  '\"sag\" solver requires many iterations to fit '\n"
          ],
          "name": "stderr"
        }
      ]
    },
    {
      "cell_type": "code",
      "metadata": {
        "id": "yc7PsS0nAO6o",
        "colab_type": "code",
        "colab": {}
      },
      "source": [
        ""
      ],
      "execution_count": 0,
      "outputs": []
    },
    {
      "cell_type": "code",
      "metadata": {
        "id": "VWvGdrVNAPFQ",
        "colab_type": "code",
        "outputId": "d7b93e5c-e39d-4da4-c890-5020d98dbf1f",
        "colab": {
          "base_uri": "https://localhost:8080/",
          "height": 85
        }
      },
      "source": [
        "#........................RC..........\n",
        "from sklearn.naive_bayes import BernoulliNB, MultinomialNB\n",
        "from sklearn.model_selection import cross_validate\n",
        "model = NearestCentroid()\n",
        "scoring = ['accuracy','precision','recall','f1_weighted']\n",
        "#results = cross_val_score(model, X, Y, cv=kfold, scoring=scoring)\n",
        "results = cross_validate(model, X, Y, cv=kfold, scoring=scoring)\n",
        "#print(\"Accuracy: %.3f (%.3f)\") % (results.mean(), results.std())\n",
        "print(\"Accuracy=\",results[\"test_accuracy\"].mean(),results[\"test_accuracy\"].std())\n",
        "print(\"F1_score=\",results[\"test_f1_weighted\"].mean(),results[\"test_f1_weighted\"].std())\n",
        "print(\"Precision=\",results[\"test_precision\"].mean(),results[\"test_precision\"].std())\n",
        "print(\"Recall=\",results[\"test_recall\"].mean(),results[\"test_recall\"].std())"
      ],
      "execution_count": 0,
      "outputs": [
        {
          "output_type": "stream",
          "text": [
            "Accuracy= 0.6201754385964913 0.12902790181190804\n",
            "F1_score= 0.5978813859969437 0.14613300473121008\n",
            "Precision= 0.6647754383056655 0.14546796673822454\n",
            "Recall= 0.6166666666666668 0.1916240066539971\n"
          ],
          "name": "stdout"
        }
      ]
    },
    {
      "cell_type": "code",
      "metadata": {
        "id": "R3u9wKz6AvOc",
        "colab_type": "code",
        "colab": {}
      },
      "source": [
        ""
      ],
      "execution_count": 0,
      "outputs": []
    },
    {
      "cell_type": "code",
      "metadata": {
        "id": "AmTPjv3NAzDU",
        "colab_type": "code",
        "outputId": "5b3bea82-7ca4-455c-fd16-bb9505ff7000",
        "colab": {
          "base_uri": "https://localhost:8080/",
          "height": 85
        }
      },
      "source": [
        "#........................PA..........\n",
        "from sklearn.naive_bayes import BernoulliNB, MultinomialNB\n",
        "from sklearn.model_selection import cross_validate\n",
        "model = PassiveAggressiveClassifier(max_iter=50, tol=1e-3)\n",
        "scoring = ['accuracy','precision','recall','f1_weighted']\n",
        "#results = cross_val_score(model, X, Y, cv=kfold, scoring=scoring)\n",
        "results = cross_validate(model, X, Y, cv=kfold, scoring=scoring)\n",
        "#print(\"Accuracy: %.3f (%.3f)\") % (results.mean(), results.std())\n",
        "print(\"Accuracy=\",results[\"test_accuracy\"].mean(),results[\"test_accuracy\"].std())\n",
        "print(\"F1_score=\",results[\"test_f1_weighted\"].mean(),results[\"test_f1_weighted\"].std())\n",
        "print(\"Precision=\",results[\"test_precision\"].mean(),results[\"test_precision\"].std())\n",
        "print(\"Recall=\",results[\"test_recall\"].mean(),results[\"test_recall\"].std())"
      ],
      "execution_count": 0,
      "outputs": [
        {
          "output_type": "stream",
          "text": [
            "Accuracy= 0.5557017543859649 0.06286022689727665\n",
            "F1_score= 0.5480225329898447 0.06570714534183252\n",
            "Precision= 0.5749680354767821 0.07572744323180547\n",
            "Recall= 0.55 0.08040085016141918\n"
          ],
          "name": "stdout"
        }
      ]
    },
    {
      "cell_type": "code",
      "metadata": {
        "id": "cQ00ODs3A4zW",
        "colab_type": "code",
        "colab": {}
      },
      "source": [
        "#........................BPN..........\n",
        "from sklearn.naive_bayes import BernoulliNB, MultinomialNB\n",
        "from sklearn.model_selection import cross_validate\n",
        "model = MLPClassifier()\n",
        "scoring = ['accuracy','precision','recall','f1_weighted']\n",
        "#results = cross_val_score(model, X, Y, cv=kfold, scoring=scoring)\n",
        "results = cross_validate(model, X, Y, cv=kfold, scoring=scoring)\n",
        "#print(\"Accuracy: %.3f (%.3f)\") % (results.mean(), results.std())\n",
        "print(\"Accuracy=\",results[\"test_accuracy\"].mean(),results[\"test_accuracy\"].std())\n",
        "print(\"F1_score=\",results[\"test_f1_weighted\"].mean(),results[\"test_f1_weighted\"].std())\n",
        "print(\"Precision=\",results[\"test_precision\"].mean(),results[\"test_precision\"].std())\n",
        "print(\"Recall=\",results[\"test_recall\"].mean(),results[\"test_recall\"].std())"
      ],
      "execution_count": 0,
      "outputs": []
    },
    {
      "cell_type": "code",
      "metadata": {
        "id": "RPvxWMYQJ1cS",
        "colab_type": "code",
        "colab": {}
      },
      "source": [
        "#.......................END.........................."
      ],
      "execution_count": 0,
      "outputs": []
    }
  ]
}